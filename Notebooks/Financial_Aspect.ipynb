{
 "cells": [
  {
   "cell_type": "code",
   "execution_count": 310,
   "metadata": {},
   "outputs": [],
   "source": [
    "from pathlib import Path\n",
    "import pandas as pd \n",
    "import plotly.express as px"
   ]
  },
  {
   "cell_type": "code",
   "execution_count": 311,
   "metadata": {},
   "outputs": [
    {
     "data": {
      "text/plain": [
       "'C:\\\\Users\\\\fazle\\\\Desktop\\\\Bootcamp files'"
      ]
     },
     "execution_count": 311,
     "metadata": {},
     "output_type": "execute_result"
    }
   ],
   "source": [
    "pwd"
   ]
  },
  {
   "cell_type": "code",
   "execution_count": 312,
   "metadata": {},
   "outputs": [
    {
     "name": "stdout",
     "output_type": "stream",
     "text": [
      "[WinError 2] The system cannot find the file specified: 'Desktop'\n",
      "C:\\Users\\fazle\\Desktop\\Bootcamp files\n"
     ]
    }
   ],
   "source": [
    "cd Desktop"
   ]
  },
  {
   "cell_type": "code",
   "execution_count": 313,
   "metadata": {},
   "outputs": [
    {
     "name": "stdout",
     "output_type": "stream",
     "text": [
      "[WinError 2] The system cannot find the file specified: 'Bootcamp files'\n",
      "C:\\Users\\fazle\\Desktop\\Bootcamp files\n"
     ]
    }
   ],
   "source": [
    "cd Bootcamp files"
   ]
  },
  {
   "cell_type": "code",
   "execution_count": 314,
   "metadata": {},
   "outputs": [
    {
     "name": "stdout",
     "output_type": "stream",
     "text": [
      " Volume in drive C is Windows\n",
      " Volume Serial Number is 8E7C-A34A\n",
      "\n",
      " Directory of C:\\Users\\fazle\\Desktop\\Bootcamp files\n",
      "\n",
      "01/19/2021  09:39 PM    <DIR>          .\n",
      "01/19/2021  09:39 PM    <DIR>          ..\n",
      "01/19/2021  01:11 AM    <DIR>          .ipynb_checkpoints\n",
      "10/01/2020  07:51 PM    <DIR>          01-terminal-01\n",
      "09/29/2020  06:48 PM             1,870 03-Python-Pandas_1_Activities_03-condition-control-flow-01_Unsolved_condition-control-flow-01.py\n",
      "10/01/2020  07:52 PM    <DIR>          cu-nyc-fin-pt-09-2020-u-c-master\n",
      "09/29/2020  06:12 PM       114,073,964 cu-nyc-fin-pt-09-2020-u-c-master.zip\n",
      "01/19/2021  09:39 PM             2,716 Current Health Expenditure Per Capita.csv\n",
      "01/19/2021  03:34 AM             2,024 GDP Per Capita.csv\n",
      "09/24/2020  08:18 PM    <DIR>          Notes or Slides\n",
      "01/16/2021  02:00 PM           245,562 pneumonia-death-rates-age-standardized.csv\n",
      "11/19/2020  09:58 AM    <DIR>          Project-1\n",
      "10/01/2020  06:32 PM    <DIR>          Untitled Folder\n",
      "               5 File(s)    114,326,136 bytes\n",
      "               8 Dir(s)  299,104,301,056 bytes free\n"
     ]
    }
   ],
   "source": [
    "ls"
   ]
  },
  {
   "cell_type": "code",
   "execution_count": 315,
   "metadata": {},
   "outputs": [
    {
     "data": {
      "text/plain": [
       "'C:\\\\Users\\\\fazle\\\\Desktop\\\\Bootcamp files'"
      ]
     },
     "execution_count": 315,
     "metadata": {},
     "output_type": "execute_result"
    }
   ],
   "source": [
    "pwd"
   ]
  },
  {
   "cell_type": "code",
   "execution_count": 316,
   "metadata": {},
   "outputs": [
    {
     "data": {
      "text/html": [
       "<div>\n",
       "<style scoped>\n",
       "    .dataframe tbody tr th:only-of-type {\n",
       "        vertical-align: middle;\n",
       "    }\n",
       "\n",
       "    .dataframe tbody tr th {\n",
       "        vertical-align: top;\n",
       "    }\n",
       "\n",
       "    .dataframe thead th {\n",
       "        text-align: right;\n",
       "    }\n",
       "</style>\n",
       "<table border=\"1\" class=\"dataframe\">\n",
       "  <thead>\n",
       "    <tr style=\"text-align: right;\">\n",
       "      <th></th>\n",
       "      <th>Entity</th>\n",
       "      <th>Code</th>\n",
       "      <th>Year</th>\n",
       "      <th>Deaths - Lower respiratory infections - Sex: Both - Age: Age-standardized (Rate)</th>\n",
       "    </tr>\n",
       "  </thead>\n",
       "  <tbody>\n",
       "    <tr>\n",
       "      <th>0</th>\n",
       "      <td>Afghanistan</td>\n",
       "      <td>AFG</td>\n",
       "      <td>1990</td>\n",
       "      <td>164.811829</td>\n",
       "    </tr>\n",
       "    <tr>\n",
       "      <th>1</th>\n",
       "      <td>Afghanistan</td>\n",
       "      <td>AFG</td>\n",
       "      <td>1991</td>\n",
       "      <td>151.460290</td>\n",
       "    </tr>\n",
       "    <tr>\n",
       "      <th>2</th>\n",
       "      <td>Afghanistan</td>\n",
       "      <td>AFG</td>\n",
       "      <td>1992</td>\n",
       "      <td>127.896225</td>\n",
       "    </tr>\n",
       "    <tr>\n",
       "      <th>3</th>\n",
       "      <td>Afghanistan</td>\n",
       "      <td>AFG</td>\n",
       "      <td>1993</td>\n",
       "      <td>124.725141</td>\n",
       "    </tr>\n",
       "    <tr>\n",
       "      <th>4</th>\n",
       "      <td>Afghanistan</td>\n",
       "      <td>AFG</td>\n",
       "      <td>1994</td>\n",
       "      <td>134.410918</td>\n",
       "    </tr>\n",
       "  </tbody>\n",
       "</table>\n",
       "</div>"
      ],
      "text/plain": [
       "        Entity Code  Year  \\\n",
       "0  Afghanistan  AFG  1990   \n",
       "1  Afghanistan  AFG  1991   \n",
       "2  Afghanistan  AFG  1992   \n",
       "3  Afghanistan  AFG  1993   \n",
       "4  Afghanistan  AFG  1994   \n",
       "\n",
       "   Deaths - Lower respiratory infections - Sex: Both - Age: Age-standardized (Rate)  \n",
       "0                                         164.811829                                 \n",
       "1                                         151.460290                                 \n",
       "2                                         127.896225                                 \n",
       "3                                         124.725141                                 \n",
       "4                                         134.410918                                 "
      ]
     },
     "execution_count": 316,
     "metadata": {},
     "output_type": "execute_result"
    }
   ],
   "source": [
    "# Read Data \n",
    "World_data = pd.read_csv('pneumonia-death-rates-age-standardized.csv')\n",
    "World_data.head()"
   ]
  },
  {
   "cell_type": "code",
   "execution_count": 317,
   "metadata": {},
   "outputs": [
    {
     "data": {
      "text/html": [
       "<div>\n",
       "<style scoped>\n",
       "    .dataframe tbody tr th:only-of-type {\n",
       "        vertical-align: middle;\n",
       "    }\n",
       "\n",
       "    .dataframe tbody tr th {\n",
       "        vertical-align: top;\n",
       "    }\n",
       "\n",
       "    .dataframe thead th {\n",
       "        text-align: right;\n",
       "    }\n",
       "</style>\n",
       "<table border=\"1\" class=\"dataframe\">\n",
       "  <thead>\n",
       "    <tr style=\"text-align: right;\">\n",
       "      <th></th>\n",
       "      <th>Entity</th>\n",
       "      <th>Code</th>\n",
       "      <th>Year</th>\n",
       "      <th>Deaths - Lower respiratory infections - Sex: Both - Age: Age-standardized (Rate)</th>\n",
       "    </tr>\n",
       "  </thead>\n",
       "  <tbody>\n",
       "    <tr>\n",
       "      <th>27</th>\n",
       "      <td>Afghanistan</td>\n",
       "      <td>AFG</td>\n",
       "      <td>2017</td>\n",
       "      <td>69.130715</td>\n",
       "    </tr>\n",
       "    <tr>\n",
       "      <th>55</th>\n",
       "      <td>Albania</td>\n",
       "      <td>ALB</td>\n",
       "      <td>2017</td>\n",
       "      <td>12.152588</td>\n",
       "    </tr>\n",
       "    <tr>\n",
       "      <th>83</th>\n",
       "      <td>Algeria</td>\n",
       "      <td>DZA</td>\n",
       "      <td>2017</td>\n",
       "      <td>15.524824</td>\n",
       "    </tr>\n",
       "    <tr>\n",
       "      <th>111</th>\n",
       "      <td>American Samoa</td>\n",
       "      <td>ASM</td>\n",
       "      <td>2017</td>\n",
       "      <td>39.843252</td>\n",
       "    </tr>\n",
       "    <tr>\n",
       "      <th>139</th>\n",
       "      <td>Andean Latin America</td>\n",
       "      <td>NaN</td>\n",
       "      <td>2017</td>\n",
       "      <td>49.311102</td>\n",
       "    </tr>\n",
       "  </tbody>\n",
       "</table>\n",
       "</div>"
      ],
      "text/plain": [
       "                   Entity Code  Year  \\\n",
       "27            Afghanistan  AFG  2017   \n",
       "55                Albania  ALB  2017   \n",
       "83                Algeria  DZA  2017   \n",
       "111        American Samoa  ASM  2017   \n",
       "139  Andean Latin America  NaN  2017   \n",
       "\n",
       "     Deaths - Lower respiratory infections - Sex: Both - Age: Age-standardized (Rate)  \n",
       "27                                           69.130715                                 \n",
       "55                                           12.152588                                 \n",
       "83                                           15.524824                                 \n",
       "111                                          39.843252                                 \n",
       "139                                          49.311102                                 "
      ]
     },
     "execution_count": 317,
     "metadata": {},
     "output_type": "execute_result"
    }
   ],
   "source": [
    "# Data for year 2017\n",
    "df_2017 = World_data.loc[World_data['Year']  == 2017]\n",
    "df_2017.head()"
   ]
  },
  {
   "cell_type": "code",
   "execution_count": 318,
   "metadata": {},
   "outputs": [],
   "source": [
    "# Visualize data\n",
    "fig = px.choropleth(df_2017, locations=\"Code\",\n",
    "                    color=\"Deaths - Lower respiratory infections - Sex: Both - Age: Age-standardized (Rate)\", \n",
    "                    hover_name=\"Entity\", title = \"Death Rate from Pneumonia 2017 (per 100,000)\",\n",
    "                    color_continuous_scale=px.colors.sequential.Plasma)"
   ]
  },
  {
   "cell_type": "code",
   "execution_count": 319,
   "metadata": {},
   "outputs": [
    {
     "data": {
      "application/vnd.plotly.v1+json": {
       "config": {
        "plotlyServerURL": "https://plot.ly"
       },
       "data": [
        {
         "coloraxis": "coloraxis",
         "geo": "geo",
         "hovertemplate": "<b>%{hovertext}</b><br><br>Code=%{location}<br>Deaths - Lower respiratory infections - Sex: Both - Age: Age-standardized (Rate)=%{z}<extra></extra>",
         "hovertext": [
          "Afghanistan",
          "Albania",
          "Algeria",
          "American Samoa",
          "Andean Latin America",
          "Andorra",
          "Angola",
          "Antigua and Barbuda",
          "Argentina",
          "Armenia",
          "Australasia",
          "Australia",
          "Austria",
          "Azerbaijan",
          "Bahamas",
          "Bahrain",
          "Bangladesh",
          "Barbados",
          "Belarus",
          "Belgium",
          "Belize",
          "Benin",
          "Bermuda",
          "Bhutan",
          "Bolivia",
          "Bosnia and Herzegovina",
          "Botswana",
          "Brazil",
          "Brunei",
          "Bulgaria",
          "Burkina Faso",
          "Burundi",
          "Cambodia",
          "Cameroon",
          "Canada",
          "Cape Verde",
          "Caribbean",
          "Central African Republic",
          "Central Asia",
          "Central Europe",
          "Central Europe, Eastern Europe, and Central Asia",
          "Central Latin America",
          "Central Sub-Saharan Africa",
          "Chad",
          "Chile",
          "China",
          "Colombia",
          "Comoros",
          "Congo",
          "Costa Rica",
          "Cote d'Ivoire",
          "Croatia",
          "Cuba",
          "Cyprus",
          "Czechia",
          "Democratic Republic of Congo",
          "Denmark",
          "Djibouti",
          "Dominica",
          "Dominican Republic",
          "East Asia",
          "Eastern Europe",
          "Eastern Sub-Saharan Africa",
          "Ecuador",
          "Egypt",
          "El Salvador",
          "England",
          "Equatorial Guinea",
          "Eritrea",
          "Estonia",
          "Eswatini",
          "Ethiopia",
          "Fiji",
          "Finland",
          "France",
          "Gabon",
          "Gambia",
          "Georgia",
          "Germany",
          "Ghana",
          "Greece",
          "Greenland",
          "Grenada",
          "Guam",
          "Guatemala",
          "Guinea",
          "Guinea-Bissau",
          "Guyana",
          "Haiti",
          "High SDI",
          "High-income",
          "High-income Asia Pacific",
          "High-middle SDI",
          "Honduras",
          "Hungary",
          "Iceland",
          "India",
          "Indonesia",
          "Iran",
          "Iraq",
          "Ireland",
          "Israel",
          "Italy",
          "Jamaica",
          "Japan",
          "Jordan",
          "Kazakhstan",
          "Kenya",
          "Kiribati",
          "Kuwait",
          "Kyrgyzstan",
          "Laos",
          "Latin America and Caribbean",
          "Latvia",
          "Lebanon",
          "Lesotho",
          "Liberia",
          "Libya",
          "Lithuania",
          "Low SDI",
          "Low-middle SDI",
          "Luxembourg",
          "Madagascar",
          "Malawi",
          "Malaysia",
          "Maldives",
          "Mali",
          "Malta",
          "Marshall Islands",
          "Mauritania",
          "Mauritius",
          "Mexico",
          "Micronesia (country)",
          "Middle SDI",
          "Moldova",
          "Mongolia",
          "Montenegro",
          "Morocco",
          "Mozambique",
          "Myanmar",
          "Namibia",
          "Nepal",
          "Netherlands",
          "New Zealand",
          "Nicaragua",
          "Niger",
          "Nigeria",
          "North Africa and Middle East",
          "North America",
          "North Korea",
          "North Macedonia",
          "Northern Ireland",
          "Northern Mariana Islands",
          "Norway",
          "Oceania",
          "Oman",
          "Pakistan",
          "Palestine",
          "Panama",
          "Papua New Guinea",
          "Paraguay",
          "Peru",
          "Philippines",
          "Poland",
          "Portugal",
          "Puerto Rico",
          "Qatar",
          "Romania",
          "Russia",
          "Rwanda",
          "Saint Lucia",
          "Saint Vincent and the Grenadines",
          "Samoa",
          "Sao Tome and Principe",
          "Saudi Arabia",
          "Scotland",
          "Senegal",
          "Serbia",
          "Seychelles",
          "Sierra Leone",
          "Singapore",
          "Slovakia",
          "Slovenia",
          "Solomon Islands",
          "Somalia",
          "South Africa",
          "South Asia",
          "South Korea",
          "South Sudan",
          "Southeast Asia",
          "Southeast Asia, East Asia, and Oceania",
          "Southern Latin America",
          "Southern Sub-Saharan Africa",
          "Spain",
          "Sri Lanka",
          "Sub-Saharan Africa",
          "Sudan",
          "Suriname",
          "Sweden",
          "Switzerland",
          "Syria",
          "Taiwan",
          "Tajikistan",
          "Tanzania",
          "Thailand",
          "Timor",
          "Togo",
          "Tonga",
          "Trinidad and Tobago",
          "Tropical Latin America",
          "Tunisia",
          "Turkey",
          "Turkmenistan",
          "Uganda",
          "Ukraine",
          "United Arab Emirates",
          "United Kingdom",
          "United States",
          "United States Virgin Islands",
          "Uruguay",
          "Uzbekistan",
          "Vanuatu",
          "Venezuela",
          "Vietnam",
          "Wales",
          "Western Europe",
          "Western Sub-Saharan Africa",
          "World",
          "Yemen",
          "Zambia",
          "Zimbabwe"
         ],
         "locations": [
          "AFG",
          "ALB",
          "DZA",
          "ASM",
          null,
          "AND",
          "AGO",
          "ATG",
          "ARG",
          "ARM",
          null,
          "AUS",
          "AUT",
          "AZE",
          "BHS",
          "BHR",
          "BGD",
          "BRB",
          "BLR",
          "BEL",
          "BLZ",
          "BEN",
          "BMU",
          "BTN",
          "BOL",
          "BIH",
          "BWA",
          "BRA",
          "BRN",
          "BGR",
          "BFA",
          "BDI",
          "KHM",
          "CMR",
          "CAN",
          "CPV",
          null,
          "CAF",
          null,
          null,
          null,
          null,
          null,
          "TCD",
          "CHL",
          "CHN",
          "COL",
          "COM",
          "COG",
          "CRI",
          "CIV",
          "HRV",
          "CUB",
          "CYP",
          "CZE",
          "COD",
          "DNK",
          "DJI",
          "DMA",
          "DOM",
          null,
          null,
          null,
          "ECU",
          "EGY",
          "SLV",
          null,
          "GNQ",
          "ERI",
          "EST",
          "SWZ",
          "ETH",
          "FJI",
          "FIN",
          "FRA",
          "GAB",
          "GMB",
          "GEO",
          "DEU",
          "GHA",
          "GRC",
          "GRL",
          "GRD",
          "GUM",
          "GTM",
          "GIN",
          "GNB",
          "GUY",
          "HTI",
          null,
          null,
          null,
          null,
          "HND",
          "HUN",
          "ISL",
          "IND",
          "IDN",
          "IRN",
          "IRQ",
          "IRL",
          "ISR",
          "ITA",
          "JAM",
          "JPN",
          "JOR",
          "KAZ",
          "KEN",
          "KIR",
          "KWT",
          "KGZ",
          "LAO",
          null,
          "LVA",
          "LBN",
          "LSO",
          "LBR",
          "LBY",
          "LTU",
          null,
          null,
          "LUX",
          "MDG",
          "MWI",
          "MYS",
          "MDV",
          "MLI",
          "MLT",
          "MHL",
          "MRT",
          "MUS",
          "MEX",
          "FSM",
          null,
          "MDA",
          "MNG",
          "MNE",
          "MAR",
          "MOZ",
          "MMR",
          "NAM",
          "NPL",
          "NLD",
          "NZL",
          "NIC",
          "NER",
          "NGA",
          null,
          null,
          "PRK",
          "MKD",
          null,
          "MNP",
          "NOR",
          null,
          "OMN",
          "PAK",
          "PSE",
          "PAN",
          "PNG",
          "PRY",
          "PER",
          "PHL",
          "POL",
          "PRT",
          "PRI",
          "QAT",
          "ROU",
          "RUS",
          "RWA",
          "LCA",
          "VCT",
          "WSM",
          "STP",
          "SAU",
          null,
          "SEN",
          "SRB",
          "SYC",
          "SLE",
          "SGP",
          "SVK",
          "SVN",
          "SLB",
          "SOM",
          "ZAF",
          null,
          "KOR",
          "SSD",
          null,
          null,
          null,
          null,
          "ESP",
          "LKA",
          null,
          "SDN",
          "SUR",
          "SWE",
          "CHE",
          "SYR",
          "TWN",
          "TJK",
          "TZA",
          "THA",
          "TLS",
          "TGO",
          "TON",
          "TTO",
          null,
          "TUN",
          "TUR",
          "TKM",
          "UGA",
          "UKR",
          "ARE",
          "GBR",
          "USA",
          "VIR",
          "URY",
          "UZB",
          "VUT",
          "VEN",
          "VNM",
          null,
          null,
          null,
          "OWID_WRL",
          "YEM",
          "ZMB",
          "ZWE"
         ],
         "name": "",
         "type": "choropleth",
         "z": [
          69.13071516447097,
          12.152587503495539,
          15.524823744417956,
          39.843251734672904,
          49.311101601470426,
          18.1210816907016,
          92.21644210382792,
          35.068574979338045,
          56.333694126587275,
          14.916128398901336,
          8.913382574678328,
          9.071138937033249,
          4.587225584690617,
          39.250198011383326,
          33.038847543660886,
          18.809034432270533,
          32.49877941669104,
          38.73698576114473,
          8.313743848741826,
          19.68641753372665,
          42.90143576634046,
          107.91590119691601,
          13.131774268751357,
          30.379252078873247,
          65.03915155069133,
          7.179361467098991,
          58.984800940941454,
          40.05188178303347,
          39.963291107145686,
          12.954341436143904,
          126.89981118127945,
          121.52342855464838,
          97.39803768495494,
          116.02011750251465,
          11.578680450509644,
          49.760242116634906,
          38.308500594270896,
          158.9969727035181,
          31.14872666089689,
          14.54299935586756,
          21.229607275232105,
          22.15192045940838,
          107.55430822853629,
          148.4437073416655,
          19.76227627732143,
          12.968896871810527,
          15.099327721758618,
          86.36389461659985,
          96.59451435407705,
          10.60496300461948,
          117.34068084252114,
          6.427023522144831,
          29.07299006318829,
          9.351738815107328,
          15.661828012357855,
          111.62273045326715,
          18.23111893055491,
          79.51501977035093,
          36.63250966878521,
          25.29051512648977,
          13.764239771538513,
          16.620098033656596,
          93.74969110931808,
          36.413774353976315,
          33.55193219876039,
          43.20066202819126,
          23.936416892322143,
          70.24731924536194,
          124.49203079874636,
          9.192635011877774,
          97.87967455888727,
          79.33435254417995,
          49.71976813653497,
          5.057654295365262,
          10.980527025333792,
          76.55002231788879,
          112.0379285210428,
          14.433876786058704,
          11.422726332165599,
          114.90907842427605,
          14.405143186223812,
          26.6985581216004,
          50.07538388270125,
          31.305525915449948,
          81.44076797645393,
          143.76559492363046,
          129.38984344562616,
          45.846054893081494,
          75.0753549105481,
          15.690685341109265,
          16.862043224762086,
          21.62829154364411,
          18.24744775668814,
          15.890883229998266,
          5.650862974248493,
          14.798148661831707,
          52.497258450502294,
          26.570899137875124,
          15.390412392438133,
          10.386410987891653,
          17.59370439500277,
          17.848392151069394,
          7.114853870191225,
          16.83797796504976,
          22.155904612819505,
          18.11428305677346,
          21.929181975648046,
          93.61514343444271,
          57.29188150392808,
          28.695438536155113,
          14.240276963121927,
          69.69277778992442,
          33.481863484940966,
          11.196429885629868,
          13.903595976594756,
          120.10290329129671,
          90.83497787318666,
          20.98478634879536,
          13.876670554090405,
          73.98913047956925,
          53.95295744725979,
          13.357037211300595,
          117.14351650936636,
          91.6213689228252,
          112.90981317525991,
          11.054679882937856,
          60.936839039852885,
          19.04340980029989,
          66.34048045049283,
          83.33593901377374,
          22.745174097462648,
          19.82003554943482,
          51.415684354115974,
          26.42926684486959,
          21.870266134059197,
          21.812366851636014,
          7.613060946902273,
          21.611853889382292,
          95.9710788183154,
          59.33173670269647,
          74.07970845678949,
          43.355847313640965,
          16.396366287766295,
          8.137243446331425,
          16.280742063376238,
          119.90413047559198,
          92.92574979107961,
          23.797672607544843,
          15.420832535319086,
          27.5057025843108,
          5.629266865768144,
          26.077333485238942,
          28.86710670827217,
          15.27950426020172,
          96.59794733001574,
          26.64407743906825,
          35.081062802762744,
          22.594150022486467,
          22.63322706341889,
          113.23148811887323,
          26.545668910506894,
          51.43508833716402,
          126.0522128249836,
          15.882914423791444,
          24.587823129859014,
          21.79625885674016,
          18.802688605596767,
          21.690723669957496,
          17.730438113870715,
          93.22594955414878,
          28.731219804515014,
          34.538465205519074,
          40.90845324129955,
          114.02277048323394,
          28.640118541564245,
          23.298549000292702,
          86.64524757775807,
          10.301975267861094,
          79.015216261381,
          138.2487197555858,
          41.84535577806531,
          20.22993263416928,
          12.243464273530137,
          153.58778942656744,
          124.50705172393565,
          62.16391298401544,
          48.91992221953164,
          17.675013812132498,
          140.18424237450705,
          47.62366005676653,
          22.09964143584879,
          43.99793807546213,
          75.11804297931535,
          10.168879270143288,
          24.198747540784137,
          97.54691466743999,
          30.3975024743248,
          35.325157676527425,
          11.207462885144302,
          7.886846734917067,
          16.785643508097294,
          33.59103582115745,
          50.62770618395689,
          94.5612633050564,
          40.42401087915508,
          50.93469758619374,
          98.89138497282828,
          49.14542462575481,
          20.197686749792677,
          39.720270411191365,
          16.036592472818587,
          13.362738249949267,
          25.955258383598014,
          78.81358709042784,
          15.163170018974395,
          45.83255642818111,
          24.11005137878219,
          15.883860852656293,
          20.24645691358688,
          24.11213092331852,
          35.116941145850575,
          64.4546834632972,
          19.74587516803061,
          22.97805645193913,
          27.195254021904827,
          12.952910144118455,
          104.24860429833231,
          35.3957290840283,
          30.65679428070808,
          93.85563272969698,
          137.63300446732416
         ]
        }
       ],
       "layout": {
        "autosize": true,
        "coloraxis": {
         "colorbar": {
          "title": {
           "text": "Deaths - Lower respiratory infections - Sex: Both - Age: Age-standardized (Rate)"
          }
         },
         "colorscale": [
          [
           0,
           "#0d0887"
          ],
          [
           0.1111111111111111,
           "#46039f"
          ],
          [
           0.2222222222222222,
           "#7201a8"
          ],
          [
           0.3333333333333333,
           "#9c179e"
          ],
          [
           0.4444444444444444,
           "#bd3786"
          ],
          [
           0.5555555555555556,
           "#d8576b"
          ],
          [
           0.6666666666666666,
           "#ed7953"
          ],
          [
           0.7777777777777778,
           "#fb9f3a"
          ],
          [
           0.8888888888888888,
           "#fdca26"
          ],
          [
           1,
           "#f0f921"
          ]
         ]
        },
        "geo": {
         "center": {
          "lat": -32.2772305836698,
          "lon": 176.47931655391324
         },
         "domain": {
          "x": [
           0,
           1
          ],
          "y": [
           0,
           1
          ]
         },
         "projection": {
          "rotation": {
           "lon": 176.47931655391324
          },
          "scale": 0.3789291416275997
         }
        },
        "legend": {
         "tracegroupgap": 0
        },
        "template": {
         "data": {
          "bar": [
           {
            "error_x": {
             "color": "#2a3f5f"
            },
            "error_y": {
             "color": "#2a3f5f"
            },
            "marker": {
             "line": {
              "color": "#E5ECF6",
              "width": 0.5
             }
            },
            "type": "bar"
           }
          ],
          "barpolar": [
           {
            "marker": {
             "line": {
              "color": "#E5ECF6",
              "width": 0.5
             }
            },
            "type": "barpolar"
           }
          ],
          "carpet": [
           {
            "aaxis": {
             "endlinecolor": "#2a3f5f",
             "gridcolor": "white",
             "linecolor": "white",
             "minorgridcolor": "white",
             "startlinecolor": "#2a3f5f"
            },
            "baxis": {
             "endlinecolor": "#2a3f5f",
             "gridcolor": "white",
             "linecolor": "white",
             "minorgridcolor": "white",
             "startlinecolor": "#2a3f5f"
            },
            "type": "carpet"
           }
          ],
          "choropleth": [
           {
            "colorbar": {
             "outlinewidth": 0,
             "ticks": ""
            },
            "type": "choropleth"
           }
          ],
          "contour": [
           {
            "colorbar": {
             "outlinewidth": 0,
             "ticks": ""
            },
            "colorscale": [
             [
              0,
              "#0d0887"
             ],
             [
              0.1111111111111111,
              "#46039f"
             ],
             [
              0.2222222222222222,
              "#7201a8"
             ],
             [
              0.3333333333333333,
              "#9c179e"
             ],
             [
              0.4444444444444444,
              "#bd3786"
             ],
             [
              0.5555555555555556,
              "#d8576b"
             ],
             [
              0.6666666666666666,
              "#ed7953"
             ],
             [
              0.7777777777777778,
              "#fb9f3a"
             ],
             [
              0.8888888888888888,
              "#fdca26"
             ],
             [
              1,
              "#f0f921"
             ]
            ],
            "type": "contour"
           }
          ],
          "contourcarpet": [
           {
            "colorbar": {
             "outlinewidth": 0,
             "ticks": ""
            },
            "type": "contourcarpet"
           }
          ],
          "heatmap": [
           {
            "colorbar": {
             "outlinewidth": 0,
             "ticks": ""
            },
            "colorscale": [
             [
              0,
              "#0d0887"
             ],
             [
              0.1111111111111111,
              "#46039f"
             ],
             [
              0.2222222222222222,
              "#7201a8"
             ],
             [
              0.3333333333333333,
              "#9c179e"
             ],
             [
              0.4444444444444444,
              "#bd3786"
             ],
             [
              0.5555555555555556,
              "#d8576b"
             ],
             [
              0.6666666666666666,
              "#ed7953"
             ],
             [
              0.7777777777777778,
              "#fb9f3a"
             ],
             [
              0.8888888888888888,
              "#fdca26"
             ],
             [
              1,
              "#f0f921"
             ]
            ],
            "type": "heatmap"
           }
          ],
          "heatmapgl": [
           {
            "colorbar": {
             "outlinewidth": 0,
             "ticks": ""
            },
            "colorscale": [
             [
              0,
              "#0d0887"
             ],
             [
              0.1111111111111111,
              "#46039f"
             ],
             [
              0.2222222222222222,
              "#7201a8"
             ],
             [
              0.3333333333333333,
              "#9c179e"
             ],
             [
              0.4444444444444444,
              "#bd3786"
             ],
             [
              0.5555555555555556,
              "#d8576b"
             ],
             [
              0.6666666666666666,
              "#ed7953"
             ],
             [
              0.7777777777777778,
              "#fb9f3a"
             ],
             [
              0.8888888888888888,
              "#fdca26"
             ],
             [
              1,
              "#f0f921"
             ]
            ],
            "type": "heatmapgl"
           }
          ],
          "histogram": [
           {
            "marker": {
             "colorbar": {
              "outlinewidth": 0,
              "ticks": ""
             }
            },
            "type": "histogram"
           }
          ],
          "histogram2d": [
           {
            "colorbar": {
             "outlinewidth": 0,
             "ticks": ""
            },
            "colorscale": [
             [
              0,
              "#0d0887"
             ],
             [
              0.1111111111111111,
              "#46039f"
             ],
             [
              0.2222222222222222,
              "#7201a8"
             ],
             [
              0.3333333333333333,
              "#9c179e"
             ],
             [
              0.4444444444444444,
              "#bd3786"
             ],
             [
              0.5555555555555556,
              "#d8576b"
             ],
             [
              0.6666666666666666,
              "#ed7953"
             ],
             [
              0.7777777777777778,
              "#fb9f3a"
             ],
             [
              0.8888888888888888,
              "#fdca26"
             ],
             [
              1,
              "#f0f921"
             ]
            ],
            "type": "histogram2d"
           }
          ],
          "histogram2dcontour": [
           {
            "colorbar": {
             "outlinewidth": 0,
             "ticks": ""
            },
            "colorscale": [
             [
              0,
              "#0d0887"
             ],
             [
              0.1111111111111111,
              "#46039f"
             ],
             [
              0.2222222222222222,
              "#7201a8"
             ],
             [
              0.3333333333333333,
              "#9c179e"
             ],
             [
              0.4444444444444444,
              "#bd3786"
             ],
             [
              0.5555555555555556,
              "#d8576b"
             ],
             [
              0.6666666666666666,
              "#ed7953"
             ],
             [
              0.7777777777777778,
              "#fb9f3a"
             ],
             [
              0.8888888888888888,
              "#fdca26"
             ],
             [
              1,
              "#f0f921"
             ]
            ],
            "type": "histogram2dcontour"
           }
          ],
          "mesh3d": [
           {
            "colorbar": {
             "outlinewidth": 0,
             "ticks": ""
            },
            "type": "mesh3d"
           }
          ],
          "parcoords": [
           {
            "line": {
             "colorbar": {
              "outlinewidth": 0,
              "ticks": ""
             }
            },
            "type": "parcoords"
           }
          ],
          "pie": [
           {
            "automargin": true,
            "type": "pie"
           }
          ],
          "scatter": [
           {
            "marker": {
             "colorbar": {
              "outlinewidth": 0,
              "ticks": ""
             }
            },
            "type": "scatter"
           }
          ],
          "scatter3d": [
           {
            "line": {
             "colorbar": {
              "outlinewidth": 0,
              "ticks": ""
             }
            },
            "marker": {
             "colorbar": {
              "outlinewidth": 0,
              "ticks": ""
             }
            },
            "type": "scatter3d"
           }
          ],
          "scattercarpet": [
           {
            "marker": {
             "colorbar": {
              "outlinewidth": 0,
              "ticks": ""
             }
            },
            "type": "scattercarpet"
           }
          ],
          "scattergeo": [
           {
            "marker": {
             "colorbar": {
              "outlinewidth": 0,
              "ticks": ""
             }
            },
            "type": "scattergeo"
           }
          ],
          "scattergl": [
           {
            "marker": {
             "colorbar": {
              "outlinewidth": 0,
              "ticks": ""
             }
            },
            "type": "scattergl"
           }
          ],
          "scattermapbox": [
           {
            "marker": {
             "colorbar": {
              "outlinewidth": 0,
              "ticks": ""
             }
            },
            "type": "scattermapbox"
           }
          ],
          "scatterpolar": [
           {
            "marker": {
             "colorbar": {
              "outlinewidth": 0,
              "ticks": ""
             }
            },
            "type": "scatterpolar"
           }
          ],
          "scatterpolargl": [
           {
            "marker": {
             "colorbar": {
              "outlinewidth": 0,
              "ticks": ""
             }
            },
            "type": "scatterpolargl"
           }
          ],
          "scatterternary": [
           {
            "marker": {
             "colorbar": {
              "outlinewidth": 0,
              "ticks": ""
             }
            },
            "type": "scatterternary"
           }
          ],
          "surface": [
           {
            "colorbar": {
             "outlinewidth": 0,
             "ticks": ""
            },
            "colorscale": [
             [
              0,
              "#0d0887"
             ],
             [
              0.1111111111111111,
              "#46039f"
             ],
             [
              0.2222222222222222,
              "#7201a8"
             ],
             [
              0.3333333333333333,
              "#9c179e"
             ],
             [
              0.4444444444444444,
              "#bd3786"
             ],
             [
              0.5555555555555556,
              "#d8576b"
             ],
             [
              0.6666666666666666,
              "#ed7953"
             ],
             [
              0.7777777777777778,
              "#fb9f3a"
             ],
             [
              0.8888888888888888,
              "#fdca26"
             ],
             [
              1,
              "#f0f921"
             ]
            ],
            "type": "surface"
           }
          ],
          "table": [
           {
            "cells": {
             "fill": {
              "color": "#EBF0F8"
             },
             "line": {
              "color": "white"
             }
            },
            "header": {
             "fill": {
              "color": "#C8D4E3"
             },
             "line": {
              "color": "white"
             }
            },
            "type": "table"
           }
          ]
         },
         "layout": {
          "annotationdefaults": {
           "arrowcolor": "#2a3f5f",
           "arrowhead": 0,
           "arrowwidth": 1
          },
          "coloraxis": {
           "colorbar": {
            "outlinewidth": 0,
            "ticks": ""
           }
          },
          "colorscale": {
           "diverging": [
            [
             0,
             "#8e0152"
            ],
            [
             0.1,
             "#c51b7d"
            ],
            [
             0.2,
             "#de77ae"
            ],
            [
             0.3,
             "#f1b6da"
            ],
            [
             0.4,
             "#fde0ef"
            ],
            [
             0.5,
             "#f7f7f7"
            ],
            [
             0.6,
             "#e6f5d0"
            ],
            [
             0.7,
             "#b8e186"
            ],
            [
             0.8,
             "#7fbc41"
            ],
            [
             0.9,
             "#4d9221"
            ],
            [
             1,
             "#276419"
            ]
           ],
           "sequential": [
            [
             0,
             "#0d0887"
            ],
            [
             0.1111111111111111,
             "#46039f"
            ],
            [
             0.2222222222222222,
             "#7201a8"
            ],
            [
             0.3333333333333333,
             "#9c179e"
            ],
            [
             0.4444444444444444,
             "#bd3786"
            ],
            [
             0.5555555555555556,
             "#d8576b"
            ],
            [
             0.6666666666666666,
             "#ed7953"
            ],
            [
             0.7777777777777778,
             "#fb9f3a"
            ],
            [
             0.8888888888888888,
             "#fdca26"
            ],
            [
             1,
             "#f0f921"
            ]
           ],
           "sequentialminus": [
            [
             0,
             "#0d0887"
            ],
            [
             0.1111111111111111,
             "#46039f"
            ],
            [
             0.2222222222222222,
             "#7201a8"
            ],
            [
             0.3333333333333333,
             "#9c179e"
            ],
            [
             0.4444444444444444,
             "#bd3786"
            ],
            [
             0.5555555555555556,
             "#d8576b"
            ],
            [
             0.6666666666666666,
             "#ed7953"
            ],
            [
             0.7777777777777778,
             "#fb9f3a"
            ],
            [
             0.8888888888888888,
             "#fdca26"
            ],
            [
             1,
             "#f0f921"
            ]
           ]
          },
          "colorway": [
           "#636efa",
           "#EF553B",
           "#00cc96",
           "#ab63fa",
           "#FFA15A",
           "#19d3f3",
           "#FF6692",
           "#B6E880",
           "#FF97FF",
           "#FECB52"
          ],
          "font": {
           "color": "#2a3f5f"
          },
          "geo": {
           "bgcolor": "white",
           "lakecolor": "white",
           "landcolor": "#E5ECF6",
           "showlakes": true,
           "showland": true,
           "subunitcolor": "white"
          },
          "hoverlabel": {
           "align": "left"
          },
          "hovermode": "closest",
          "mapbox": {
           "style": "light"
          },
          "paper_bgcolor": "white",
          "plot_bgcolor": "#E5ECF6",
          "polar": {
           "angularaxis": {
            "gridcolor": "white",
            "linecolor": "white",
            "ticks": ""
           },
           "bgcolor": "#E5ECF6",
           "radialaxis": {
            "gridcolor": "white",
            "linecolor": "white",
            "ticks": ""
           }
          },
          "scene": {
           "xaxis": {
            "backgroundcolor": "#E5ECF6",
            "gridcolor": "white",
            "gridwidth": 2,
            "linecolor": "white",
            "showbackground": true,
            "ticks": "",
            "zerolinecolor": "white"
           },
           "yaxis": {
            "backgroundcolor": "#E5ECF6",
            "gridcolor": "white",
            "gridwidth": 2,
            "linecolor": "white",
            "showbackground": true,
            "ticks": "",
            "zerolinecolor": "white"
           },
           "zaxis": {
            "backgroundcolor": "#E5ECF6",
            "gridcolor": "white",
            "gridwidth": 2,
            "linecolor": "white",
            "showbackground": true,
            "ticks": "",
            "zerolinecolor": "white"
           }
          },
          "shapedefaults": {
           "line": {
            "color": "#2a3f5f"
           }
          },
          "ternary": {
           "aaxis": {
            "gridcolor": "white",
            "linecolor": "white",
            "ticks": ""
           },
           "baxis": {
            "gridcolor": "white",
            "linecolor": "white",
            "ticks": ""
           },
           "bgcolor": "#E5ECF6",
           "caxis": {
            "gridcolor": "white",
            "linecolor": "white",
            "ticks": ""
           }
          },
          "title": {
           "x": 0.05
          },
          "xaxis": {
           "automargin": true,
           "gridcolor": "white",
           "linecolor": "white",
           "ticks": "",
           "title": {
            "standoff": 15
           },
           "zerolinecolor": "white",
           "zerolinewidth": 2
          },
          "yaxis": {
           "automargin": true,
           "gridcolor": "white",
           "linecolor": "white",
           "ticks": "",
           "title": {
            "standoff": 15
           },
           "zerolinecolor": "white",
           "zerolinewidth": 2
          }
         }
        },
        "title": {
         "text": "Death Rate from Pneumonia 2017 (per 100,000)"
        }
       }
      },
      "image/png": "[encoded data removed]",
      "text/html": [
       "<div>                            <div id=\"914d8637-a441-4a8e-8340-80eccb2e0a48\" class=\"plotly-graph-div\" style=\"height:525px; width:100%;\"></div>            <script type=\"text/javascript\">                require([\"plotly\"], function(Plotly) {                    window.PLOTLYENV=window.PLOTLYENV || {};                                    if (document.getElementById(\"914d8637-a441-4a8e-8340-80eccb2e0a48\")) {                    Plotly.newPlot(                        \"914d8637-a441-4a8e-8340-80eccb2e0a48\",                        [{\"coloraxis\": \"coloraxis\", \"geo\": \"geo\", \"hovertemplate\": \"<b>%{hovertext}</b><br><br>Code=%{location}<br>Deaths - Lower respiratory infections - Sex: Both - Age: Age-standardized (Rate)=%{z}<extra></extra>\", \"hovertext\": [\"Afghanistan\", \"Albania\", \"Algeria\", \"American Samoa\", \"Andean Latin America\", \"Andorra\", \"Angola\", \"Antigua and Barbuda\", \"Argentina\", \"Armenia\", \"Australasia\", \"Australia\", \"Austria\", \"Azerbaijan\", \"Bahamas\", \"Bahrain\", \"Bangladesh\", \"Barbados\", \"Belarus\", \"Belgium\", \"Belize\", \"Benin\", \"Bermuda\", \"Bhutan\", \"Bolivia\", \"Bosnia and Herzegovina\", \"Botswana\", \"Brazil\", \"Brunei\", \"Bulgaria\", \"Burkina Faso\", \"Burundi\", \"Cambodia\", \"Cameroon\", \"Canada\", \"Cape Verde\", \"Caribbean\", \"Central African Republic\", \"Central Asia\", \"Central Europe\", \"Central Europe, Eastern Europe, and Central Asia\", \"Central Latin America\", \"Central Sub-Saharan Africa\", \"Chad\", \"Chile\", \"China\", \"Colombia\", \"Comoros\", \"Congo\", \"Costa Rica\", \"Cote d'Ivoire\", \"Croatia\", \"Cuba\", \"Cyprus\", \"Czechia\", \"Democratic Republic of Congo\", \"Denmark\", \"Djibouti\", \"Dominica\", \"Dominican Republic\", \"East Asia\", \"Eastern Europe\", \"Eastern Sub-Saharan Africa\", \"Ecuador\", \"Egypt\", \"El Salvador\", \"England\", \"Equatorial Guinea\", \"Eritrea\", \"Estonia\", \"Eswatini\", \"Ethiopia\", \"Fiji\", \"Finland\", \"France\", \"Gabon\", \"Gambia\", \"Georgia\", \"Germany\", \"Ghana\", \"Greece\", \"Greenland\", \"Grenada\", \"Guam\", \"Guatemala\", \"Guinea\", \"Guinea-Bissau\", \"Guyana\", \"Haiti\", \"High SDI\", \"High-income\", \"High-income Asia Pacific\", \"High-middle SDI\", \"Honduras\", \"Hungary\", \"Iceland\", \"India\", \"Indonesia\", \"Iran\", \"Iraq\", \"Ireland\", \"Israel\", \"Italy\", \"Jamaica\", \"Japan\", \"Jordan\", \"Kazakhstan\", \"Kenya\", \"Kiribati\", \"Kuwait\", \"Kyrgyzstan\", \"Laos\", \"Latin America and Caribbean\", \"Latvia\", \"Lebanon\", \"Lesotho\", \"Liberia\", \"Libya\", \"Lithuania\", \"Low SDI\", \"Low-middle SDI\", \"Luxembourg\", \"Madagascar\", \"Malawi\", \"Malaysia\", \"Maldives\", \"Mali\", \"Malta\", \"Marshall Islands\", \"Mauritania\", \"Mauritius\", \"Mexico\", \"Micronesia (country)\", \"Middle SDI\", \"Moldova\", \"Mongolia\", \"Montenegro\", \"Morocco\", \"Mozambique\", \"Myanmar\", \"Namibia\", \"Nepal\", \"Netherlands\", \"New Zealand\", \"Nicaragua\", \"Niger\", \"Nigeria\", \"North Africa and Middle East\", \"North America\", \"North Korea\", \"North Macedonia\", \"Northern Ireland\", \"Northern Mariana Islands\", \"Norway\", \"Oceania\", \"Oman\", \"Pakistan\", \"Palestine\", \"Panama\", \"Papua New Guinea\", \"Paraguay\", \"Peru\", \"Philippines\", \"Poland\", \"Portugal\", \"Puerto Rico\", \"Qatar\", \"Romania\", \"Russia\", \"Rwanda\", \"Saint Lucia\", \"Saint Vincent and the Grenadines\", \"Samoa\", \"Sao Tome and Principe\", \"Saudi Arabia\", \"Scotland\", \"Senegal\", \"Serbia\", \"Seychelles\", \"Sierra Leone\", \"Singapore\", \"Slovakia\", \"Slovenia\", \"Solomon Islands\", \"Somalia\", \"South Africa\", \"South Asia\", \"South Korea\", \"South Sudan\", \"Southeast Asia\", \"Southeast Asia, East Asia, and Oceania\", \"Southern Latin America\", \"Southern Sub-Saharan Africa\", \"Spain\", \"Sri Lanka\", \"Sub-Saharan Africa\", \"Sudan\", \"Suriname\", \"Sweden\", \"Switzerland\", \"Syria\", \"Taiwan\", \"Tajikistan\", \"Tanzania\", \"Thailand\", \"Timor\", \"Togo\", \"Tonga\", \"Trinidad and Tobago\", \"Tropical Latin America\", \"Tunisia\", \"Turkey\", \"Turkmenistan\", \"Uganda\", \"Ukraine\", \"United Arab Emirates\", \"United Kingdom\", \"United States\", \"United States Virgin Islands\", \"Uruguay\", \"Uzbekistan\", \"Vanuatu\", \"Venezuela\", \"Vietnam\", \"Wales\", \"Western Europe\", \"Western Sub-Saharan Africa\", \"World\", \"Yemen\", \"Zambia\", \"Zimbabwe\"], \"locations\": [\"AFG\", \"ALB\", \"DZA\", \"ASM\", null, \"AND\", \"AGO\", \"ATG\", \"ARG\", \"ARM\", null, \"AUS\", \"AUT\", \"AZE\", \"BHS\", \"BHR\", \"BGD\", \"BRB\", \"BLR\", \"BEL\", \"BLZ\", \"BEN\", \"BMU\", \"BTN\", \"BOL\", \"BIH\", \"BWA\", \"BRA\", \"BRN\", \"BGR\", \"BFA\", \"BDI\", \"KHM\", \"CMR\", \"CAN\", \"CPV\", null, \"CAF\", null, null, null, null, null, \"TCD\", \"CHL\", \"CHN\", \"COL\", \"COM\", \"COG\", \"CRI\", \"CIV\", \"HRV\", \"CUB\", \"CYP\", \"CZE\", \"COD\", \"DNK\", \"DJI\", \"DMA\", \"DOM\", null, null, null, \"ECU\", \"EGY\", \"SLV\", null, \"GNQ\", \"ERI\", \"EST\", \"SWZ\", \"ETH\", \"FJI\", \"FIN\", \"FRA\", \"GAB\", \"GMB\", \"GEO\", \"DEU\", \"GHA\", \"GRC\", \"GRL\", \"GRD\", \"GUM\", \"GTM\", \"GIN\", \"GNB\", \"GUY\", \"HTI\", null, null, null, null, \"HND\", \"HUN\", \"ISL\", \"IND\", \"IDN\", \"IRN\", \"IRQ\", \"IRL\", \"ISR\", \"ITA\", \"JAM\", \"JPN\", \"JOR\", \"KAZ\", \"KEN\", \"KIR\", \"KWT\", \"KGZ\", \"LAO\", null, \"LVA\", \"LBN\", \"LSO\", \"LBR\", \"LBY\", \"LTU\", null, null, \"LUX\", \"MDG\", \"MWI\", \"MYS\", \"MDV\", \"MLI\", \"MLT\", \"MHL\", \"MRT\", \"MUS\", \"MEX\", \"FSM\", null, \"MDA\", \"MNG\", \"MNE\", \"MAR\", \"MOZ\", \"MMR\", \"NAM\", \"NPL\", \"NLD\", \"NZL\", \"NIC\", \"NER\", \"NGA\", null, null, \"PRK\", \"MKD\", null, \"MNP\", \"NOR\", null, \"OMN\", \"PAK\", \"PSE\", \"PAN\", \"PNG\", \"PRY\", \"PER\", \"PHL\", \"POL\", \"PRT\", \"PRI\", \"QAT\", \"ROU\", \"RUS\", \"RWA\", \"LCA\", \"VCT\", \"WSM\", \"STP\", \"SAU\", null, \"SEN\", \"SRB\", \"SYC\", \"SLE\", \"SGP\", \"SVK\", \"SVN\", \"SLB\", \"SOM\", \"ZAF\", null, \"KOR\", \"SSD\", null, null, null, null, \"ESP\", \"LKA\", null, \"SDN\", \"SUR\", \"SWE\", \"CHE\", \"SYR\", \"TWN\", \"TJK\", \"TZA\", \"THA\", \"TLS\", \"TGO\", \"TON\", \"TTO\", null, \"TUN\", \"TUR\", \"TKM\", \"UGA\", \"UKR\", \"ARE\", \"GBR\", \"USA\", \"VIR\", \"URY\", \"UZB\", \"VUT\", \"VEN\", \"VNM\", null, null, null, \"OWID_WRL\", \"YEM\", \"ZMB\", \"ZWE\"], \"name\": \"\", \"type\": \"choropleth\", \"z\": [69.13071516447097, 12.152587503495539, 15.524823744417956, 39.843251734672904, 49.311101601470426, 18.1210816907016, 92.21644210382792, 35.068574979338045, 56.333694126587275, 14.916128398901336, 8.913382574678328, 9.071138937033249, 4.587225584690617, 39.250198011383326, 33.038847543660886, 18.809034432270533, 32.49877941669104, 38.73698576114473, 8.313743848741826, 19.68641753372665, 42.90143576634046, 107.91590119691601, 13.131774268751357, 30.379252078873247, 65.03915155069133, 7.179361467098991, 58.984800940941454, 40.05188178303347, 39.963291107145686, 12.954341436143904, 126.89981118127945, 121.52342855464838, 97.39803768495494, 116.02011750251465, 11.578680450509644, 49.760242116634906, 38.308500594270896, 158.9969727035181, 31.14872666089689, 14.54299935586756, 21.229607275232105, 22.15192045940838, 107.55430822853629, 148.4437073416655, 19.76227627732143, 12.968896871810527, 15.099327721758618, 86.36389461659985, 96.59451435407705, 10.60496300461948, 117.34068084252114, 6.427023522144831, 29.07299006318829, 9.351738815107328, 15.661828012357855, 111.62273045326715, 18.23111893055491, 79.51501977035093, 36.63250966878521, 25.29051512648977, 13.764239771538513, 16.620098033656596, 93.74969110931808, 36.413774353976315, 33.55193219876039, 43.20066202819126, 23.936416892322143, 70.24731924536194, 124.49203079874636, 9.192635011877774, 97.87967455888727, 79.33435254417995, 49.71976813653497, 5.057654295365262, 10.980527025333792, 76.55002231788879, 112.0379285210428, 14.433876786058704, 11.422726332165599, 114.90907842427605, 14.405143186223812, 26.6985581216004, 50.07538388270125, 31.305525915449948, 81.44076797645393, 143.76559492363046, 129.38984344562616, 45.846054893081494, 75.0753549105481, 15.690685341109265, 16.862043224762086, 21.62829154364411, 18.24744775668814, 15.890883229998266, 5.650862974248493, 14.798148661831707, 52.497258450502294, 26.570899137875124, 15.390412392438133, 10.386410987891653, 17.59370439500277, 17.848392151069394, 7.114853870191225, 16.83797796504976, 22.155904612819505, 18.11428305677346, 21.929181975648046, 93.61514343444271, 57.29188150392808, 28.695438536155113, 14.240276963121927, 69.69277778992442, 33.481863484940966, 11.196429885629868, 13.903595976594756, 120.10290329129671, 90.83497787318666, 20.98478634879536, 13.876670554090405, 73.98913047956925, 53.95295744725979, 13.357037211300595, 117.14351650936636, 91.6213689228252, 112.90981317525991, 11.054679882937856, 60.936839039852885, 19.04340980029989, 66.34048045049283, 83.33593901377374, 22.745174097462648, 19.82003554943482, 51.415684354115974, 26.42926684486959, 21.870266134059197, 21.812366851636014, 7.613060946902273, 21.611853889382292, 95.9710788183154, 59.33173670269647, 74.07970845678949, 43.355847313640965, 16.396366287766295, 8.137243446331425, 16.280742063376238, 119.90413047559198, 92.92574979107961, 23.797672607544843, 15.420832535319086, 27.5057025843108, 5.629266865768144, 26.077333485238942, 28.86710670827217, 15.27950426020172, 96.59794733001574, 26.64407743906825, 35.081062802762744, 22.594150022486467, 22.63322706341889, 113.23148811887323, 26.545668910506894, 51.43508833716402, 126.0522128249836, 15.882914423791444, 24.587823129859014, 21.79625885674016, 18.802688605596767, 21.690723669957496, 17.730438113870715, 93.22594955414878, 28.731219804515014, 34.538465205519074, 40.90845324129955, 114.02277048323394, 28.640118541564245, 23.298549000292702, 86.64524757775807, 10.301975267861094, 79.015216261381, 138.2487197555858, 41.84535577806531, 20.22993263416928, 12.243464273530137, 153.58778942656744, 124.50705172393565, 62.16391298401544, 48.91992221953164, 17.675013812132498, 140.18424237450705, 47.62366005676653, 22.09964143584879, 43.99793807546213, 75.11804297931535, 10.168879270143288, 24.198747540784137, 97.54691466743999, 30.3975024743248, 35.325157676527425, 11.207462885144302, 7.886846734917067, 16.785643508097294, 33.59103582115745, 50.62770618395689, 94.5612633050564, 40.42401087915508, 50.93469758619374, 98.89138497282828, 49.14542462575481, 20.197686749792677, 39.720270411191365, 16.036592472818587, 13.362738249949267, 25.955258383598014, 78.81358709042784, 15.163170018974395, 45.83255642818111, 24.11005137878219, 15.883860852656293, 20.24645691358688, 24.11213092331852, 35.116941145850575, 64.4546834632972, 19.74587516803061, 22.97805645193913, 27.195254021904827, 12.952910144118455, 104.24860429833231, 35.3957290840283, 30.65679428070808, 93.85563272969698, 137.63300446732416]}],                        {\"coloraxis\": {\"colorbar\": {\"title\": {\"text\": \"Deaths - Lower respiratory infections - Sex: Both - Age: Age-standardized (Rate)\"}}, \"colorscale\": [[0.0, \"#0d0887\"], [0.1111111111111111, \"#46039f\"], [0.2222222222222222, \"#7201a8\"], [0.3333333333333333, \"#9c179e\"], [0.4444444444444444, \"#bd3786\"], [0.5555555555555556, \"#d8576b\"], [0.6666666666666666, \"#ed7953\"], [0.7777777777777778, \"#fb9f3a\"], [0.8888888888888888, \"#fdca26\"], [1.0, \"#f0f921\"]]}, \"geo\": {\"center\": {}, \"domain\": {\"x\": [0.0, 1.0], \"y\": [0.0, 1.0]}}, \"legend\": {\"tracegroupgap\": 0}, \"template\": {\"data\": {\"bar\": [{\"error_x\": {\"color\": \"#2a3f5f\"}, \"error_y\": {\"color\": \"#2a3f5f\"}, \"marker\": {\"line\": {\"color\": \"#E5ECF6\", \"width\": 0.5}}, \"type\": \"bar\"}], \"barpolar\": [{\"marker\": {\"line\": {\"color\": \"#E5ECF6\", \"width\": 0.5}}, \"type\": \"barpolar\"}], \"carpet\": [{\"aaxis\": {\"endlinecolor\": \"#2a3f5f\", \"gridcolor\": \"white\", \"linecolor\": \"white\", \"minorgridcolor\": \"white\", \"startlinecolor\": \"#2a3f5f\"}, \"baxis\": {\"endlinecolor\": \"#2a3f5f\", \"gridcolor\": \"white\", \"linecolor\": \"white\", \"minorgridcolor\": \"white\", \"startlinecolor\": \"#2a3f5f\"}, \"type\": \"carpet\"}], \"choropleth\": [{\"colorbar\": {\"outlinewidth\": 0, \"ticks\": \"\"}, \"type\": \"choropleth\"}], \"contour\": [{\"colorbar\": {\"outlinewidth\": 0, \"ticks\": \"\"}, \"colorscale\": [[0.0, \"#0d0887\"], [0.1111111111111111, \"#46039f\"], [0.2222222222222222, \"#7201a8\"], [0.3333333333333333, \"#9c179e\"], [0.4444444444444444, \"#bd3786\"], [0.5555555555555556, \"#d8576b\"], [0.6666666666666666, \"#ed7953\"], [0.7777777777777778, \"#fb9f3a\"], [0.8888888888888888, \"#fdca26\"], [1.0, \"#f0f921\"]], \"type\": \"contour\"}], \"contourcarpet\": [{\"colorbar\": {\"outlinewidth\": 0, \"ticks\": \"\"}, \"type\": \"contourcarpet\"}], \"heatmap\": [{\"colorbar\": {\"outlinewidth\": 0, \"ticks\": \"\"}, \"colorscale\": [[0.0, \"#0d0887\"], [0.1111111111111111, \"#46039f\"], [0.2222222222222222, \"#7201a8\"], [0.3333333333333333, \"#9c179e\"], [0.4444444444444444, \"#bd3786\"], [0.5555555555555556, \"#d8576b\"], [0.6666666666666666, \"#ed7953\"], [0.7777777777777778, \"#fb9f3a\"], [0.8888888888888888, \"#fdca26\"], [1.0, \"#f0f921\"]], \"type\": \"heatmap\"}], \"heatmapgl\": [{\"colorbar\": {\"outlinewidth\": 0, \"ticks\": \"\"}, \"colorscale\": [[0.0, \"#0d0887\"], [0.1111111111111111, \"#46039f\"], [0.2222222222222222, \"#7201a8\"], [0.3333333333333333, \"#9c179e\"], [0.4444444444444444, \"#bd3786\"], [0.5555555555555556, \"#d8576b\"], [0.6666666666666666, \"#ed7953\"], [0.7777777777777778, \"#fb9f3a\"], [0.8888888888888888, \"#fdca26\"], [1.0, \"#f0f921\"]], \"type\": \"heatmapgl\"}], \"histogram\": [{\"marker\": {\"colorbar\": {\"outlinewidth\": 0, \"ticks\": \"\"}}, \"type\": \"histogram\"}], \"histogram2d\": [{\"colorbar\": {\"outlinewidth\": 0, \"ticks\": \"\"}, \"colorscale\": [[0.0, \"#0d0887\"], [0.1111111111111111, \"#46039f\"], [0.2222222222222222, \"#7201a8\"], [0.3333333333333333, \"#9c179e\"], [0.4444444444444444, \"#bd3786\"], [0.5555555555555556, \"#d8576b\"], [0.6666666666666666, \"#ed7953\"], [0.7777777777777778, \"#fb9f3a\"], [0.8888888888888888, \"#fdca26\"], [1.0, \"#f0f921\"]], \"type\": \"histogram2d\"}], \"histogram2dcontour\": [{\"colorbar\": {\"outlinewidth\": 0, \"ticks\": \"\"}, \"colorscale\": [[0.0, \"#0d0887\"], [0.1111111111111111, \"#46039f\"], [0.2222222222222222, \"#7201a8\"], [0.3333333333333333, \"#9c179e\"], [0.4444444444444444, \"#bd3786\"], [0.5555555555555556, \"#d8576b\"], [0.6666666666666666, \"#ed7953\"], [0.7777777777777778, \"#fb9f3a\"], [0.8888888888888888, \"#fdca26\"], [1.0, \"#f0f921\"]], \"type\": \"histogram2dcontour\"}], \"mesh3d\": [{\"colorbar\": {\"outlinewidth\": 0, \"ticks\": \"\"}, \"type\": \"mesh3d\"}], \"parcoords\": [{\"line\": {\"colorbar\": {\"outlinewidth\": 0, \"ticks\": \"\"}}, \"type\": \"parcoords\"}], \"pie\": [{\"automargin\": true, \"type\": \"pie\"}], \"scatter\": [{\"marker\": {\"colorbar\": {\"outlinewidth\": 0, \"ticks\": \"\"}}, \"type\": \"scatter\"}], \"scatter3d\": [{\"line\": {\"colorbar\": {\"outlinewidth\": 0, \"ticks\": \"\"}}, \"marker\": {\"colorbar\": {\"outlinewidth\": 0, \"ticks\": \"\"}}, \"type\": \"scatter3d\"}], \"scattercarpet\": [{\"marker\": {\"colorbar\": {\"outlinewidth\": 0, \"ticks\": \"\"}}, \"type\": \"scattercarpet\"}], \"scattergeo\": [{\"marker\": {\"colorbar\": {\"outlinewidth\": 0, \"ticks\": \"\"}}, \"type\": \"scattergeo\"}], \"scattergl\": [{\"marker\": {\"colorbar\": {\"outlinewidth\": 0, \"ticks\": \"\"}}, \"type\": \"scattergl\"}], \"scattermapbox\": [{\"marker\": {\"colorbar\": {\"outlinewidth\": 0, \"ticks\": \"\"}}, \"type\": \"scattermapbox\"}], \"scatterpolar\": [{\"marker\": {\"colorbar\": {\"outlinewidth\": 0, \"ticks\": \"\"}}, \"type\": \"scatterpolar\"}], \"scatterpolargl\": [{\"marker\": {\"colorbar\": {\"outlinewidth\": 0, \"ticks\": \"\"}}, \"type\": \"scatterpolargl\"}], \"scatterternary\": [{\"marker\": {\"colorbar\": {\"outlinewidth\": 0, \"ticks\": \"\"}}, \"type\": \"scatterternary\"}], \"surface\": [{\"colorbar\": {\"outlinewidth\": 0, \"ticks\": \"\"}, \"colorscale\": [[0.0, \"#0d0887\"], [0.1111111111111111, \"#46039f\"], [0.2222222222222222, \"#7201a8\"], [0.3333333333333333, \"#9c179e\"], [0.4444444444444444, \"#bd3786\"], [0.5555555555555556, \"#d8576b\"], [0.6666666666666666, \"#ed7953\"], [0.7777777777777778, \"#fb9f3a\"], [0.8888888888888888, \"#fdca26\"], [1.0, \"#f0f921\"]], \"type\": \"surface\"}], \"table\": [{\"cells\": {\"fill\": {\"color\": \"#EBF0F8\"}, \"line\": {\"color\": \"white\"}}, \"header\": {\"fill\": {\"color\": \"#C8D4E3\"}, \"line\": {\"color\": \"white\"}}, \"type\": \"table\"}]}, \"layout\": {\"annotationdefaults\": {\"arrowcolor\": \"#2a3f5f\", \"arrowhead\": 0, \"arrowwidth\": 1}, \"coloraxis\": {\"colorbar\": {\"outlinewidth\": 0, \"ticks\": \"\"}}, \"colorscale\": {\"diverging\": [[0, \"#8e0152\"], [0.1, \"#c51b7d\"], [0.2, \"#de77ae\"], [0.3, \"#f1b6da\"], [0.4, \"#fde0ef\"], [0.5, \"#f7f7f7\"], [0.6, \"#e6f5d0\"], [0.7, \"#b8e186\"], [0.8, \"#7fbc41\"], [0.9, \"#4d9221\"], [1, \"#276419\"]], \"sequential\": [[0.0, \"#0d0887\"], [0.1111111111111111, \"#46039f\"], [0.2222222222222222, \"#7201a8\"], [0.3333333333333333, \"#9c179e\"], [0.4444444444444444, \"#bd3786\"], [0.5555555555555556, \"#d8576b\"], [0.6666666666666666, \"#ed7953\"], [0.7777777777777778, \"#fb9f3a\"], [0.8888888888888888, \"#fdca26\"], [1.0, \"#f0f921\"]], \"sequentialminus\": [[0.0, \"#0d0887\"], [0.1111111111111111, \"#46039f\"], [0.2222222222222222, \"#7201a8\"], [0.3333333333333333, \"#9c179e\"], [0.4444444444444444, \"#bd3786\"], [0.5555555555555556, \"#d8576b\"], [0.6666666666666666, \"#ed7953\"], [0.7777777777777778, \"#fb9f3a\"], [0.8888888888888888, \"#fdca26\"], [1.0, \"#f0f921\"]]}, \"colorway\": [\"#636efa\", \"#EF553B\", \"#00cc96\", \"#ab63fa\", \"#FFA15A\", \"#19d3f3\", \"#FF6692\", \"#B6E880\", \"#FF97FF\", \"#FECB52\"], \"font\": {\"color\": \"#2a3f5f\"}, \"geo\": {\"bgcolor\": \"white\", \"lakecolor\": \"white\", \"landcolor\": \"#E5ECF6\", \"showlakes\": true, \"showland\": true, \"subunitcolor\": \"white\"}, \"hoverlabel\": {\"align\": \"left\"}, \"hovermode\": \"closest\", \"mapbox\": {\"style\": \"light\"}, \"paper_bgcolor\": \"white\", \"plot_bgcolor\": \"#E5ECF6\", \"polar\": {\"angularaxis\": {\"gridcolor\": \"white\", \"linecolor\": \"white\", \"ticks\": \"\"}, \"bgcolor\": \"#E5ECF6\", \"radialaxis\": {\"gridcolor\": \"white\", \"linecolor\": \"white\", \"ticks\": \"\"}}, \"scene\": {\"xaxis\": {\"backgroundcolor\": \"#E5ECF6\", \"gridcolor\": \"white\", \"gridwidth\": 2, \"linecolor\": \"white\", \"showbackground\": true, \"ticks\": \"\", \"zerolinecolor\": \"white\"}, \"yaxis\": {\"backgroundcolor\": \"#E5ECF6\", \"gridcolor\": \"white\", \"gridwidth\": 2, \"linecolor\": \"white\", \"showbackground\": true, \"ticks\": \"\", \"zerolinecolor\": \"white\"}, \"zaxis\": {\"backgroundcolor\": \"#E5ECF6\", \"gridcolor\": \"white\", \"gridwidth\": 2, \"linecolor\": \"white\", \"showbackground\": true, \"ticks\": \"\", \"zerolinecolor\": \"white\"}}, \"shapedefaults\": {\"line\": {\"color\": \"#2a3f5f\"}}, \"ternary\": {\"aaxis\": {\"gridcolor\": \"white\", \"linecolor\": \"white\", \"ticks\": \"\"}, \"baxis\": {\"gridcolor\": \"white\", \"linecolor\": \"white\", \"ticks\": \"\"}, \"bgcolor\": \"#E5ECF6\", \"caxis\": {\"gridcolor\": \"white\", \"linecolor\": \"white\", \"ticks\": \"\"}}, \"title\": {\"x\": 0.05}, \"xaxis\": {\"automargin\": true, \"gridcolor\": \"white\", \"linecolor\": \"white\", \"ticks\": \"\", \"title\": {\"standoff\": 15}, \"zerolinecolor\": \"white\", \"zerolinewidth\": 2}, \"yaxis\": {\"automargin\": true, \"gridcolor\": \"white\", \"linecolor\": \"white\", \"ticks\": \"\", \"title\": {\"standoff\": 15}, \"zerolinecolor\": \"white\", \"zerolinewidth\": 2}}}, \"title\": {\"text\": \"Death Rate from Pneumonia 2017 (per 100,000)\"}},                        {\"responsive\": true}                    ).then(function(){\n",
       "                            \n",
       "var gd = document.getElementById('914d8637-a441-4a8e-8340-80eccb2e0a48');\n",
       "var x = new MutationObserver(function (mutations, observer) {{\n",
       "        var display = window.getComputedStyle(gd).display;\n",
       "        if (!display || display === 'none') {{\n",
       "            console.log([gd, 'removed!']);\n",
       "            Plotly.purge(gd);\n",
       "            observer.disconnect();\n",
       "        }}\n",
       "}});\n",
       "\n",
       "// Listen for the removal of the full notebook cells\n",
       "var notebookContainer = gd.closest('#notebook-container');\n",
       "if (notebookContainer) {{\n",
       "    x.observe(notebookContainer, {childList: true});\n",
       "}}\n",
       "\n",
       "// Listen for the clearing of the current output cell\n",
       "var outputEl = gd.closest('.output');\n",
       "if (outputEl) {{\n",
       "    x.observe(outputEl, {childList: true});\n",
       "}}\n",
       "\n",
       "                        })                };                });            </script>        </div>"
      ]
     },
     "metadata": {},
     "output_type": "display_data"
    }
   ],
   "source": [
    "fig.show()"
   ]
  },
  {
   "cell_type": "code",
   "execution_count": 320,
   "metadata": {},
   "outputs": [
    {
     "data": {
      "text/html": [
       "<div>\n",
       "<style scoped>\n",
       "    .dataframe tbody tr th:only-of-type {\n",
       "        vertical-align: middle;\n",
       "    }\n",
       "\n",
       "    .dataframe tbody tr th {\n",
       "        vertical-align: top;\n",
       "    }\n",
       "\n",
       "    .dataframe thead th {\n",
       "        text-align: right;\n",
       "    }\n",
       "</style>\n",
       "<table border=\"1\" class=\"dataframe\">\n",
       "  <thead>\n",
       "    <tr style=\"text-align: right;\">\n",
       "      <th></th>\n",
       "      <th>Entity</th>\n",
       "      <th>Code</th>\n",
       "      <th>Year</th>\n",
       "      <th>Deaths - Lower respiratory infections - Sex: Both - Age: Age-standardized (Rate)</th>\n",
       "    </tr>\n",
       "  </thead>\n",
       "  <tbody>\n",
       "    <tr>\n",
       "      <th>615</th>\n",
       "      <td>Benin</td>\n",
       "      <td>BEN</td>\n",
       "      <td>2017</td>\n",
       "      <td>107.915901</td>\n",
       "    </tr>\n",
       "    <tr>\n",
       "      <th>867</th>\n",
       "      <td>Burkina Faso</td>\n",
       "      <td>BFA</td>\n",
       "      <td>2017</td>\n",
       "      <td>126.899811</td>\n",
       "    </tr>\n",
       "    <tr>\n",
       "      <th>895</th>\n",
       "      <td>Burundi</td>\n",
       "      <td>BDI</td>\n",
       "      <td>2017</td>\n",
       "      <td>121.523429</td>\n",
       "    </tr>\n",
       "    <tr>\n",
       "      <th>951</th>\n",
       "      <td>Cameroon</td>\n",
       "      <td>CMR</td>\n",
       "      <td>2017</td>\n",
       "      <td>116.020118</td>\n",
       "    </tr>\n",
       "    <tr>\n",
       "      <th>1063</th>\n",
       "      <td>Central African Republic</td>\n",
       "      <td>CAF</td>\n",
       "      <td>2017</td>\n",
       "      <td>158.996973</td>\n",
       "    </tr>\n",
       "    <tr>\n",
       "      <th>1203</th>\n",
       "      <td>Central Sub-Saharan Africa</td>\n",
       "      <td>NaN</td>\n",
       "      <td>2017</td>\n",
       "      <td>107.554308</td>\n",
       "    </tr>\n",
       "    <tr>\n",
       "      <th>1231</th>\n",
       "      <td>Chad</td>\n",
       "      <td>TCD</td>\n",
       "      <td>2017</td>\n",
       "      <td>148.443707</td>\n",
       "    </tr>\n",
       "    <tr>\n",
       "      <th>1427</th>\n",
       "      <td>Cote d'Ivoire</td>\n",
       "      <td>CIV</td>\n",
       "      <td>2017</td>\n",
       "      <td>117.340681</td>\n",
       "    </tr>\n",
       "    <tr>\n",
       "      <th>1567</th>\n",
       "      <td>Democratic Republic of Congo</td>\n",
       "      <td>COD</td>\n",
       "      <td>2017</td>\n",
       "      <td>111.622730</td>\n",
       "    </tr>\n",
       "    <tr>\n",
       "      <th>1931</th>\n",
       "      <td>Eritrea</td>\n",
       "      <td>ERI</td>\n",
       "      <td>2017</td>\n",
       "      <td>124.492031</td>\n",
       "    </tr>\n",
       "    <tr>\n",
       "      <th>2155</th>\n",
       "      <td>Gambia</td>\n",
       "      <td>GMB</td>\n",
       "      <td>2017</td>\n",
       "      <td>112.037929</td>\n",
       "    </tr>\n",
       "    <tr>\n",
       "      <th>2239</th>\n",
       "      <td>Ghana</td>\n",
       "      <td>GHA</td>\n",
       "      <td>2017</td>\n",
       "      <td>114.909078</td>\n",
       "    </tr>\n",
       "    <tr>\n",
       "      <th>2407</th>\n",
       "      <td>Guinea</td>\n",
       "      <td>GIN</td>\n",
       "      <td>2017</td>\n",
       "      <td>143.765595</td>\n",
       "    </tr>\n",
       "    <tr>\n",
       "      <th>2435</th>\n",
       "      <td>Guinea-Bissau</td>\n",
       "      <td>GNB</td>\n",
       "      <td>2017</td>\n",
       "      <td>129.389843</td>\n",
       "    </tr>\n",
       "    <tr>\n",
       "      <th>3247</th>\n",
       "      <td>Lesotho</td>\n",
       "      <td>LSO</td>\n",
       "      <td>2017</td>\n",
       "      <td>120.102903</td>\n",
       "    </tr>\n",
       "    <tr>\n",
       "      <th>3443</th>\n",
       "      <td>Madagascar</td>\n",
       "      <td>MDG</td>\n",
       "      <td>2017</td>\n",
       "      <td>117.143517</td>\n",
       "    </tr>\n",
       "    <tr>\n",
       "      <th>3499</th>\n",
       "      <td>Malaysia</td>\n",
       "      <td>MYS</td>\n",
       "      <td>2017</td>\n",
       "      <td>112.909813</td>\n",
       "    </tr>\n",
       "    <tr>\n",
       "      <th>4087</th>\n",
       "      <td>Niger</td>\n",
       "      <td>NER</td>\n",
       "      <td>2017</td>\n",
       "      <td>119.904130</td>\n",
       "    </tr>\n",
       "    <tr>\n",
       "      <th>4479</th>\n",
       "      <td>Papua New Guinea</td>\n",
       "      <td>PNG</td>\n",
       "      <td>2017</td>\n",
       "      <td>113.231488</td>\n",
       "    </tr>\n",
       "    <tr>\n",
       "      <th>4563</th>\n",
       "      <td>Philippines</td>\n",
       "      <td>PHL</td>\n",
       "      <td>2017</td>\n",
       "      <td>126.052213</td>\n",
       "    </tr>\n",
       "    <tr>\n",
       "      <th>4871</th>\n",
       "      <td>Sao Tome and Principe</td>\n",
       "      <td>STP</td>\n",
       "      <td>2017</td>\n",
       "      <td>114.022770</td>\n",
       "    </tr>\n",
       "    <tr>\n",
       "      <th>5039</th>\n",
       "      <td>Sierra Leone</td>\n",
       "      <td>SLE</td>\n",
       "      <td>2017</td>\n",
       "      <td>138.248720</td>\n",
       "    </tr>\n",
       "    <tr>\n",
       "      <th>5151</th>\n",
       "      <td>Solomon Islands</td>\n",
       "      <td>SLB</td>\n",
       "      <td>2017</td>\n",
       "      <td>153.587789</td>\n",
       "    </tr>\n",
       "    <tr>\n",
       "      <th>5179</th>\n",
       "      <td>Somalia</td>\n",
       "      <td>SOM</td>\n",
       "      <td>2017</td>\n",
       "      <td>124.507052</td>\n",
       "    </tr>\n",
       "    <tr>\n",
       "      <th>5291</th>\n",
       "      <td>South Sudan</td>\n",
       "      <td>SSD</td>\n",
       "      <td>2017</td>\n",
       "      <td>140.184242</td>\n",
       "    </tr>\n",
       "    <tr>\n",
       "      <th>6355</th>\n",
       "      <td>Western Sub-Saharan Africa</td>\n",
       "      <td>NaN</td>\n",
       "      <td>2017</td>\n",
       "      <td>104.248604</td>\n",
       "    </tr>\n",
       "    <tr>\n",
       "      <th>6467</th>\n",
       "      <td>Zimbabwe</td>\n",
       "      <td>ZWE</td>\n",
       "      <td>2017</td>\n",
       "      <td>137.633004</td>\n",
       "    </tr>\n",
       "  </tbody>\n",
       "</table>\n",
       "</div>"
      ],
      "text/plain": [
       "                            Entity Code  Year  \\\n",
       "615                          Benin  BEN  2017   \n",
       "867                   Burkina Faso  BFA  2017   \n",
       "895                        Burundi  BDI  2017   \n",
       "951                       Cameroon  CMR  2017   \n",
       "1063      Central African Republic  CAF  2017   \n",
       "1203    Central Sub-Saharan Africa  NaN  2017   \n",
       "1231                          Chad  TCD  2017   \n",
       "1427                 Cote d'Ivoire  CIV  2017   \n",
       "1567  Democratic Republic of Congo  COD  2017   \n",
       "1931                       Eritrea  ERI  2017   \n",
       "2155                        Gambia  GMB  2017   \n",
       "2239                         Ghana  GHA  2017   \n",
       "2407                        Guinea  GIN  2017   \n",
       "2435                 Guinea-Bissau  GNB  2017   \n",
       "3247                       Lesotho  LSO  2017   \n",
       "3443                    Madagascar  MDG  2017   \n",
       "3499                      Malaysia  MYS  2017   \n",
       "4087                         Niger  NER  2017   \n",
       "4479              Papua New Guinea  PNG  2017   \n",
       "4563                   Philippines  PHL  2017   \n",
       "4871         Sao Tome and Principe  STP  2017   \n",
       "5039                  Sierra Leone  SLE  2017   \n",
       "5151               Solomon Islands  SLB  2017   \n",
       "5179                       Somalia  SOM  2017   \n",
       "5291                   South Sudan  SSD  2017   \n",
       "6355    Western Sub-Saharan Africa  NaN  2017   \n",
       "6467                      Zimbabwe  ZWE  2017   \n",
       "\n",
       "      Deaths - Lower respiratory infections - Sex: Both - Age: Age-standardized (Rate)  \n",
       "615                                          107.915901                                 \n",
       "867                                          126.899811                                 \n",
       "895                                          121.523429                                 \n",
       "951                                          116.020118                                 \n",
       "1063                                         158.996973                                 \n",
       "1203                                         107.554308                                 \n",
       "1231                                         148.443707                                 \n",
       "1427                                         117.340681                                 \n",
       "1567                                         111.622730                                 \n",
       "1931                                         124.492031                                 \n",
       "2155                                         112.037929                                 \n",
       "2239                                         114.909078                                 \n",
       "2407                                         143.765595                                 \n",
       "2435                                         129.389843                                 \n",
       "3247                                         120.102903                                 \n",
       "3443                                         117.143517                                 \n",
       "3499                                         112.909813                                 \n",
       "4087                                         119.904130                                 \n",
       "4479                                         113.231488                                 \n",
       "4563                                         126.052213                                 \n",
       "4871                                         114.022770                                 \n",
       "5039                                         138.248720                                 \n",
       "5151                                         153.587789                                 \n",
       "5179                                         124.507052                                 \n",
       "5291                                         140.184242                                 \n",
       "6355                                         104.248604                                 \n",
       "6467                                         137.633004                                 "
      ]
     },
     "execution_count": 320,
     "metadata": {},
     "output_type": "execute_result"
    }
   ],
   "source": [
    "# Get data for countries with death rate over 100 per 100,000\n",
    "top_death_rate= df_2017.loc[df_2017[\"Deaths - Lower respiratory infections - Sex: Both - Age: Age-standardized (Rate)\"] > 100]\n",
    "top_death_rate"
   ]
  },
  {
   "cell_type": "code",
   "execution_count": 321,
   "metadata": {},
   "outputs": [],
   "source": [
    "# Visualize the data\n",
    "fig2 = px.choropleth(top_death_rate, locations = 'Code', color = 'Deaths - Lower respiratory infections - Sex: Both - Age: Age-standardized (Rate)', hover_name = 'Entity',  color_continuous_scale=px.colors.sequential.Plasma)"
   ]
  },
  {
   "cell_type": "code",
   "execution_count": 322,
   "metadata": {},
   "outputs": [
    {
     "data": {
      "application/vnd.plotly.v1+json": {
       "config": {
        "plotlyServerURL": "https://plot.ly"
       },
       "data": [
        {
         "coloraxis": "coloraxis",
         "geo": "geo",
         "hovertemplate": "<b>%{hovertext}</b><br><br>Code=%{location}<br>Deaths - Lower respiratory infections - Sex: Both - Age: Age-standardized (Rate)=%{z}<extra></extra>",
         "hovertext": [
          "Benin",
          "Burkina Faso",
          "Burundi",
          "Cameroon",
          "Central African Republic",
          "Central Sub-Saharan Africa",
          "Chad",
          "Cote d'Ivoire",
          "Democratic Republic of Congo",
          "Eritrea",
          "Gambia",
          "Ghana",
          "Guinea",
          "Guinea-Bissau",
          "Lesotho",
          "Madagascar",
          "Malaysia",
          "Niger",
          "Papua New Guinea",
          "Philippines",
          "Sao Tome and Principe",
          "Sierra Leone",
          "Solomon Islands",
          "Somalia",
          "South Sudan",
          "Western Sub-Saharan Africa",
          "Zimbabwe"
         ],
         "locations": [
          "BEN",
          "BFA",
          "BDI",
          "CMR",
          "CAF",
          null,
          "TCD",
          "CIV",
          "COD",
          "ERI",
          "GMB",
          "GHA",
          "GIN",
          "GNB",
          "LSO",
          "MDG",
          "MYS",
          "NER",
          "PNG",
          "PHL",
          "STP",
          "SLE",
          "SLB",
          "SOM",
          "SSD",
          null,
          "ZWE"
         ],
         "name": "",
         "type": "choropleth",
         "z": [
          107.91590119691601,
          126.89981118127945,
          121.52342855464838,
          116.02011750251465,
          158.9969727035181,
          107.55430822853629,
          148.4437073416655,
          117.34068084252114,
          111.62273045326715,
          124.49203079874636,
          112.0379285210428,
          114.90907842427605,
          143.76559492363046,
          129.38984344562616,
          120.10290329129671,
          117.14351650936636,
          112.90981317525991,
          119.90413047559198,
          113.23148811887323,
          126.0522128249836,
          114.02277048323394,
          138.2487197555858,
          153.58778942656744,
          124.50705172393565,
          140.18424237450705,
          104.24860429833231,
          137.63300446732416
         ]
        }
       ],
       "layout": {
        "autosize": true,
        "coloraxis": {
         "colorbar": {
          "title": {
           "text": "Deaths - Lower respiratory infections - Sex: Both - Age: Age-standardized (Rate)"
          }
         },
         "colorscale": [
          [
           0,
           "#0d0887"
          ],
          [
           0.1111111111111111,
           "#46039f"
          ],
          [
           0.2222222222222222,
           "#7201a8"
          ],
          [
           0.3333333333333333,
           "#9c179e"
          ],
          [
           0.4444444444444444,
           "#bd3786"
          ],
          [
           0.5555555555555556,
           "#d8576b"
          ],
          [
           0.6666666666666666,
           "#ed7953"
          ],
          [
           0.7777777777777778,
           "#fb9f3a"
          ],
          [
           0.8888888888888888,
           "#fdca26"
          ],
          [
           1,
           "#f0f921"
          ]
         ]
        },
        "geo": {
         "center": {
          "lat": 7.05445507025628,
          "lon": 42.01590062808856
         },
         "domain": {
          "x": [
           0,
           1
          ],
          "y": [
           0,
           1
          ]
         },
         "projection": {
          "rotation": {
           "lon": 42.01590062808856
          },
          "scale": 1.1486983549970353
         }
        },
        "legend": {
         "tracegroupgap": 0
        },
        "margin": {
         "t": 60
        },
        "template": {
         "data": {
          "bar": [
           {
            "error_x": {
             "color": "#2a3f5f"
            },
            "error_y": {
             "color": "#2a3f5f"
            },
            "marker": {
             "line": {
              "color": "#E5ECF6",
              "width": 0.5
             }
            },
            "type": "bar"
           }
          ],
          "barpolar": [
           {
            "marker": {
             "line": {
              "color": "#E5ECF6",
              "width": 0.5
             }
            },
            "type": "barpolar"
           }
          ],
          "carpet": [
           {
            "aaxis": {
             "endlinecolor": "#2a3f5f",
             "gridcolor": "white",
             "linecolor": "white",
             "minorgridcolor": "white",
             "startlinecolor": "#2a3f5f"
            },
            "baxis": {
             "endlinecolor": "#2a3f5f",
             "gridcolor": "white",
             "linecolor": "white",
             "minorgridcolor": "white",
             "startlinecolor": "#2a3f5f"
            },
            "type": "carpet"
           }
          ],
          "choropleth": [
           {
            "colorbar": {
             "outlinewidth": 0,
             "ticks": ""
            },
            "type": "choropleth"
           }
          ],
          "contour": [
           {
            "colorbar": {
             "outlinewidth": 0,
             "ticks": ""
            },
            "colorscale": [
             [
              0,
              "#0d0887"
             ],
             [
              0.1111111111111111,
              "#46039f"
             ],
             [
              0.2222222222222222,
              "#7201a8"
             ],
             [
              0.3333333333333333,
              "#9c179e"
             ],
             [
              0.4444444444444444,
              "#bd3786"
             ],
             [
              0.5555555555555556,
              "#d8576b"
             ],
             [
              0.6666666666666666,
              "#ed7953"
             ],
             [
              0.7777777777777778,
              "#fb9f3a"
             ],
             [
              0.8888888888888888,
              "#fdca26"
             ],
             [
              1,
              "#f0f921"
             ]
            ],
            "type": "contour"
           }
          ],
          "contourcarpet": [
           {
            "colorbar": {
             "outlinewidth": 0,
             "ticks": ""
            },
            "type": "contourcarpet"
           }
          ],
          "heatmap": [
           {
            "colorbar": {
             "outlinewidth": 0,
             "ticks": ""
            },
            "colorscale": [
             [
              0,
              "#0d0887"
             ],
             [
              0.1111111111111111,
              "#46039f"
             ],
             [
              0.2222222222222222,
              "#7201a8"
             ],
             [
              0.3333333333333333,
              "#9c179e"
             ],
             [
              0.4444444444444444,
              "#bd3786"
             ],
             [
              0.5555555555555556,
              "#d8576b"
             ],
             [
              0.6666666666666666,
              "#ed7953"
             ],
             [
              0.7777777777777778,
              "#fb9f3a"
             ],
             [
              0.8888888888888888,
              "#fdca26"
             ],
             [
              1,
              "#f0f921"
             ]
            ],
            "type": "heatmap"
           }
          ],
          "heatmapgl": [
           {
            "colorbar": {
             "outlinewidth": 0,
             "ticks": ""
            },
            "colorscale": [
             [
              0,
              "#0d0887"
             ],
             [
              0.1111111111111111,
              "#46039f"
             ],
             [
              0.2222222222222222,
              "#7201a8"
             ],
             [
              0.3333333333333333,
              "#9c179e"
             ],
             [
              0.4444444444444444,
              "#bd3786"
             ],
             [
              0.5555555555555556,
              "#d8576b"
             ],
             [
              0.6666666666666666,
              "#ed7953"
             ],
             [
              0.7777777777777778,
              "#fb9f3a"
             ],
             [
              0.8888888888888888,
              "#fdca26"
             ],
             [
              1,
              "#f0f921"
             ]
            ],
            "type": "heatmapgl"
           }
          ],
          "histogram": [
           {
            "marker": {
             "colorbar": {
              "outlinewidth": 0,
              "ticks": ""
             }
            },
            "type": "histogram"
           }
          ],
          "histogram2d": [
           {
            "colorbar": {
             "outlinewidth": 0,
             "ticks": ""
            },
            "colorscale": [
             [
              0,
              "#0d0887"
             ],
             [
              0.1111111111111111,
              "#46039f"
             ],
             [
              0.2222222222222222,
              "#7201a8"
             ],
             [
              0.3333333333333333,
              "#9c179e"
             ],
             [
              0.4444444444444444,
              "#bd3786"
             ],
             [
              0.5555555555555556,
              "#d8576b"
             ],
             [
              0.6666666666666666,
              "#ed7953"
             ],
             [
              0.7777777777777778,
              "#fb9f3a"
             ],
             [
              0.8888888888888888,
              "#fdca26"
             ],
             [
              1,
              "#f0f921"
             ]
            ],
            "type": "histogram2d"
           }
          ],
          "histogram2dcontour": [
           {
            "colorbar": {
             "outlinewidth": 0,
             "ticks": ""
            },
            "colorscale": [
             [
              0,
              "#0d0887"
             ],
             [
              0.1111111111111111,
              "#46039f"
             ],
             [
              0.2222222222222222,
              "#7201a8"
             ],
             [
              0.3333333333333333,
              "#9c179e"
             ],
             [
              0.4444444444444444,
              "#bd3786"
             ],
             [
              0.5555555555555556,
              "#d8576b"
             ],
             [
              0.6666666666666666,
              "#ed7953"
             ],
             [
              0.7777777777777778,
              "#fb9f3a"
             ],
             [
              0.8888888888888888,
              "#fdca26"
             ],
             [
              1,
              "#f0f921"
             ]
            ],
            "type": "histogram2dcontour"
           }
          ],
          "mesh3d": [
           {
            "colorbar": {
             "outlinewidth": 0,
             "ticks": ""
            },
            "type": "mesh3d"
           }
          ],
          "parcoords": [
           {
            "line": {
             "colorbar": {
              "outlinewidth": 0,
              "ticks": ""
             }
            },
            "type": "parcoords"
           }
          ],
          "pie": [
           {
            "automargin": true,
            "type": "pie"
           }
          ],
          "scatter": [
           {
            "marker": {
             "colorbar": {
              "outlinewidth": 0,
              "ticks": ""
             }
            },
            "type": "scatter"
           }
          ],
          "scatter3d": [
           {
            "line": {
             "colorbar": {
              "outlinewidth": 0,
              "ticks": ""
             }
            },
            "marker": {
             "colorbar": {
              "outlinewidth": 0,
              "ticks": ""
             }
            },
            "type": "scatter3d"
           }
          ],
          "scattercarpet": [
           {
            "marker": {
             "colorbar": {
              "outlinewidth": 0,
              "ticks": ""
             }
            },
            "type": "scattercarpet"
           }
          ],
          "scattergeo": [
           {
            "marker": {
             "colorbar": {
              "outlinewidth": 0,
              "ticks": ""
             }
            },
            "type": "scattergeo"
           }
          ],
          "scattergl": [
           {
            "marker": {
             "colorbar": {
              "outlinewidth": 0,
              "ticks": ""
             }
            },
            "type": "scattergl"
           }
          ],
          "scattermapbox": [
           {
            "marker": {
             "colorbar": {
              "outlinewidth": 0,
              "ticks": ""
             }
            },
            "type": "scattermapbox"
           }
          ],
          "scatterpolar": [
           {
            "marker": {
             "colorbar": {
              "outlinewidth": 0,
              "ticks": ""
             }
            },
            "type": "scatterpolar"
           }
          ],
          "scatterpolargl": [
           {
            "marker": {
             "colorbar": {
              "outlinewidth": 0,
              "ticks": ""
             }
            },
            "type": "scatterpolargl"
           }
          ],
          "scatterternary": [
           {
            "marker": {
             "colorbar": {
              "outlinewidth": 0,
              "ticks": ""
             }
            },
            "type": "scatterternary"
           }
          ],
          "surface": [
           {
            "colorbar": {
             "outlinewidth": 0,
             "ticks": ""
            },
            "colorscale": [
             [
              0,
              "#0d0887"
             ],
             [
              0.1111111111111111,
              "#46039f"
             ],
             [
              0.2222222222222222,
              "#7201a8"
             ],
             [
              0.3333333333333333,
              "#9c179e"
             ],
             [
              0.4444444444444444,
              "#bd3786"
             ],
             [
              0.5555555555555556,
              "#d8576b"
             ],
             [
              0.6666666666666666,
              "#ed7953"
             ],
             [
              0.7777777777777778,
              "#fb9f3a"
             ],
             [
              0.8888888888888888,
              "#fdca26"
             ],
             [
              1,
              "#f0f921"
             ]
            ],
            "type": "surface"
           }
          ],
          "table": [
           {
            "cells": {
             "fill": {
              "color": "#EBF0F8"
             },
             "line": {
              "color": "white"
             }
            },
            "header": {
             "fill": {
              "color": "#C8D4E3"
             },
             "line": {
              "color": "white"
             }
            },
            "type": "table"
           }
          ]
         },
         "layout": {
          "annotationdefaults": {
           "arrowcolor": "#2a3f5f",
           "arrowhead": 0,
           "arrowwidth": 1
          },
          "coloraxis": {
           "colorbar": {
            "outlinewidth": 0,
            "ticks": ""
           }
          },
          "colorscale": {
           "diverging": [
            [
             0,
             "#8e0152"
            ],
            [
             0.1,
             "#c51b7d"
            ],
            [
             0.2,
             "#de77ae"
            ],
            [
             0.3,
             "#f1b6da"
            ],
            [
             0.4,
             "#fde0ef"
            ],
            [
             0.5,
             "#f7f7f7"
            ],
            [
             0.6,
             "#e6f5d0"
            ],
            [
             0.7,
             "#b8e186"
            ],
            [
             0.8,
             "#7fbc41"
            ],
            [
             0.9,
             "#4d9221"
            ],
            [
             1,
             "#276419"
            ]
           ],
           "sequential": [
            [
             0,
             "#0d0887"
            ],
            [
             0.1111111111111111,
             "#46039f"
            ],
            [
             0.2222222222222222,
             "#7201a8"
            ],
            [
             0.3333333333333333,
             "#9c179e"
            ],
            [
             0.4444444444444444,
             "#bd3786"
            ],
            [
             0.5555555555555556,
             "#d8576b"
            ],
            [
             0.6666666666666666,
             "#ed7953"
            ],
            [
             0.7777777777777778,
             "#fb9f3a"
            ],
            [
             0.8888888888888888,
             "#fdca26"
            ],
            [
             1,
             "#f0f921"
            ]
           ],
           "sequentialminus": [
            [
             0,
             "#0d0887"
            ],
            [
             0.1111111111111111,
             "#46039f"
            ],
            [
             0.2222222222222222,
             "#7201a8"
            ],
            [
             0.3333333333333333,
             "#9c179e"
            ],
            [
             0.4444444444444444,
             "#bd3786"
            ],
            [
             0.5555555555555556,
             "#d8576b"
            ],
            [
             0.6666666666666666,
             "#ed7953"
            ],
            [
             0.7777777777777778,
             "#fb9f3a"
            ],
            [
             0.8888888888888888,
             "#fdca26"
            ],
            [
             1,
             "#f0f921"
            ]
           ]
          },
          "colorway": [
           "#636efa",
           "#EF553B",
           "#00cc96",
           "#ab63fa",
           "#FFA15A",
           "#19d3f3",
           "#FF6692",
           "#B6E880",
           "#FF97FF",
           "#FECB52"
          ],
          "font": {
           "color": "#2a3f5f"
          },
          "geo": {
           "bgcolor": "white",
           "lakecolor": "white",
           "landcolor": "#E5ECF6",
           "showlakes": true,
           "showland": true,
           "subunitcolor": "white"
          },
          "hoverlabel": {
           "align": "left"
          },
          "hovermode": "closest",
          "mapbox": {
           "style": "light"
          },
          "paper_bgcolor": "white",
          "plot_bgcolor": "#E5ECF6",
          "polar": {
           "angularaxis": {
            "gridcolor": "white",
            "linecolor": "white",
            "ticks": ""
           },
           "bgcolor": "#E5ECF6",
           "radialaxis": {
            "gridcolor": "white",
            "linecolor": "white",
            "ticks": ""
           }
          },
          "scene": {
           "xaxis": {
            "backgroundcolor": "#E5ECF6",
            "gridcolor": "white",
            "gridwidth": 2,
            "linecolor": "white",
            "showbackground": true,
            "ticks": "",
            "zerolinecolor": "white"
           },
           "yaxis": {
            "backgroundcolor": "#E5ECF6",
            "gridcolor": "white",
            "gridwidth": 2,
            "linecolor": "white",
            "showbackground": true,
            "ticks": "",
            "zerolinecolor": "white"
           },
           "zaxis": {
            "backgroundcolor": "#E5ECF6",
            "gridcolor": "white",
            "gridwidth": 2,
            "linecolor": "white",
            "showbackground": true,
            "ticks": "",
            "zerolinecolor": "white"
           }
          },
          "shapedefaults": {
           "line": {
            "color": "#2a3f5f"
           }
          },
          "ternary": {
           "aaxis": {
            "gridcolor": "white",
            "linecolor": "white",
            "ticks": ""
           },
           "baxis": {
            "gridcolor": "white",
            "linecolor": "white",
            "ticks": ""
           },
           "bgcolor": "#E5ECF6",
           "caxis": {
            "gridcolor": "white",
            "linecolor": "white",
            "ticks": ""
           }
          },
          "title": {
           "x": 0.05
          },
          "xaxis": {
           "automargin": true,
           "gridcolor": "white",
           "linecolor": "white",
           "ticks": "",
           "title": {
            "standoff": 15
           },
           "zerolinecolor": "white",
           "zerolinewidth": 2
          },
          "yaxis": {
           "automargin": true,
           "gridcolor": "white",
           "linecolor": "white",
           "ticks": "",
           "title": {
            "standoff": 15
           },
           "zerolinecolor": "white",
           "zerolinewidth": 2
          }
         }
        }
       }
      },
      "image/png": "[encoded data removed]",
      "text/html": [
       "<div>                            <div id=\"1b991ae4-22d8-4cfa-a588-4bc7ece8916a\" class=\"plotly-graph-div\" style=\"height:525px; width:100%;\"></div>            <script type=\"text/javascript\">                require([\"plotly\"], function(Plotly) {                    window.PLOTLYENV=window.PLOTLYENV || {};                                    if (document.getElementById(\"1b991ae4-22d8-4cfa-a588-4bc7ece8916a\")) {                    Plotly.newPlot(                        \"1b991ae4-22d8-4cfa-a588-4bc7ece8916a\",                        [{\"coloraxis\": \"coloraxis\", \"geo\": \"geo\", \"hovertemplate\": \"<b>%{hovertext}</b><br><br>Code=%{location}<br>Deaths - Lower respiratory infections - Sex: Both - Age: Age-standardized (Rate)=%{z}<extra></extra>\", \"hovertext\": [\"Benin\", \"Burkina Faso\", \"Burundi\", \"Cameroon\", \"Central African Republic\", \"Central Sub-Saharan Africa\", \"Chad\", \"Cote d'Ivoire\", \"Democratic Republic of Congo\", \"Eritrea\", \"Gambia\", \"Ghana\", \"Guinea\", \"Guinea-Bissau\", \"Lesotho\", \"Madagascar\", \"Malaysia\", \"Niger\", \"Papua New Guinea\", \"Philippines\", \"Sao Tome and Principe\", \"Sierra Leone\", \"Solomon Islands\", \"Somalia\", \"South Sudan\", \"Western Sub-Saharan Africa\", \"Zimbabwe\"], \"locations\": [\"BEN\", \"BFA\", \"BDI\", \"CMR\", \"CAF\", null, \"TCD\", \"CIV\", \"COD\", \"ERI\", \"GMB\", \"GHA\", \"GIN\", \"GNB\", \"LSO\", \"MDG\", \"MYS\", \"NER\", \"PNG\", \"PHL\", \"STP\", \"SLE\", \"SLB\", \"SOM\", \"SSD\", null, \"ZWE\"], \"name\": \"\", \"type\": \"choropleth\", \"z\": [107.91590119691601, 126.89981118127945, 121.52342855464838, 116.02011750251465, 158.9969727035181, 107.55430822853629, 148.4437073416655, 117.34068084252114, 111.62273045326715, 124.49203079874636, 112.0379285210428, 114.90907842427605, 143.76559492363046, 129.38984344562616, 120.10290329129671, 117.14351650936636, 112.90981317525991, 119.90413047559198, 113.23148811887323, 126.0522128249836, 114.02277048323394, 138.2487197555858, 153.58778942656744, 124.50705172393565, 140.18424237450705, 104.24860429833231, 137.63300446732416]}],                        {\"coloraxis\": {\"colorbar\": {\"title\": {\"text\": \"Deaths - Lower respiratory infections - Sex: Both - Age: Age-standardized (Rate)\"}}, \"colorscale\": [[0.0, \"#0d0887\"], [0.1111111111111111, \"#46039f\"], [0.2222222222222222, \"#7201a8\"], [0.3333333333333333, \"#9c179e\"], [0.4444444444444444, \"#bd3786\"], [0.5555555555555556, \"#d8576b\"], [0.6666666666666666, \"#ed7953\"], [0.7777777777777778, \"#fb9f3a\"], [0.8888888888888888, \"#fdca26\"], [1.0, \"#f0f921\"]]}, \"geo\": {\"center\": {}, \"domain\": {\"x\": [0.0, 1.0], \"y\": [0.0, 1.0]}}, \"legend\": {\"tracegroupgap\": 0}, \"margin\": {\"t\": 60}, \"template\": {\"data\": {\"bar\": [{\"error_x\": {\"color\": \"#2a3f5f\"}, \"error_y\": {\"color\": \"#2a3f5f\"}, \"marker\": {\"line\": {\"color\": \"#E5ECF6\", \"width\": 0.5}}, \"type\": \"bar\"}], \"barpolar\": [{\"marker\": {\"line\": {\"color\": \"#E5ECF6\", \"width\": 0.5}}, \"type\": \"barpolar\"}], \"carpet\": [{\"aaxis\": {\"endlinecolor\": \"#2a3f5f\", \"gridcolor\": \"white\", \"linecolor\": \"white\", \"minorgridcolor\": \"white\", \"startlinecolor\": \"#2a3f5f\"}, \"baxis\": {\"endlinecolor\": \"#2a3f5f\", \"gridcolor\": \"white\", \"linecolor\": \"white\", \"minorgridcolor\": \"white\", \"startlinecolor\": \"#2a3f5f\"}, \"type\": \"carpet\"}], \"choropleth\": [{\"colorbar\": {\"outlinewidth\": 0, \"ticks\": \"\"}, \"type\": \"choropleth\"}], \"contour\": [{\"colorbar\": {\"outlinewidth\": 0, \"ticks\": \"\"}, \"colorscale\": [[0.0, \"#0d0887\"], [0.1111111111111111, \"#46039f\"], [0.2222222222222222, \"#7201a8\"], [0.3333333333333333, \"#9c179e\"], [0.4444444444444444, \"#bd3786\"], [0.5555555555555556, \"#d8576b\"], [0.6666666666666666, \"#ed7953\"], [0.7777777777777778, \"#fb9f3a\"], [0.8888888888888888, \"#fdca26\"], [1.0, \"#f0f921\"]], \"type\": \"contour\"}], \"contourcarpet\": [{\"colorbar\": {\"outlinewidth\": 0, \"ticks\": \"\"}, \"type\": \"contourcarpet\"}], \"heatmap\": [{\"colorbar\": {\"outlinewidth\": 0, \"ticks\": \"\"}, \"colorscale\": [[0.0, \"#0d0887\"], [0.1111111111111111, \"#46039f\"], [0.2222222222222222, \"#7201a8\"], [0.3333333333333333, \"#9c179e\"], [0.4444444444444444, \"#bd3786\"], [0.5555555555555556, \"#d8576b\"], [0.6666666666666666, \"#ed7953\"], [0.7777777777777778, \"#fb9f3a\"], [0.8888888888888888, \"#fdca26\"], [1.0, \"#f0f921\"]], \"type\": \"heatmap\"}], \"heatmapgl\": [{\"colorbar\": {\"outlinewidth\": 0, \"ticks\": \"\"}, \"colorscale\": [[0.0, \"#0d0887\"], [0.1111111111111111, \"#46039f\"], [0.2222222222222222, \"#7201a8\"], [0.3333333333333333, \"#9c179e\"], [0.4444444444444444, \"#bd3786\"], [0.5555555555555556, \"#d8576b\"], [0.6666666666666666, \"#ed7953\"], [0.7777777777777778, \"#fb9f3a\"], [0.8888888888888888, \"#fdca26\"], [1.0, \"#f0f921\"]], \"type\": \"heatmapgl\"}], \"histogram\": [{\"marker\": {\"colorbar\": {\"outlinewidth\": 0, \"ticks\": \"\"}}, \"type\": \"histogram\"}], \"histogram2d\": [{\"colorbar\": {\"outlinewidth\": 0, \"ticks\": \"\"}, \"colorscale\": [[0.0, \"#0d0887\"], [0.1111111111111111, \"#46039f\"], [0.2222222222222222, \"#7201a8\"], [0.3333333333333333, \"#9c179e\"], [0.4444444444444444, \"#bd3786\"], [0.5555555555555556, \"#d8576b\"], [0.6666666666666666, \"#ed7953\"], [0.7777777777777778, \"#fb9f3a\"], [0.8888888888888888, \"#fdca26\"], [1.0, \"#f0f921\"]], \"type\": \"histogram2d\"}], \"histogram2dcontour\": [{\"colorbar\": {\"outlinewidth\": 0, \"ticks\": \"\"}, \"colorscale\": [[0.0, \"#0d0887\"], [0.1111111111111111, \"#46039f\"], [0.2222222222222222, \"#7201a8\"], [0.3333333333333333, \"#9c179e\"], [0.4444444444444444, \"#bd3786\"], [0.5555555555555556, \"#d8576b\"], [0.6666666666666666, \"#ed7953\"], [0.7777777777777778, \"#fb9f3a\"], [0.8888888888888888, \"#fdca26\"], [1.0, \"#f0f921\"]], \"type\": \"histogram2dcontour\"}], \"mesh3d\": [{\"colorbar\": {\"outlinewidth\": 0, \"ticks\": \"\"}, \"type\": \"mesh3d\"}], \"parcoords\": [{\"line\": {\"colorbar\": {\"outlinewidth\": 0, \"ticks\": \"\"}}, \"type\": \"parcoords\"}], \"pie\": [{\"automargin\": true, \"type\": \"pie\"}], \"scatter\": [{\"marker\": {\"colorbar\": {\"outlinewidth\": 0, \"ticks\": \"\"}}, \"type\": \"scatter\"}], \"scatter3d\": [{\"line\": {\"colorbar\": {\"outlinewidth\": 0, \"ticks\": \"\"}}, \"marker\": {\"colorbar\": {\"outlinewidth\": 0, \"ticks\": \"\"}}, \"type\": \"scatter3d\"}], \"scattercarpet\": [{\"marker\": {\"colorbar\": {\"outlinewidth\": 0, \"ticks\": \"\"}}, \"type\": \"scattercarpet\"}], \"scattergeo\": [{\"marker\": {\"colorbar\": {\"outlinewidth\": 0, \"ticks\": \"\"}}, \"type\": \"scattergeo\"}], \"scattergl\": [{\"marker\": {\"colorbar\": {\"outlinewidth\": 0, \"ticks\": \"\"}}, \"type\": \"scattergl\"}], \"scattermapbox\": [{\"marker\": {\"colorbar\": {\"outlinewidth\": 0, \"ticks\": \"\"}}, \"type\": \"scattermapbox\"}], \"scatterpolar\": [{\"marker\": {\"colorbar\": {\"outlinewidth\": 0, \"ticks\": \"\"}}, \"type\": \"scatterpolar\"}], \"scatterpolargl\": [{\"marker\": {\"colorbar\": {\"outlinewidth\": 0, \"ticks\": \"\"}}, \"type\": \"scatterpolargl\"}], \"scatterternary\": [{\"marker\": {\"colorbar\": {\"outlinewidth\": 0, \"ticks\": \"\"}}, \"type\": \"scatterternary\"}], \"surface\": [{\"colorbar\": {\"outlinewidth\": 0, \"ticks\": \"\"}, \"colorscale\": [[0.0, \"#0d0887\"], [0.1111111111111111, \"#46039f\"], [0.2222222222222222, \"#7201a8\"], [0.3333333333333333, \"#9c179e\"], [0.4444444444444444, \"#bd3786\"], [0.5555555555555556, \"#d8576b\"], [0.6666666666666666, \"#ed7953\"], [0.7777777777777778, \"#fb9f3a\"], [0.8888888888888888, \"#fdca26\"], [1.0, \"#f0f921\"]], \"type\": \"surface\"}], \"table\": [{\"cells\": {\"fill\": {\"color\": \"#EBF0F8\"}, \"line\": {\"color\": \"white\"}}, \"header\": {\"fill\": {\"color\": \"#C8D4E3\"}, \"line\": {\"color\": \"white\"}}, \"type\": \"table\"}]}, \"layout\": {\"annotationdefaults\": {\"arrowcolor\": \"#2a3f5f\", \"arrowhead\": 0, \"arrowwidth\": 1}, \"coloraxis\": {\"colorbar\": {\"outlinewidth\": 0, \"ticks\": \"\"}}, \"colorscale\": {\"diverging\": [[0, \"#8e0152\"], [0.1, \"#c51b7d\"], [0.2, \"#de77ae\"], [0.3, \"#f1b6da\"], [0.4, \"#fde0ef\"], [0.5, \"#f7f7f7\"], [0.6, \"#e6f5d0\"], [0.7, \"#b8e186\"], [0.8, \"#7fbc41\"], [0.9, \"#4d9221\"], [1, \"#276419\"]], \"sequential\": [[0.0, \"#0d0887\"], [0.1111111111111111, \"#46039f\"], [0.2222222222222222, \"#7201a8\"], [0.3333333333333333, \"#9c179e\"], [0.4444444444444444, \"#bd3786\"], [0.5555555555555556, \"#d8576b\"], [0.6666666666666666, \"#ed7953\"], [0.7777777777777778, \"#fb9f3a\"], [0.8888888888888888, \"#fdca26\"], [1.0, \"#f0f921\"]], \"sequentialminus\": [[0.0, \"#0d0887\"], [0.1111111111111111, \"#46039f\"], [0.2222222222222222, \"#7201a8\"], [0.3333333333333333, \"#9c179e\"], [0.4444444444444444, \"#bd3786\"], [0.5555555555555556, \"#d8576b\"], [0.6666666666666666, \"#ed7953\"], [0.7777777777777778, \"#fb9f3a\"], [0.8888888888888888, \"#fdca26\"], [1.0, \"#f0f921\"]]}, \"colorway\": [\"#636efa\", \"#EF553B\", \"#00cc96\", \"#ab63fa\", \"#FFA15A\", \"#19d3f3\", \"#FF6692\", \"#B6E880\", \"#FF97FF\", \"#FECB52\"], \"font\": {\"color\": \"#2a3f5f\"}, \"geo\": {\"bgcolor\": \"white\", \"lakecolor\": \"white\", \"landcolor\": \"#E5ECF6\", \"showlakes\": true, \"showland\": true, \"subunitcolor\": \"white\"}, \"hoverlabel\": {\"align\": \"left\"}, \"hovermode\": \"closest\", \"mapbox\": {\"style\": \"light\"}, \"paper_bgcolor\": \"white\", \"plot_bgcolor\": \"#E5ECF6\", \"polar\": {\"angularaxis\": {\"gridcolor\": \"white\", \"linecolor\": \"white\", \"ticks\": \"\"}, \"bgcolor\": \"#E5ECF6\", \"radialaxis\": {\"gridcolor\": \"white\", \"linecolor\": \"white\", \"ticks\": \"\"}}, \"scene\": {\"xaxis\": {\"backgroundcolor\": \"#E5ECF6\", \"gridcolor\": \"white\", \"gridwidth\": 2, \"linecolor\": \"white\", \"showbackground\": true, \"ticks\": \"\", \"zerolinecolor\": \"white\"}, \"yaxis\": {\"backgroundcolor\": \"#E5ECF6\", \"gridcolor\": \"white\", \"gridwidth\": 2, \"linecolor\": \"white\", \"showbackground\": true, \"ticks\": \"\", \"zerolinecolor\": \"white\"}, \"zaxis\": {\"backgroundcolor\": \"#E5ECF6\", \"gridcolor\": \"white\", \"gridwidth\": 2, \"linecolor\": \"white\", \"showbackground\": true, \"ticks\": \"\", \"zerolinecolor\": \"white\"}}, \"shapedefaults\": {\"line\": {\"color\": \"#2a3f5f\"}}, \"ternary\": {\"aaxis\": {\"gridcolor\": \"white\", \"linecolor\": \"white\", \"ticks\": \"\"}, \"baxis\": {\"gridcolor\": \"white\", \"linecolor\": \"white\", \"ticks\": \"\"}, \"bgcolor\": \"#E5ECF6\", \"caxis\": {\"gridcolor\": \"white\", \"linecolor\": \"white\", \"ticks\": \"\"}}, \"title\": {\"x\": 0.05}, \"xaxis\": {\"automargin\": true, \"gridcolor\": \"white\", \"linecolor\": \"white\", \"ticks\": \"\", \"title\": {\"standoff\": 15}, \"zerolinecolor\": \"white\", \"zerolinewidth\": 2}, \"yaxis\": {\"automargin\": true, \"gridcolor\": \"white\", \"linecolor\": \"white\", \"ticks\": \"\", \"title\": {\"standoff\": 15}, \"zerolinecolor\": \"white\", \"zerolinewidth\": 2}}}},                        {\"responsive\": true}                    ).then(function(){\n",
       "                            \n",
       "var gd = document.getElementById('1b991ae4-22d8-4cfa-a588-4bc7ece8916a');\n",
       "var x = new MutationObserver(function (mutations, observer) {{\n",
       "        var display = window.getComputedStyle(gd).display;\n",
       "        if (!display || display === 'none') {{\n",
       "            console.log([gd, 'removed!']);\n",
       "            Plotly.purge(gd);\n",
       "            observer.disconnect();\n",
       "        }}\n",
       "}});\n",
       "\n",
       "// Listen for the removal of the full notebook cells\n",
       "var notebookContainer = gd.closest('#notebook-container');\n",
       "if (notebookContainer) {{\n",
       "    x.observe(notebookContainer, {childList: true});\n",
       "}}\n",
       "\n",
       "// Listen for the clearing of the current output cell\n",
       "var outputEl = gd.closest('.output');\n",
       "if (outputEl) {{\n",
       "    x.observe(outputEl, {childList: true});\n",
       "}}\n",
       "\n",
       "                        })                };                });            </script>        </div>"
      ]
     },
     "metadata": {},
     "output_type": "display_data"
    }
   ],
   "source": [
    "fig2.show()"
   ]
  },
  {
   "cell_type": "code",
   "execution_count": 323,
   "metadata": {},
   "outputs": [],
   "source": [
    "# What regions have highest death rate \n",
    "## South East Asia and Central Africa"
   ]
  },
  {
   "cell_type": "code",
   "execution_count": 334,
   "metadata": {},
   "outputs": [
    {
     "data": {
      "text/html": [
       "<div>\n",
       "<style scoped>\n",
       "    .dataframe tbody tr th:only-of-type {\n",
       "        vertical-align: middle;\n",
       "    }\n",
       "\n",
       "    .dataframe tbody tr th {\n",
       "        vertical-align: top;\n",
       "    }\n",
       "\n",
       "    .dataframe thead th {\n",
       "        text-align: right;\n",
       "    }\n",
       "</style>\n",
       "<table border=\"1\" class=\"dataframe\">\n",
       "  <thead>\n",
       "    <tr style=\"text-align: right;\">\n",
       "      <th></th>\n",
       "      <th>Series Name</th>\n",
       "      <th>Series Code</th>\n",
       "      <th>Country Name</th>\n",
       "      <th>Country Code</th>\n",
       "      <th>2017 [YR2017]</th>\n",
       "    </tr>\n",
       "  </thead>\n",
       "  <tbody>\n",
       "    <tr>\n",
       "      <th>0</th>\n",
       "      <td>GDP per capita (current US$)</td>\n",
       "      <td>NY.GDP.PCAP.CD</td>\n",
       "      <td>Benin</td>\n",
       "      <td>BEN</td>\n",
       "      <td>1136.592847</td>\n",
       "    </tr>\n",
       "    <tr>\n",
       "      <th>1</th>\n",
       "      <td>GDP per capita (current US$)</td>\n",
       "      <td>NY.GDP.PCAP.CD</td>\n",
       "      <td>Burundi</td>\n",
       "      <td>BDI</td>\n",
       "      <td>292.9976307</td>\n",
       "    </tr>\n",
       "    <tr>\n",
       "      <th>2</th>\n",
       "      <td>GDP per capita (current US$)</td>\n",
       "      <td>NY.GDP.PCAP.CD</td>\n",
       "      <td>Burkina Faso</td>\n",
       "      <td>BFA</td>\n",
       "      <td>734.9944298</td>\n",
       "    </tr>\n",
       "    <tr>\n",
       "      <th>3</th>\n",
       "      <td>GDP per capita (current US$)</td>\n",
       "      <td>NY.GDP.PCAP.CD</td>\n",
       "      <td>Cameroon</td>\n",
       "      <td>CMR</td>\n",
       "      <td>1425.107818</td>\n",
       "    </tr>\n",
       "    <tr>\n",
       "      <th>4</th>\n",
       "      <td>GDP per capita (current US$)</td>\n",
       "      <td>NY.GDP.PCAP.CD</td>\n",
       "      <td>Central African Republic</td>\n",
       "      <td>CAF</td>\n",
       "      <td>450.900245</td>\n",
       "    </tr>\n",
       "    <tr>\n",
       "      <th>5</th>\n",
       "      <td>GDP per capita (current US$)</td>\n",
       "      <td>NY.GDP.PCAP.CD</td>\n",
       "      <td>Congo, Dem. Rep.</td>\n",
       "      <td>COD</td>\n",
       "      <td>467.0742375</td>\n",
       "    </tr>\n",
       "    <tr>\n",
       "      <th>6</th>\n",
       "      <td>GDP per capita (current US$)</td>\n",
       "      <td>NY.GDP.PCAP.CD</td>\n",
       "      <td>Cote d'Ivoire</td>\n",
       "      <td>CIV</td>\n",
       "      <td>2111.027076</td>\n",
       "    </tr>\n",
       "    <tr>\n",
       "      <th>7</th>\n",
       "      <td>GDP per capita (current US$)</td>\n",
       "      <td>NY.GDP.PCAP.CD</td>\n",
       "      <td>Chad</td>\n",
       "      <td>TCD</td>\n",
       "      <td>665.9483527</td>\n",
       "    </tr>\n",
       "    <tr>\n",
       "      <th>8</th>\n",
       "      <td>GDP per capita (current US$)</td>\n",
       "      <td>NY.GDP.PCAP.CD</td>\n",
       "      <td>Eritrea</td>\n",
       "      <td>ERI</td>\n",
       "      <td>..</td>\n",
       "    </tr>\n",
       "    <tr>\n",
       "      <th>9</th>\n",
       "      <td>GDP per capita (current US$)</td>\n",
       "      <td>NY.GDP.PCAP.CD</td>\n",
       "      <td>Gambia, The</td>\n",
       "      <td>GMB</td>\n",
       "      <td>679.756914</td>\n",
       "    </tr>\n",
       "    <tr>\n",
       "      <th>10</th>\n",
       "      <td>GDP per capita (current US$)</td>\n",
       "      <td>NY.GDP.PCAP.CD</td>\n",
       "      <td>Ghana</td>\n",
       "      <td>GHA</td>\n",
       "      <td>2025.932424</td>\n",
       "    </tr>\n",
       "    <tr>\n",
       "      <th>11</th>\n",
       "      <td>GDP per capita (current US$)</td>\n",
       "      <td>NY.GDP.PCAP.CD</td>\n",
       "      <td>Guinea</td>\n",
       "      <td>GIN</td>\n",
       "      <td>855.5736399</td>\n",
       "    </tr>\n",
       "    <tr>\n",
       "      <th>12</th>\n",
       "      <td>GDP per capita (current US$)</td>\n",
       "      <td>NY.GDP.PCAP.CD</td>\n",
       "      <td>Guinea-Bissau</td>\n",
       "      <td>GNB</td>\n",
       "      <td>738.5499449</td>\n",
       "    </tr>\n",
       "    <tr>\n",
       "      <th>13</th>\n",
       "      <td>GDP per capita (current US$)</td>\n",
       "      <td>NY.GDP.PCAP.CD</td>\n",
       "      <td>Lesotho</td>\n",
       "      <td>LSO</td>\n",
       "      <td>1150.079174</td>\n",
       "    </tr>\n",
       "    <tr>\n",
       "      <th>14</th>\n",
       "      <td>GDP per capita (current US$)</td>\n",
       "      <td>NY.GDP.PCAP.CD</td>\n",
       "      <td>Madagascar</td>\n",
       "      <td>MDG</td>\n",
       "      <td>515.2927249</td>\n",
       "    </tr>\n",
       "    <tr>\n",
       "      <th>15</th>\n",
       "      <td>GDP per capita (current US$)</td>\n",
       "      <td>NY.GDP.PCAP.CD</td>\n",
       "      <td>Malaysia</td>\n",
       "      <td>MYS</td>\n",
       "      <td>10259.18178</td>\n",
       "    </tr>\n",
       "    <tr>\n",
       "      <th>16</th>\n",
       "      <td>GDP per capita (current US$)</td>\n",
       "      <td>NY.GDP.PCAP.CD</td>\n",
       "      <td>Niger</td>\n",
       "      <td>NER</td>\n",
       "      <td>517.9750301</td>\n",
       "    </tr>\n",
       "    <tr>\n",
       "      <th>17</th>\n",
       "      <td>GDP per capita (current US$)</td>\n",
       "      <td>NY.GDP.PCAP.CD</td>\n",
       "      <td>Papua New Guinea</td>\n",
       "      <td>PNG</td>\n",
       "      <td>2695.251883</td>\n",
       "    </tr>\n",
       "    <tr>\n",
       "      <th>18</th>\n",
       "      <td>GDP per capita (current US$)</td>\n",
       "      <td>NY.GDP.PCAP.CD</td>\n",
       "      <td>Philippines</td>\n",
       "      <td>PHL</td>\n",
       "      <td>3123.234229</td>\n",
       "    </tr>\n",
       "    <tr>\n",
       "      <th>19</th>\n",
       "      <td>GDP per capita (current US$)</td>\n",
       "      <td>NY.GDP.PCAP.CD</td>\n",
       "      <td>Sao Tome and Principe</td>\n",
       "      <td>STP</td>\n",
       "      <td>1813.783235</td>\n",
       "    </tr>\n",
       "    <tr>\n",
       "      <th>20</th>\n",
       "      <td>GDP per capita (current US$)</td>\n",
       "      <td>NY.GDP.PCAP.CD</td>\n",
       "      <td>Sierra Leone</td>\n",
       "      <td>SLE</td>\n",
       "      <td>499.3807078</td>\n",
       "    </tr>\n",
       "    <tr>\n",
       "      <th>21</th>\n",
       "      <td>GDP per capita (current US$)</td>\n",
       "      <td>NY.GDP.PCAP.CD</td>\n",
       "      <td>Solomon Islands</td>\n",
       "      <td>SLB</td>\n",
       "      <td>2332.814874</td>\n",
       "    </tr>\n",
       "    <tr>\n",
       "      <th>22</th>\n",
       "      <td>GDP per capita (current US$)</td>\n",
       "      <td>NY.GDP.PCAP.CD</td>\n",
       "      <td>Somalia</td>\n",
       "      <td>SOM</td>\n",
       "      <td>..</td>\n",
       "    </tr>\n",
       "    <tr>\n",
       "      <th>23</th>\n",
       "      <td>GDP per capita (current US$)</td>\n",
       "      <td>NY.GDP.PCAP.CD</td>\n",
       "      <td>South Sudan</td>\n",
       "      <td>SSD</td>\n",
       "      <td>..</td>\n",
       "    </tr>\n",
       "    <tr>\n",
       "      <th>24</th>\n",
       "      <td>GDP per capita (current US$)</td>\n",
       "      <td>NY.GDP.PCAP.CD</td>\n",
       "      <td>Zimbabwe</td>\n",
       "      <td>ZWE</td>\n",
       "      <td>1548.170056</td>\n",
       "    </tr>\n",
       "    <tr>\n",
       "      <th>25</th>\n",
       "      <td>GDP per capita (current US$)</td>\n",
       "      <td>NY.GDP.PCAP.CD</td>\n",
       "      <td>World</td>\n",
       "      <td>WLD</td>\n",
       "      <td>10827.70326</td>\n",
       "    </tr>\n",
       "  </tbody>\n",
       "</table>\n",
       "</div>"
      ],
      "text/plain": [
       "                     Series Name     Series Code              Country Name  \\\n",
       "0   GDP per capita (current US$)  NY.GDP.PCAP.CD                     Benin   \n",
       "1   GDP per capita (current US$)  NY.GDP.PCAP.CD                   Burundi   \n",
       "2   GDP per capita (current US$)  NY.GDP.PCAP.CD              Burkina Faso   \n",
       "3   GDP per capita (current US$)  NY.GDP.PCAP.CD                  Cameroon   \n",
       "4   GDP per capita (current US$)  NY.GDP.PCAP.CD  Central African Republic   \n",
       "5   GDP per capita (current US$)  NY.GDP.PCAP.CD          Congo, Dem. Rep.   \n",
       "6   GDP per capita (current US$)  NY.GDP.PCAP.CD             Cote d'Ivoire   \n",
       "7   GDP per capita (current US$)  NY.GDP.PCAP.CD                      Chad   \n",
       "8   GDP per capita (current US$)  NY.GDP.PCAP.CD                   Eritrea   \n",
       "9   GDP per capita (current US$)  NY.GDP.PCAP.CD               Gambia, The   \n",
       "10  GDP per capita (current US$)  NY.GDP.PCAP.CD                     Ghana   \n",
       "11  GDP per capita (current US$)  NY.GDP.PCAP.CD                    Guinea   \n",
       "12  GDP per capita (current US$)  NY.GDP.PCAP.CD             Guinea-Bissau   \n",
       "13  GDP per capita (current US$)  NY.GDP.PCAP.CD                   Lesotho   \n",
       "14  GDP per capita (current US$)  NY.GDP.PCAP.CD                Madagascar   \n",
       "15  GDP per capita (current US$)  NY.GDP.PCAP.CD                  Malaysia   \n",
       "16  GDP per capita (current US$)  NY.GDP.PCAP.CD                     Niger   \n",
       "17  GDP per capita (current US$)  NY.GDP.PCAP.CD          Papua New Guinea   \n",
       "18  GDP per capita (current US$)  NY.GDP.PCAP.CD               Philippines   \n",
       "19  GDP per capita (current US$)  NY.GDP.PCAP.CD     Sao Tome and Principe   \n",
       "20  GDP per capita (current US$)  NY.GDP.PCAP.CD              Sierra Leone   \n",
       "21  GDP per capita (current US$)  NY.GDP.PCAP.CD           Solomon Islands   \n",
       "22  GDP per capita (current US$)  NY.GDP.PCAP.CD                   Somalia   \n",
       "23  GDP per capita (current US$)  NY.GDP.PCAP.CD               South Sudan   \n",
       "24  GDP per capita (current US$)  NY.GDP.PCAP.CD                  Zimbabwe   \n",
       "25  GDP per capita (current US$)  NY.GDP.PCAP.CD                     World   \n",
       "\n",
       "   Country Code 2017 [YR2017]  \n",
       "0           BEN   1136.592847  \n",
       "1           BDI   292.9976307  \n",
       "2           BFA   734.9944298  \n",
       "3           CMR   1425.107818  \n",
       "4           CAF    450.900245  \n",
       "5           COD   467.0742375  \n",
       "6           CIV   2111.027076  \n",
       "7           TCD   665.9483527  \n",
       "8           ERI            ..  \n",
       "9           GMB    679.756914  \n",
       "10          GHA   2025.932424  \n",
       "11          GIN   855.5736399  \n",
       "12          GNB   738.5499449  \n",
       "13          LSO   1150.079174  \n",
       "14          MDG   515.2927249  \n",
       "15          MYS   10259.18178  \n",
       "16          NER   517.9750301  \n",
       "17          PNG   2695.251883  \n",
       "18          PHL   3123.234229  \n",
       "19          STP   1813.783235  \n",
       "20          SLE   499.3807078  \n",
       "21          SLB   2332.814874  \n",
       "22          SOM            ..  \n",
       "23          SSD            ..  \n",
       "24          ZWE   1548.170056  \n",
       "25          WLD   10827.70326  "
      ]
     },
     "execution_count": 334,
     "metadata": {},
     "output_type": "execute_result"
    }
   ],
   "source": [
    "# Find GDP and Average Income in these countries \n",
    "GDP_Per_Capita = pd.read_csv('GDP Per Capita.csv')\n",
    "GDP_Per_Capita.dropna()"
   ]
  },
  {
   "cell_type": "code",
   "execution_count": 335,
   "metadata": {},
   "outputs": [],
   "source": [
    "# Drop unnecessary columns \n",
    "GDP_Per_Capita = GDP_Per_Capita.drop(columns ='Series Name')\n",
    "GDP_Per_Capita = GDP_Per_Capita.drop(columns ='Series Code')\n",
    "GDP_Per_Capita = GDP_Per_Capita.drop(columns = 'Country Code')"
   ]
  },
  {
   "cell_type": "code",
   "execution_count": 327,
   "metadata": {},
   "outputs": [
    {
     "data": {
      "text/html": [
       "<div>\n",
       "<style scoped>\n",
       "    .dataframe tbody tr th:only-of-type {\n",
       "        vertical-align: middle;\n",
       "    }\n",
       "\n",
       "    .dataframe tbody tr th {\n",
       "        vertical-align: top;\n",
       "    }\n",
       "\n",
       "    .dataframe thead th {\n",
       "        text-align: right;\n",
       "    }\n",
       "</style>\n",
       "<table border=\"1\" class=\"dataframe\">\n",
       "  <thead>\n",
       "    <tr style=\"text-align: right;\">\n",
       "      <th></th>\n",
       "      <th>Country Name</th>\n",
       "      <th>2017 [YR2017]</th>\n",
       "    </tr>\n",
       "  </thead>\n",
       "  <tbody>\n",
       "    <tr>\n",
       "      <th>0</th>\n",
       "      <td>Benin</td>\n",
       "      <td>1136.592847</td>\n",
       "    </tr>\n",
       "    <tr>\n",
       "      <th>1</th>\n",
       "      <td>Burundi</td>\n",
       "      <td>292.9976307</td>\n",
       "    </tr>\n",
       "    <tr>\n",
       "      <th>2</th>\n",
       "      <td>Burkina Faso</td>\n",
       "      <td>734.9944298</td>\n",
       "    </tr>\n",
       "    <tr>\n",
       "      <th>3</th>\n",
       "      <td>Cameroon</td>\n",
       "      <td>1425.107818</td>\n",
       "    </tr>\n",
       "    <tr>\n",
       "      <th>4</th>\n",
       "      <td>Central African Republic</td>\n",
       "      <td>450.900245</td>\n",
       "    </tr>\n",
       "    <tr>\n",
       "      <th>5</th>\n",
       "      <td>Congo, Dem. Rep.</td>\n",
       "      <td>467.0742375</td>\n",
       "    </tr>\n",
       "    <tr>\n",
       "      <th>6</th>\n",
       "      <td>Cote d'Ivoire</td>\n",
       "      <td>2111.027076</td>\n",
       "    </tr>\n",
       "    <tr>\n",
       "      <th>7</th>\n",
       "      <td>Chad</td>\n",
       "      <td>665.9483527</td>\n",
       "    </tr>\n",
       "    <tr>\n",
       "      <th>8</th>\n",
       "      <td>Eritrea</td>\n",
       "      <td>..</td>\n",
       "    </tr>\n",
       "    <tr>\n",
       "      <th>9</th>\n",
       "      <td>Gambia, The</td>\n",
       "      <td>679.756914</td>\n",
       "    </tr>\n",
       "    <tr>\n",
       "      <th>10</th>\n",
       "      <td>Ghana</td>\n",
       "      <td>2025.932424</td>\n",
       "    </tr>\n",
       "    <tr>\n",
       "      <th>11</th>\n",
       "      <td>Guinea</td>\n",
       "      <td>855.5736399</td>\n",
       "    </tr>\n",
       "    <tr>\n",
       "      <th>12</th>\n",
       "      <td>Guinea-Bissau</td>\n",
       "      <td>738.5499449</td>\n",
       "    </tr>\n",
       "    <tr>\n",
       "      <th>13</th>\n",
       "      <td>Lesotho</td>\n",
       "      <td>1150.079174</td>\n",
       "    </tr>\n",
       "    <tr>\n",
       "      <th>14</th>\n",
       "      <td>Madagascar</td>\n",
       "      <td>515.2927249</td>\n",
       "    </tr>\n",
       "    <tr>\n",
       "      <th>15</th>\n",
       "      <td>Malaysia</td>\n",
       "      <td>10259.18178</td>\n",
       "    </tr>\n",
       "    <tr>\n",
       "      <th>16</th>\n",
       "      <td>Niger</td>\n",
       "      <td>517.9750301</td>\n",
       "    </tr>\n",
       "    <tr>\n",
       "      <th>17</th>\n",
       "      <td>Papua New Guinea</td>\n",
       "      <td>2695.251883</td>\n",
       "    </tr>\n",
       "    <tr>\n",
       "      <th>18</th>\n",
       "      <td>Philippines</td>\n",
       "      <td>3123.234229</td>\n",
       "    </tr>\n",
       "    <tr>\n",
       "      <th>19</th>\n",
       "      <td>Sao Tome and Principe</td>\n",
       "      <td>1813.783235</td>\n",
       "    </tr>\n",
       "    <tr>\n",
       "      <th>20</th>\n",
       "      <td>Sierra Leone</td>\n",
       "      <td>499.3807078</td>\n",
       "    </tr>\n",
       "    <tr>\n",
       "      <th>21</th>\n",
       "      <td>Solomon Islands</td>\n",
       "      <td>2332.814874</td>\n",
       "    </tr>\n",
       "    <tr>\n",
       "      <th>22</th>\n",
       "      <td>Somalia</td>\n",
       "      <td>..</td>\n",
       "    </tr>\n",
       "    <tr>\n",
       "      <th>23</th>\n",
       "      <td>South Sudan</td>\n",
       "      <td>..</td>\n",
       "    </tr>\n",
       "    <tr>\n",
       "      <th>24</th>\n",
       "      <td>Zimbabwe</td>\n",
       "      <td>1548.170056</td>\n",
       "    </tr>\n",
       "    <tr>\n",
       "      <th>25</th>\n",
       "      <td>World</td>\n",
       "      <td>10827.70326</td>\n",
       "    </tr>\n",
       "  </tbody>\n",
       "</table>\n",
       "</div>"
      ],
      "text/plain": [
       "                Country Name 2017 [YR2017]\n",
       "0                      Benin   1136.592847\n",
       "1                    Burundi   292.9976307\n",
       "2               Burkina Faso   734.9944298\n",
       "3                   Cameroon   1425.107818\n",
       "4   Central African Republic    450.900245\n",
       "5           Congo, Dem. Rep.   467.0742375\n",
       "6              Cote d'Ivoire   2111.027076\n",
       "7                       Chad   665.9483527\n",
       "8                    Eritrea            ..\n",
       "9                Gambia, The    679.756914\n",
       "10                     Ghana   2025.932424\n",
       "11                    Guinea   855.5736399\n",
       "12             Guinea-Bissau   738.5499449\n",
       "13                   Lesotho   1150.079174\n",
       "14                Madagascar   515.2927249\n",
       "15                  Malaysia   10259.18178\n",
       "16                     Niger   517.9750301\n",
       "17          Papua New Guinea   2695.251883\n",
       "18               Philippines   3123.234229\n",
       "19     Sao Tome and Principe   1813.783235\n",
       "20              Sierra Leone   499.3807078\n",
       "21           Solomon Islands   2332.814874\n",
       "22                   Somalia            ..\n",
       "23               South Sudan            ..\n",
       "24                  Zimbabwe   1548.170056\n",
       "25                     World   10827.70326"
      ]
     },
     "execution_count": 327,
     "metadata": {},
     "output_type": "execute_result"
    }
   ],
   "source": [
    "# Drop all NA's\n",
    "GDP_Per_Capita.dropna()\n"
   ]
  },
  {
   "cell_type": "code",
   "execution_count": 336,
   "metadata": {},
   "outputs": [],
   "source": [
    "# Set index\n",
    "GDP_Per_Capita_df = GDP_Per_Capita.set_index('Country Name')"
   ]
  },
  {
   "cell_type": "code",
   "execution_count": 337,
   "metadata": {},
   "outputs": [
    {
     "data": {
      "text/html": [
       "<div>\n",
       "<style scoped>\n",
       "    .dataframe tbody tr th:only-of-type {\n",
       "        vertical-align: middle;\n",
       "    }\n",
       "\n",
       "    .dataframe tbody tr th {\n",
       "        vertical-align: top;\n",
       "    }\n",
       "\n",
       "    .dataframe thead th {\n",
       "        text-align: right;\n",
       "    }\n",
       "</style>\n",
       "<table border=\"1\" class=\"dataframe\">\n",
       "  <thead>\n",
       "    <tr style=\"text-align: right;\">\n",
       "      <th></th>\n",
       "      <th>2017 [YR2017]</th>\n",
       "    </tr>\n",
       "    <tr>\n",
       "      <th>Country Name</th>\n",
       "      <th></th>\n",
       "    </tr>\n",
       "  </thead>\n",
       "  <tbody>\n",
       "    <tr>\n",
       "      <th>Benin</th>\n",
       "      <td>1136.592847</td>\n",
       "    </tr>\n",
       "    <tr>\n",
       "      <th>Burundi</th>\n",
       "      <td>292.9976307</td>\n",
       "    </tr>\n",
       "    <tr>\n",
       "      <th>Burkina Faso</th>\n",
       "      <td>734.9944298</td>\n",
       "    </tr>\n",
       "    <tr>\n",
       "      <th>Cameroon</th>\n",
       "      <td>1425.107818</td>\n",
       "    </tr>\n",
       "    <tr>\n",
       "      <th>Central African Republic</th>\n",
       "      <td>450.900245</td>\n",
       "    </tr>\n",
       "  </tbody>\n",
       "</table>\n",
       "</div>"
      ],
      "text/plain": [
       "                         2017 [YR2017]\n",
       "Country Name                          \n",
       "Benin                      1136.592847\n",
       "Burundi                    292.9976307\n",
       "Burkina Faso               734.9944298\n",
       "Cameroon                   1425.107818\n",
       "Central African Republic    450.900245"
      ]
     },
     "execution_count": 337,
     "metadata": {},
     "output_type": "execute_result"
    }
   ],
   "source": [
    "GDP_Per_Capita_df.head()"
   ]
  },
  {
   "cell_type": "code",
   "execution_count": 338,
   "metadata": {},
   "outputs": [],
   "source": [
    "import hvplot.pandas"
   ]
  },
  {
   "cell_type": "code",
   "execution_count": 339,
   "metadata": {},
   "outputs": [
    {
     "data": {
      "text/plain": [
       "2017 [YR2017]    object\n",
       "dtype: object"
      ]
     },
     "execution_count": 339,
     "metadata": {},
     "output_type": "execute_result"
    }
   ],
   "source": [
    "# Find dtypes\n",
    "GDP_Per_Capita_df.dtypes"
   ]
  },
  {
   "cell_type": "code",
   "execution_count": 340,
   "metadata": {},
   "outputs": [],
   "source": [
    "# Remove no data rows \n",
    "GDP_Per_Capita_df = GDP_Per_Capita_df.loc[GDP_Per_Capita_df['2017 [YR2017]'] > '..']"
   ]
  },
  {
   "cell_type": "code",
   "execution_count": 341,
   "metadata": {},
   "outputs": [],
   "source": [
    "# Convert to float\n",
    "GDP_Per_Capita_df = GDP_Per_Capita_df['2017 [YR2017]'].astype(float)"
   ]
  },
  {
   "cell_type": "code",
   "execution_count": 342,
   "metadata": {},
   "outputs": [
    {
     "data": {
      "application/vnd.holoviews_exec.v0+json": "",
      "text/html": [
       "<div id='1525'>\n",
       "\n",
       "\n",
       "\n",
       "\n",
       "\n",
       "  <div class=\"bk-root\" id=\"35d23a07-4485-4873-9d38-1e00bbffb833\" data-root-id=\"1525\"></div>\n",
       "</div>\n",
       "<script type=\"application/javascript\">(function(root) {\n",
       "  function embed_document(root) {\n",
       "  var docs_json = {\"4d837ce9-e6d9-4154-9da5-0d6cf7d14070\":{\"roots\":{\"references\":[{\"attributes\":{\"axis_label\":\"Country Name\",\"bounds\":\"auto\",\"formatter\":{\"id\":\"1567\"},\"major_label_orientation\":0.7853981633974483,\"ticker\":{\"id\":\"1540\"}},\"id\":\"1539\",\"type\":\"CategoricalAxis\"},{\"attributes\":{\"fill_color\":{\"value\":\"#1f77b3\"},\"top\":{\"field\":\"A_2017_left_square_bracket_YR2017_right_square_bracket\"},\"width\":{\"value\":0.8},\"x\":{\"field\":\"Country_Name\"}},\"id\":\"1562\",\"type\":\"VBar\"},{\"attributes\":{\"callback\":null,\"renderers\":[{\"id\":\"1565\"}],\"tags\":[\"hv_created\"],\"tooltips\":[[\"Country Name\",\"@{Country_Name}\"],[\"2017 [YR2017]\",\"@{A_2017_left_square_bracket_YR2017_right_square_bracket}\"]]},\"id\":\"1529\",\"type\":\"HoverTool\"},{\"attributes\":{\"children\":[{\"id\":\"1526\"},{\"id\":\"1530\"},{\"id\":\"1587\"}],\"margin\":[0,0,0,0],\"name\":\"Row02571\",\"tags\":[\"embedded\"]},\"id\":\"1525\",\"type\":\"Row\"},{\"attributes\":{},\"id\":\"1537\",\"type\":\"LinearScale\"},{\"attributes\":{},\"id\":\"1550\",\"type\":\"ResetTool\"},{\"attributes\":{\"fill_alpha\":{\"value\":0.2},\"fill_color\":{\"value\":\"#1f77b3\"},\"line_alpha\":{\"value\":0.2},\"top\":{\"field\":\"A_2017_left_square_bracket_YR2017_right_square_bracket\"},\"width\":{\"value\":0.8},\"x\":{\"field\":\"Country_Name\"}},\"id\":\"1564\",\"type\":\"VBar\"},{\"attributes\":{\"data_source\":{\"id\":\"1559\"},\"glyph\":{\"id\":\"1562\"},\"hover_glyph\":null,\"muted_glyph\":{\"id\":\"1564\"},\"nonselection_glyph\":{\"id\":\"1563\"},\"selection_glyph\":null,\"view\":{\"id\":\"1566\"}},\"id\":\"1565\",\"type\":\"GlyphRenderer\"},{\"attributes\":{\"margin\":[5,5,5,5],\"name\":\"HSpacer02575\",\"sizing_mode\":\"stretch_width\"},\"id\":\"1526\",\"type\":\"Spacer\"},{\"attributes\":{\"axis\":{\"id\":\"1539\"},\"grid_line_color\":null,\"ticker\":null},\"id\":\"1541\",\"type\":\"Grid\"},{\"attributes\":{},\"id\":\"1540\",\"type\":\"CategoricalTicker\"},{\"attributes\":{\"axis_label\":\"\",\"bounds\":\"auto\",\"formatter\":{\"id\":\"1569\"},\"major_label_orientation\":\"horizontal\",\"ticker\":{\"id\":\"1543\"}},\"id\":\"1542\",\"type\":\"LinearAxis\"},{\"attributes\":{\"margin\":[5,5,5,5],\"name\":\"HSpacer02576\",\"sizing_mode\":\"stretch_width\"},\"id\":\"1587\",\"type\":\"Spacer\"},{\"attributes\":{\"fill_alpha\":{\"value\":0.1},\"fill_color\":{\"value\":\"#1f77b3\"},\"line_alpha\":{\"value\":0.1},\"top\":{\"field\":\"A_2017_left_square_bracket_YR2017_right_square_bracket\"},\"width\":{\"value\":0.8},\"x\":{\"field\":\"Country_Name\"}},\"id\":\"1563\",\"type\":\"VBar\"},{\"attributes\":{},\"id\":\"1543\",\"type\":\"BasicTicker\"},{\"attributes\":{},\"id\":\"1535\",\"type\":\"CategoricalScale\"},{\"attributes\":{\"source\":{\"id\":\"1559\"}},\"id\":\"1566\",\"type\":\"CDSView\"},{\"attributes\":{\"axis\":{\"id\":\"1542\"},\"dimension\":1,\"grid_line_color\":null,\"ticker\":null},\"id\":\"1545\",\"type\":\"Grid\"},{\"attributes\":{\"active_drag\":\"auto\",\"active_inspect\":\"auto\",\"active_multi\":null,\"active_scroll\":\"auto\",\"active_tap\":\"auto\",\"tools\":[{\"id\":\"1529\"},{\"id\":\"1546\"},{\"id\":\"1547\"},{\"id\":\"1548\"},{\"id\":\"1549\"},{\"id\":\"1550\"}]},\"id\":\"1552\",\"type\":\"Toolbar\"},{\"attributes\":{},\"id\":\"1569\",\"type\":\"BasicTickFormatter\"},{\"attributes\":{},\"id\":\"1547\",\"type\":\"PanTool\"},{\"attributes\":{\"bottom_units\":\"screen\",\"fill_alpha\":0.5,\"fill_color\":\"lightgrey\",\"left_units\":\"screen\",\"level\":\"overlay\",\"line_alpha\":1.0,\"line_color\":\"black\",\"line_dash\":[4,4],\"line_width\":2,\"right_units\":\"screen\",\"top_units\":\"screen\"},\"id\":\"1551\",\"type\":\"BoxAnnotation\"},{\"attributes\":{\"data\":{\"A_2017_left_square_bracket_YR2017_right_square_bracket\":{\"__ndarray__\":\"ILJIE1/CkUDF35tL9k9yQFhpnJf094ZArn/XZ25ElkAzFk1nZy58QDAqqRMwMX1AA83n3A1+oECWvPA5ls+EQBRf7SgOPoVABmhbzbqnn0ByEYTQlryKQNEAg0lmFIdAxjL9ElH4kUDNASeAVxqAQIkpkUSXCcRA7cCU3MwvgEDW/s72gA6lQI0N3ex3ZqhAVRhbCCJXnEBQ5Q9hFzZ/QLk4KjehOaJA9PkoI64wmEBLdmwE2iXFQA==\",\"dtype\":\"float64\",\"order\":\"little\",\"shape\":[23]},\"Country_Name\":[\"Benin\",\"Burundi\",\"Burkina Faso\",\"Cameroon\",\"Central African Republic\",\"Congo, Dem. Rep.\",\"Cote d'Ivoire\",\"Chad\",\"Gambia, The\",\"Ghana\",\"Guinea\",\"Guinea-Bissau\",\"Lesotho\",\"Madagascar\",\"Malaysia\",\"Niger\",\"Papua New Guinea\",\"Philippines\",\"Sao Tome and Principe\",\"Sierra Leone\",\"Solomon Islands\",\"Zimbabwe\",\"World\"]},\"selected\":{\"id\":\"1560\"},\"selection_policy\":{\"id\":\"1576\"}},\"id\":\"1559\",\"type\":\"ColumnDataSource\"},{\"attributes\":{\"overlay\":{\"id\":\"1551\"}},\"id\":\"1549\",\"type\":\"BoxZoomTool\"},{\"attributes\":{},\"id\":\"1560\",\"type\":\"Selection\"},{\"attributes\":{},\"id\":\"1576\",\"type\":\"UnionRenderers\"},{\"attributes\":{\"factors\":[\"Benin\",\"Burundi\",\"Burkina Faso\",\"Cameroon\",\"Central African Republic\",\"Congo, Dem. Rep.\",\"Cote d'Ivoire\",\"Chad\",\"Gambia, The\",\"Ghana\",\"Guinea\",\"Guinea-Bissau\",\"Lesotho\",\"Madagascar\",\"Malaysia\",\"Niger\",\"Papua New Guinea\",\"Philippines\",\"Sao Tome and Principe\",\"Sierra Leone\",\"Solomon Islands\",\"Zimbabwe\",\"World\"],\"tags\":[[[\"Country Name\",\"Country Name\",null]]]},\"id\":\"1527\",\"type\":\"FactorRange\"},{\"attributes\":{\"end\":11881.17382293,\"reset_end\":11881.17382293,\"reset_start\":0.0,\"tags\":[[[\"2017 [YR2017]\",\"2017 [YR2017]\",null]]]},\"id\":\"1528\",\"type\":\"Range1d\"},{\"attributes\":{\"align\":null,\"below\":[{\"id\":\"1539\"}],\"center\":[{\"id\":\"1541\"},{\"id\":\"1545\"}],\"left\":[{\"id\":\"1542\"}],\"margin\":null,\"min_border_bottom\":10,\"min_border_left\":10,\"min_border_right\":10,\"min_border_top\":10,\"plot_height\":500,\"plot_width\":500,\"renderers\":[{\"id\":\"1565\"}],\"sizing_mode\":\"fixed\",\"title\":{\"id\":\"1531\"},\"toolbar\":{\"id\":\"1552\"},\"x_range\":{\"id\":\"1527\"},\"x_scale\":{\"id\":\"1535\"},\"y_range\":{\"id\":\"1528\"},\"y_scale\":{\"id\":\"1537\"}},\"id\":\"1530\",\"subtype\":\"Figure\",\"type\":\"Plot\"},{\"attributes\":{},\"id\":\"1546\",\"type\":\"SaveTool\"},{\"attributes\":{},\"id\":\"1548\",\"type\":\"WheelZoomTool\"},{\"attributes\":{\"text\":\"GDP Per Capita(USD)\",\"text_color\":{\"value\":\"black\"},\"text_font_size\":{\"value\":\"12pt\"}},\"id\":\"1531\",\"type\":\"Title\"},{\"attributes\":{},\"id\":\"1567\",\"type\":\"CategoricalTickFormatter\"}],\"root_ids\":[\"1525\"]},\"title\":\"Bokeh Application\",\"version\":\"2.1.1\"}};\n",
       "  var render_items = [{\"docid\":\"4d837ce9-e6d9-4154-9da5-0d6cf7d14070\",\"root_ids\":[\"1525\"],\"roots\":{\"1525\":\"35d23a07-4485-4873-9d38-1e00bbffb833\"}}];\n",
       "  root.Bokeh.embed.embed_items_notebook(docs_json, render_items);\n",
       "  }\n",
       "if (root.Bokeh !== undefined) {\n",
       "    embed_document(root);\n",
       "  } else {\n",
       "    var attempts = 0;\n",
       "    var timer = setInterval(function(root) {\n",
       "      if (root.Bokeh !== undefined) {\n",
       "        clearInterval(timer);\n",
       "        embed_document(root);\n",
       "      } else if (document.readyState == \"complete\") {\n",
       "        attempts++;\n",
       "        if (attempts > 100) {\n",
       "          clearInterval(timer);\n",
       "          console.log(\"Bokeh: ERROR: Unable to run BokehJS code because BokehJS library is missing\");\n",
       "        }\n",
       "      }\n",
       "    }, 10, root)\n",
       "  }\n",
       "})(window);</script>"
      ],
      "text/plain": [
       ":Bars   [Country Name]   (2017 [YR2017])"
      ]
     },
     "execution_count": 342,
     "metadata": {
      "application/vnd.holoviews_exec.v0+json": {
       "id": "1525"
      }
     },
     "output_type": "execute_result"
    }
   ],
   "source": [
    "# Plot GDP per capita \n",
    "GDP_Per_Capita_df.hvplot.bar(x = 'Country Name', y = '2017 [YR2017]', width = 500, height = 500, rot = 45, title = \"GDP Per Capita(USD)\")"
   ]
  },
  {
   "cell_type": "code",
   "execution_count": 343,
   "metadata": {},
   "outputs": [],
   "source": [
    "# Countries with highest death from pneumonia has GDP Per Capita below World Average "
   ]
  },
  {
   "cell_type": "code",
   "execution_count": 344,
   "metadata": {},
   "outputs": [],
   "source": [
    "# Most cases of pneumonia can be treated with antibiotics costing less than $0.40 for a full course."
   ]
  },
  {
   "cell_type": "code",
   "execution_count": 345,
   "metadata": {},
   "outputs": [],
   "source": [
    "# Diagnosis is the expensive part"
   ]
  },
  {
   "cell_type": "code",
   "execution_count": 395,
   "metadata": {},
   "outputs": [],
   "source": [
    "# Read Current Health Expenditure Per Capita\n",
    "CHE_Per_Capita = pd.read_csv(\"Current Health Expenditure Per Capita.csv\")"
   ]
  },
  {
   "cell_type": "code",
   "execution_count": 396,
   "metadata": {},
   "outputs": [],
   "source": [
    "# Drop Unnecessary columns \n",
    "CHE_Per_Capita = CHE_Per_Capita.drop(columns = \"Series Name\")\n",
    "CHE_Per_Capita = CHE_Per_Capita.drop(columns = \"Series Code\")\n",
    "CHE_Per_Capita = CHE_Per_Capita.drop(columns = 'Country Code')"
   ]
  },
  {
   "cell_type": "code",
   "execution_count": 397,
   "metadata": {},
   "outputs": [
    {
     "data": {
      "text/html": [
       "<div>\n",
       "<style scoped>\n",
       "    .dataframe tbody tr th:only-of-type {\n",
       "        vertical-align: middle;\n",
       "    }\n",
       "\n",
       "    .dataframe tbody tr th {\n",
       "        vertical-align: top;\n",
       "    }\n",
       "\n",
       "    .dataframe thead th {\n",
       "        text-align: right;\n",
       "    }\n",
       "</style>\n",
       "<table border=\"1\" class=\"dataframe\">\n",
       "  <thead>\n",
       "    <tr style=\"text-align: right;\">\n",
       "      <th></th>\n",
       "      <th>Country Name</th>\n",
       "      <th>2017 [YR2017]</th>\n",
       "    </tr>\n",
       "  </thead>\n",
       "  <tbody>\n",
       "    <tr>\n",
       "      <th>0</th>\n",
       "      <td>Benin</td>\n",
       "      <td>30.05702591</td>\n",
       "    </tr>\n",
       "    <tr>\n",
       "      <th>1</th>\n",
       "      <td>Burundi</td>\n",
       "      <td>23.58145905</td>\n",
       "    </tr>\n",
       "    <tr>\n",
       "      <th>2</th>\n",
       "      <td>Burkina Faso</td>\n",
       "      <td>44.40372086</td>\n",
       "    </tr>\n",
       "    <tr>\n",
       "      <th>3</th>\n",
       "      <td>Cameroon</td>\n",
       "      <td>49.64924622</td>\n",
       "    </tr>\n",
       "    <tr>\n",
       "      <th>4</th>\n",
       "      <td>Central African Republic</td>\n",
       "      <td>29.9801693</td>\n",
       "    </tr>\n",
       "    <tr>\n",
       "      <th>5</th>\n",
       "      <td>Congo, Dem. Rep.</td>\n",
       "      <td>19.41761589</td>\n",
       "    </tr>\n",
       "    <tr>\n",
       "      <th>6</th>\n",
       "      <td>Cote d'Ivoire</td>\n",
       "      <td>69.34188843</td>\n",
       "    </tr>\n",
       "    <tr>\n",
       "      <th>7</th>\n",
       "      <td>Chad</td>\n",
       "      <td>29.49969864</td>\n",
       "    </tr>\n",
       "    <tr>\n",
       "      <th>8</th>\n",
       "      <td>Eritrea</td>\n",
       "      <td>21.17291069</td>\n",
       "    </tr>\n",
       "    <tr>\n",
       "      <th>9</th>\n",
       "      <td>Gambia, The</td>\n",
       "      <td>22.71026421</td>\n",
       "    </tr>\n",
       "    <tr>\n",
       "      <th>10</th>\n",
       "      <td>Ghana</td>\n",
       "      <td>67.45523071</td>\n",
       "    </tr>\n",
       "    <tr>\n",
       "      <th>11</th>\n",
       "      <td>Guinea-Bissau</td>\n",
       "      <td>50.57252884</td>\n",
       "    </tr>\n",
       "    <tr>\n",
       "      <th>12</th>\n",
       "      <td>Guinea</td>\n",
       "      <td>36.50824356</td>\n",
       "    </tr>\n",
       "    <tr>\n",
       "      <th>13</th>\n",
       "      <td>Lesotho</td>\n",
       "      <td>111.6414261</td>\n",
       "    </tr>\n",
       "    <tr>\n",
       "      <th>14</th>\n",
       "      <td>Madagascar</td>\n",
       "      <td>24.68006706</td>\n",
       "    </tr>\n",
       "    <tr>\n",
       "      <th>15</th>\n",
       "      <td>Malaysia</td>\n",
       "      <td>380.68573</td>\n",
       "    </tr>\n",
       "    <tr>\n",
       "      <th>16</th>\n",
       "      <td>Niger</td>\n",
       "      <td>28.80011749</td>\n",
       "    </tr>\n",
       "    <tr>\n",
       "      <th>17</th>\n",
       "      <td>Papua New Guinea</td>\n",
       "      <td>60.09675598</td>\n",
       "    </tr>\n",
       "    <tr>\n",
       "      <th>18</th>\n",
       "      <td>Philippines</td>\n",
       "      <td>132.5789642</td>\n",
       "    </tr>\n",
       "    <tr>\n",
       "      <th>19</th>\n",
       "      <td>Sao Tome and Principe</td>\n",
       "      <td>117.0106812</td>\n",
       "    </tr>\n",
       "    <tr>\n",
       "      <th>20</th>\n",
       "      <td>Sierra Leone</td>\n",
       "      <td>82.54949188</td>\n",
       "    </tr>\n",
       "    <tr>\n",
       "      <th>21</th>\n",
       "      <td>Solomon Islands</td>\n",
       "      <td>97.43276978</td>\n",
       "    </tr>\n",
       "    <tr>\n",
       "      <th>22</th>\n",
       "      <td>Somalia</td>\n",
       "      <td>..</td>\n",
       "    </tr>\n",
       "    <tr>\n",
       "      <th>23</th>\n",
       "      <td>South Sudan</td>\n",
       "      <td>26.38130379</td>\n",
       "    </tr>\n",
       "    <tr>\n",
       "      <th>24</th>\n",
       "      <td>Zimbabwe</td>\n",
       "      <td>112.7419357</td>\n",
       "    </tr>\n",
       "    <tr>\n",
       "      <th>25</th>\n",
       "      <td>World</td>\n",
       "      <td>1064.73265</td>\n",
       "    </tr>\n",
       "    <tr>\n",
       "      <th>26</th>\n",
       "      <td>NaN</td>\n",
       "      <td>NaN</td>\n",
       "    </tr>\n",
       "    <tr>\n",
       "      <th>27</th>\n",
       "      <td>NaN</td>\n",
       "      <td>NaN</td>\n",
       "    </tr>\n",
       "    <tr>\n",
       "      <th>28</th>\n",
       "      <td>NaN</td>\n",
       "      <td>NaN</td>\n",
       "    </tr>\n",
       "    <tr>\n",
       "      <th>29</th>\n",
       "      <td>NaN</td>\n",
       "      <td>NaN</td>\n",
       "    </tr>\n",
       "    <tr>\n",
       "      <th>30</th>\n",
       "      <td>NaN</td>\n",
       "      <td>NaN</td>\n",
       "    </tr>\n",
       "  </tbody>\n",
       "</table>\n",
       "</div>"
      ],
      "text/plain": [
       "                Country Name 2017 [YR2017]\n",
       "0                      Benin   30.05702591\n",
       "1                    Burundi   23.58145905\n",
       "2               Burkina Faso   44.40372086\n",
       "3                   Cameroon   49.64924622\n",
       "4   Central African Republic    29.9801693\n",
       "5           Congo, Dem. Rep.   19.41761589\n",
       "6              Cote d'Ivoire   69.34188843\n",
       "7                       Chad   29.49969864\n",
       "8                    Eritrea   21.17291069\n",
       "9                Gambia, The   22.71026421\n",
       "10                     Ghana   67.45523071\n",
       "11             Guinea-Bissau   50.57252884\n",
       "12                    Guinea   36.50824356\n",
       "13                   Lesotho   111.6414261\n",
       "14                Madagascar   24.68006706\n",
       "15                  Malaysia     380.68573\n",
       "16                     Niger   28.80011749\n",
       "17          Papua New Guinea   60.09675598\n",
       "18               Philippines   132.5789642\n",
       "19     Sao Tome and Principe   117.0106812\n",
       "20              Sierra Leone   82.54949188\n",
       "21           Solomon Islands   97.43276978\n",
       "22                   Somalia            ..\n",
       "23               South Sudan   26.38130379\n",
       "24                  Zimbabwe   112.7419357\n",
       "25                     World    1064.73265\n",
       "26                       NaN           NaN\n",
       "27                       NaN           NaN\n",
       "28                       NaN           NaN\n",
       "29                       NaN           NaN\n",
       "30                       NaN           NaN"
      ]
     },
     "execution_count": 397,
     "metadata": {},
     "output_type": "execute_result"
    }
   ],
   "source": [
    "CHE_Per_Capita"
   ]
  },
  {
   "cell_type": "code",
   "execution_count": null,
   "metadata": {},
   "outputs": [],
   "source": []
  },
  {
   "cell_type": "code",
   "execution_count": 398,
   "metadata": {},
   "outputs": [],
   "source": [
    "# Drop no data\n",
    "CHE_Per_Capita = CHE_Per_Capita.drop(labels = [8, 22,23 ], axis =0,)\n"
   ]
  },
  {
   "cell_type": "code",
   "execution_count": 399,
   "metadata": {},
   "outputs": [
    {
     "data": {
      "text/html": [
       "<div>\n",
       "<style scoped>\n",
       "    .dataframe tbody tr th:only-of-type {\n",
       "        vertical-align: middle;\n",
       "    }\n",
       "\n",
       "    .dataframe tbody tr th {\n",
       "        vertical-align: top;\n",
       "    }\n",
       "\n",
       "    .dataframe thead th {\n",
       "        text-align: right;\n",
       "    }\n",
       "</style>\n",
       "<table border=\"1\" class=\"dataframe\">\n",
       "  <thead>\n",
       "    <tr style=\"text-align: right;\">\n",
       "      <th></th>\n",
       "      <th>Country Name</th>\n",
       "      <th>2017 [YR2017]</th>\n",
       "    </tr>\n",
       "  </thead>\n",
       "  <tbody>\n",
       "    <tr>\n",
       "      <th>0</th>\n",
       "      <td>Benin</td>\n",
       "      <td>30.05702591</td>\n",
       "    </tr>\n",
       "    <tr>\n",
       "      <th>1</th>\n",
       "      <td>Burundi</td>\n",
       "      <td>23.58145905</td>\n",
       "    </tr>\n",
       "    <tr>\n",
       "      <th>2</th>\n",
       "      <td>Burkina Faso</td>\n",
       "      <td>44.40372086</td>\n",
       "    </tr>\n",
       "    <tr>\n",
       "      <th>3</th>\n",
       "      <td>Cameroon</td>\n",
       "      <td>49.64924622</td>\n",
       "    </tr>\n",
       "    <tr>\n",
       "      <th>4</th>\n",
       "      <td>Central African Republic</td>\n",
       "      <td>29.9801693</td>\n",
       "    </tr>\n",
       "    <tr>\n",
       "      <th>5</th>\n",
       "      <td>Congo, Dem. Rep.</td>\n",
       "      <td>19.41761589</td>\n",
       "    </tr>\n",
       "    <tr>\n",
       "      <th>6</th>\n",
       "      <td>Cote d'Ivoire</td>\n",
       "      <td>69.34188843</td>\n",
       "    </tr>\n",
       "    <tr>\n",
       "      <th>7</th>\n",
       "      <td>Chad</td>\n",
       "      <td>29.49969864</td>\n",
       "    </tr>\n",
       "    <tr>\n",
       "      <th>9</th>\n",
       "      <td>Gambia, The</td>\n",
       "      <td>22.71026421</td>\n",
       "    </tr>\n",
       "    <tr>\n",
       "      <th>10</th>\n",
       "      <td>Ghana</td>\n",
       "      <td>67.45523071</td>\n",
       "    </tr>\n",
       "    <tr>\n",
       "      <th>11</th>\n",
       "      <td>Guinea-Bissau</td>\n",
       "      <td>50.57252884</td>\n",
       "    </tr>\n",
       "    <tr>\n",
       "      <th>12</th>\n",
       "      <td>Guinea</td>\n",
       "      <td>36.50824356</td>\n",
       "    </tr>\n",
       "    <tr>\n",
       "      <th>13</th>\n",
       "      <td>Lesotho</td>\n",
       "      <td>111.6414261</td>\n",
       "    </tr>\n",
       "    <tr>\n",
       "      <th>14</th>\n",
       "      <td>Madagascar</td>\n",
       "      <td>24.68006706</td>\n",
       "    </tr>\n",
       "    <tr>\n",
       "      <th>15</th>\n",
       "      <td>Malaysia</td>\n",
       "      <td>380.68573</td>\n",
       "    </tr>\n",
       "    <tr>\n",
       "      <th>16</th>\n",
       "      <td>Niger</td>\n",
       "      <td>28.80011749</td>\n",
       "    </tr>\n",
       "    <tr>\n",
       "      <th>17</th>\n",
       "      <td>Papua New Guinea</td>\n",
       "      <td>60.09675598</td>\n",
       "    </tr>\n",
       "    <tr>\n",
       "      <th>18</th>\n",
       "      <td>Philippines</td>\n",
       "      <td>132.5789642</td>\n",
       "    </tr>\n",
       "    <tr>\n",
       "      <th>19</th>\n",
       "      <td>Sao Tome and Principe</td>\n",
       "      <td>117.0106812</td>\n",
       "    </tr>\n",
       "    <tr>\n",
       "      <th>20</th>\n",
       "      <td>Sierra Leone</td>\n",
       "      <td>82.54949188</td>\n",
       "    </tr>\n",
       "    <tr>\n",
       "      <th>21</th>\n",
       "      <td>Solomon Islands</td>\n",
       "      <td>97.43276978</td>\n",
       "    </tr>\n",
       "    <tr>\n",
       "      <th>24</th>\n",
       "      <td>Zimbabwe</td>\n",
       "      <td>112.7419357</td>\n",
       "    </tr>\n",
       "    <tr>\n",
       "      <th>25</th>\n",
       "      <td>World</td>\n",
       "      <td>1064.73265</td>\n",
       "    </tr>\n",
       "  </tbody>\n",
       "</table>\n",
       "</div>"
      ],
      "text/plain": [
       "                Country Name 2017 [YR2017]\n",
       "0                      Benin   30.05702591\n",
       "1                    Burundi   23.58145905\n",
       "2               Burkina Faso   44.40372086\n",
       "3                   Cameroon   49.64924622\n",
       "4   Central African Republic    29.9801693\n",
       "5           Congo, Dem. Rep.   19.41761589\n",
       "6              Cote d'Ivoire   69.34188843\n",
       "7                       Chad   29.49969864\n",
       "9                Gambia, The   22.71026421\n",
       "10                     Ghana   67.45523071\n",
       "11             Guinea-Bissau   50.57252884\n",
       "12                    Guinea   36.50824356\n",
       "13                   Lesotho   111.6414261\n",
       "14                Madagascar   24.68006706\n",
       "15                  Malaysia     380.68573\n",
       "16                     Niger   28.80011749\n",
       "17          Papua New Guinea   60.09675598\n",
       "18               Philippines   132.5789642\n",
       "19     Sao Tome and Principe   117.0106812\n",
       "20              Sierra Leone   82.54949188\n",
       "21           Solomon Islands   97.43276978\n",
       "24                  Zimbabwe   112.7419357\n",
       "25                     World    1064.73265"
      ]
     },
     "execution_count": 399,
     "metadata": {},
     "output_type": "execute_result"
    }
   ],
   "source": [
    "# Drop all NA's\n",
    "CHE_Per_Capita.dropna()"
   ]
  },
  {
   "cell_type": "code",
   "execution_count": 400,
   "metadata": {},
   "outputs": [],
   "source": [
    "# Set index\n",
    "CHE_df = CHE_Per_Capita.set_index('Country Name')\n"
   ]
  },
  {
   "cell_type": "code",
   "execution_count": 401,
   "metadata": {},
   "outputs": [
    {
     "data": {
      "text/html": [
       "<div>\n",
       "<style scoped>\n",
       "    .dataframe tbody tr th:only-of-type {\n",
       "        vertical-align: middle;\n",
       "    }\n",
       "\n",
       "    .dataframe tbody tr th {\n",
       "        vertical-align: top;\n",
       "    }\n",
       "\n",
       "    .dataframe thead th {\n",
       "        text-align: right;\n",
       "    }\n",
       "</style>\n",
       "<table border=\"1\" class=\"dataframe\">\n",
       "  <thead>\n",
       "    <tr style=\"text-align: right;\">\n",
       "      <th></th>\n",
       "      <th>2017 [YR2017]</th>\n",
       "    </tr>\n",
       "    <tr>\n",
       "      <th>Country Name</th>\n",
       "      <th></th>\n",
       "    </tr>\n",
       "  </thead>\n",
       "  <tbody>\n",
       "    <tr>\n",
       "      <th>Benin</th>\n",
       "      <td>30.05702591</td>\n",
       "    </tr>\n",
       "    <tr>\n",
       "      <th>Burundi</th>\n",
       "      <td>23.58145905</td>\n",
       "    </tr>\n",
       "    <tr>\n",
       "      <th>Burkina Faso</th>\n",
       "      <td>44.40372086</td>\n",
       "    </tr>\n",
       "    <tr>\n",
       "      <th>Cameroon</th>\n",
       "      <td>49.64924622</td>\n",
       "    </tr>\n",
       "    <tr>\n",
       "      <th>Central African Republic</th>\n",
       "      <td>29.9801693</td>\n",
       "    </tr>\n",
       "    <tr>\n",
       "      <th>Congo, Dem. Rep.</th>\n",
       "      <td>19.41761589</td>\n",
       "    </tr>\n",
       "    <tr>\n",
       "      <th>Cote d'Ivoire</th>\n",
       "      <td>69.34188843</td>\n",
       "    </tr>\n",
       "    <tr>\n",
       "      <th>Chad</th>\n",
       "      <td>29.49969864</td>\n",
       "    </tr>\n",
       "    <tr>\n",
       "      <th>Gambia, The</th>\n",
       "      <td>22.71026421</td>\n",
       "    </tr>\n",
       "    <tr>\n",
       "      <th>Ghana</th>\n",
       "      <td>67.45523071</td>\n",
       "    </tr>\n",
       "    <tr>\n",
       "      <th>Guinea-Bissau</th>\n",
       "      <td>50.57252884</td>\n",
       "    </tr>\n",
       "    <tr>\n",
       "      <th>Guinea</th>\n",
       "      <td>36.50824356</td>\n",
       "    </tr>\n",
       "    <tr>\n",
       "      <th>Lesotho</th>\n",
       "      <td>111.6414261</td>\n",
       "    </tr>\n",
       "    <tr>\n",
       "      <th>Madagascar</th>\n",
       "      <td>24.68006706</td>\n",
       "    </tr>\n",
       "    <tr>\n",
       "      <th>Malaysia</th>\n",
       "      <td>380.68573</td>\n",
       "    </tr>\n",
       "    <tr>\n",
       "      <th>Niger</th>\n",
       "      <td>28.80011749</td>\n",
       "    </tr>\n",
       "    <tr>\n",
       "      <th>Papua New Guinea</th>\n",
       "      <td>60.09675598</td>\n",
       "    </tr>\n",
       "    <tr>\n",
       "      <th>Philippines</th>\n",
       "      <td>132.5789642</td>\n",
       "    </tr>\n",
       "    <tr>\n",
       "      <th>Sao Tome and Principe</th>\n",
       "      <td>117.0106812</td>\n",
       "    </tr>\n",
       "    <tr>\n",
       "      <th>Sierra Leone</th>\n",
       "      <td>82.54949188</td>\n",
       "    </tr>\n",
       "    <tr>\n",
       "      <th>Solomon Islands</th>\n",
       "      <td>97.43276978</td>\n",
       "    </tr>\n",
       "    <tr>\n",
       "      <th>Zimbabwe</th>\n",
       "      <td>112.7419357</td>\n",
       "    </tr>\n",
       "    <tr>\n",
       "      <th>World</th>\n",
       "      <td>1064.73265</td>\n",
       "    </tr>\n",
       "  </tbody>\n",
       "</table>\n",
       "</div>"
      ],
      "text/plain": [
       "                         2017 [YR2017]\n",
       "Country Name                          \n",
       "Benin                      30.05702591\n",
       "Burundi                    23.58145905\n",
       "Burkina Faso               44.40372086\n",
       "Cameroon                   49.64924622\n",
       "Central African Republic    29.9801693\n",
       "Congo, Dem. Rep.           19.41761589\n",
       "Cote d'Ivoire              69.34188843\n",
       "Chad                       29.49969864\n",
       "Gambia, The                22.71026421\n",
       "Ghana                      67.45523071\n",
       "Guinea-Bissau              50.57252884\n",
       "Guinea                     36.50824356\n",
       "Lesotho                    111.6414261\n",
       "Madagascar                 24.68006706\n",
       "Malaysia                     380.68573\n",
       "Niger                      28.80011749\n",
       "Papua New Guinea           60.09675598\n",
       "Philippines                132.5789642\n",
       "Sao Tome and Principe      117.0106812\n",
       "Sierra Leone               82.54949188\n",
       "Solomon Islands            97.43276978\n",
       "Zimbabwe                   112.7419357\n",
       "World                       1064.73265"
      ]
     },
     "execution_count": 401,
     "metadata": {},
     "output_type": "execute_result"
    }
   ],
   "source": [
    "# Drop all NA's\n",
    "CHE_df.dropna()"
   ]
  },
  {
   "cell_type": "code",
   "execution_count": 402,
   "metadata": {},
   "outputs": [],
   "source": [
    "# Convert to float\n",
    "CHE_df = CHE_df['2017 [YR2017]'].astype(float)"
   ]
  },
  {
   "cell_type": "code",
   "execution_count": 435,
   "metadata": {},
   "outputs": [
    {
     "data": {
      "application/vnd.holoviews_exec.v0+json": "",
      "text/html": [
       "<div id='3013'>\n",
       "\n",
       "\n",
       "\n",
       "\n",
       "\n",
       "  <div class=\"bk-root\" id=\"8318a2ea-dbb7-447d-8a98-cde4ae659ba9\" data-root-id=\"3013\"></div>\n",
       "</div>\n",
       "<script type=\"application/javascript\">(function(root) {\n",
       "  function embed_document(root) {\n",
       "  var docs_json = {\"cbc85970-0111-4d6d-8711-d0e9d27fc0f3\":{\"roots\":{\"references\":[{\"attributes\":{},\"id\":\"3025\",\"type\":\"LinearScale\"},{\"attributes\":{},\"id\":\"3057\",\"type\":\"BasicTickFormatter\"},{\"attributes\":{},\"id\":\"3064\",\"type\":\"UnionRenderers\"},{\"attributes\":{\"margin\":[5,5,5,5],\"name\":\"HSpacer05861\",\"sizing_mode\":\"stretch_width\"},\"id\":\"3075\",\"type\":\"Spacer\"},{\"attributes\":{\"fill_alpha\":{\"value\":0.2},\"fill_color\":{\"value\":\"#1f77b3\"},\"line_alpha\":{\"value\":0.2},\"top\":{\"field\":\"A_2017_left_square_bracket_YR2017_right_square_bracket\"},\"width\":{\"value\":0.8},\"x\":{\"field\":\"Country_Name\"}},\"id\":\"3052\",\"type\":\"VBar\"},{\"attributes\":{},\"id\":\"3038\",\"type\":\"ResetTool\"},{\"attributes\":{\"data_source\":{\"id\":\"3047\"},\"glyph\":{\"id\":\"3050\"},\"hover_glyph\":null,\"muted_glyph\":{\"id\":\"3052\"},\"nonselection_glyph\":{\"id\":\"3051\"},\"selection_glyph\":null,\"view\":{\"id\":\"3054\"}},\"id\":\"3053\",\"type\":\"GlyphRenderer\"},{\"attributes\":{\"overlay\":{\"id\":\"3039\"}},\"id\":\"3037\",\"type\":\"BoxZoomTool\"},{\"attributes\":{\"axis\":{\"id\":\"3027\"},\"grid_line_color\":null,\"ticker\":null},\"id\":\"3029\",\"type\":\"Grid\"},{\"attributes\":{\"callback\":null,\"renderers\":[{\"id\":\"3053\"}],\"tags\":[\"hv_created\"],\"tooltips\":[[\"Country Name\",\"@{Country_Name}\"],[\"2017 [YR2017]\",\"@{A_2017_left_square_bracket_YR2017_right_square_bracket}\"]]},\"id\":\"3017\",\"type\":\"HoverTool\"},{\"attributes\":{\"text\":\"Health Expenditure Per Capita(USD)\",\"text_color\":{\"value\":\"black\"},\"text_font_size\":{\"value\":\"12pt\"}},\"id\":\"3019\",\"type\":\"Title\"},{\"attributes\":{},\"id\":\"3028\",\"type\":\"CategoricalTicker\"},{\"attributes\":{\"axis_label\":\"\",\"bounds\":\"auto\",\"formatter\":{\"id\":\"3057\"},\"major_label_orientation\":\"horizontal\",\"ticker\":{\"id\":\"3031\"}},\"id\":\"3030\",\"type\":\"LinearAxis\"},{\"attributes\":{\"fill_alpha\":{\"value\":0.1},\"fill_color\":{\"value\":\"#1f77b3\"},\"line_alpha\":{\"value\":0.1},\"top\":{\"field\":\"A_2017_left_square_bracket_YR2017_right_square_bracket\"},\"width\":{\"value\":0.8},\"x\":{\"field\":\"Country_Name\"}},\"id\":\"3051\",\"type\":\"VBar\"},{\"attributes\":{\"source\":{\"id\":\"3047\"}},\"id\":\"3054\",\"type\":\"CDSView\"},{\"attributes\":{},\"id\":\"3023\",\"type\":\"CategoricalScale\"},{\"attributes\":{},\"id\":\"3031\",\"type\":\"BasicTicker\"},{\"attributes\":{\"axis\":{\"id\":\"3030\"},\"dimension\":1,\"grid_line_color\":null,\"ticker\":null},\"id\":\"3033\",\"type\":\"Grid\"},{\"attributes\":{\"active_drag\":\"auto\",\"active_inspect\":\"auto\",\"active_multi\":null,\"active_scroll\":\"auto\",\"active_tap\":\"auto\",\"tools\":[{\"id\":\"3017\"},{\"id\":\"3034\"},{\"id\":\"3035\"},{\"id\":\"3036\"},{\"id\":\"3037\"},{\"id\":\"3038\"}]},\"id\":\"3040\",\"type\":\"Toolbar\"},{\"attributes\":{\"children\":[{\"id\":\"3014\"},{\"id\":\"3018\"},{\"id\":\"3075\"}],\"margin\":[0,0,0,0],\"name\":\"Row05856\",\"tags\":[\"embedded\"]},\"id\":\"3013\",\"type\":\"Row\"},{\"attributes\":{\"bottom_units\":\"screen\",\"fill_alpha\":0.5,\"fill_color\":\"lightgrey\",\"left_units\":\"screen\",\"level\":\"overlay\",\"line_alpha\":1.0,\"line_color\":\"black\",\"line_dash\":[4,4],\"line_width\":2,\"right_units\":\"screen\",\"top_units\":\"screen\"},\"id\":\"3039\",\"type\":\"BoxAnnotation\"},{\"attributes\":{\"margin\":[5,5,5,5],\"name\":\"HSpacer05860\",\"sizing_mode\":\"stretch_width\"},\"id\":\"3014\",\"type\":\"Spacer\"},{\"attributes\":{},\"id\":\"3048\",\"type\":\"Selection\"},{\"attributes\":{\"data\":{\"A_2017_left_square_bracket_YR2017_right_square_bracket\":{\"__ndarray__\":\"gnkCQJkOPkCWthOA2pQ3QN00CSCtM0ZAz/kIgBrTSEAQCxBg7Po9QAbX/d/oajNAxW4CgOFVUUDapwRA7H89QCJ4EeDTtTZAbuX8fyLdUECN6AGgSElJQCJN/h8OQUJAQZMOIA3pW0BwyfXfGK44QC0+BcD4yndA84H0f9TMPEBu5fx/YgxOQMER7t+GkmBApiszAK9AXUAggf3fKqNUQATzBICyW1hACM/f33svXECoNc077qKQQAAAAAAAAPh/AAAAAAAA+H8AAAAAAAD4fwAAAAAAAPh/AAAAAAAA+H8=\",\"dtype\":\"float64\",\"order\":\"little\",\"shape\":[28]},\"Country_Name\":[\"Benin\",\"Burundi\",\"Burkina Faso\",\"Cameroon\",\"Central African Republic\",\"Congo, Dem. Rep.\",\"Cote d'Ivoire\",\"Chad\",\"Gambia, The\",\"Ghana\",\"Guinea-Bissau\",\"Guinea\",\"Lesotho\",\"Madagascar\",\"Malaysia\",\"Niger\",\"Papua New Guinea\",\"Philippines\",\"Sao Tome and Principe\",\"Sierra Leone\",\"Solomon Islands\",\"Zimbabwe\",\"World\",\"nan\",\"nan\",\"nan\",\"nan\",\"nan\"]},\"selected\":{\"id\":\"3048\"},\"selection_policy\":{\"id\":\"3064\"}},\"id\":\"3047\",\"type\":\"ColumnDataSource\"},{\"attributes\":{\"factors\":[\"Benin\",\"Burundi\",\"Burkina Faso\",\"Cameroon\",\"Central African Republic\",\"Congo, Dem. Rep.\",\"Cote d'Ivoire\",\"Chad\",\"Gambia, The\",\"Ghana\",\"Guinea-Bissau\",\"Guinea\",\"Lesotho\",\"Madagascar\",\"Malaysia\",\"Niger\",\"Papua New Guinea\",\"Philippines\",\"Sao Tome and Principe\",\"Sierra Leone\",\"Solomon Islands\",\"Zimbabwe\",\"World\",\"nan\"],\"tags\":[[[\"Country Name\",\"Country Name\",null]]]},\"id\":\"3015\",\"type\":\"FactorRange\"},{\"attributes\":{\"end\":1169.2641534109998,\"reset_end\":1169.2641534109998,\"reset_start\":0.0,\"tags\":[[[\"2017 [YR2017]\",\"2017 [YR2017]\",null]]]},\"id\":\"3016\",\"type\":\"Range1d\"},{\"attributes\":{\"fill_color\":{\"value\":\"#1f77b3\"},\"top\":{\"field\":\"A_2017_left_square_bracket_YR2017_right_square_bracket\"},\"width\":{\"value\":0.8},\"x\":{\"field\":\"Country_Name\"}},\"id\":\"3050\",\"type\":\"VBar\"},{\"attributes\":{},\"id\":\"3034\",\"type\":\"SaveTool\"},{\"attributes\":{\"align\":null,\"below\":[{\"id\":\"3027\"}],\"center\":[{\"id\":\"3029\"},{\"id\":\"3033\"}],\"left\":[{\"id\":\"3030\"}],\"margin\":null,\"min_border_bottom\":10,\"min_border_left\":10,\"min_border_right\":10,\"min_border_top\":10,\"plot_height\":500,\"plot_width\":500,\"renderers\":[{\"id\":\"3053\"}],\"sizing_mode\":\"fixed\",\"title\":{\"id\":\"3019\"},\"toolbar\":{\"id\":\"3040\"},\"x_range\":{\"id\":\"3015\"},\"x_scale\":{\"id\":\"3023\"},\"y_range\":{\"id\":\"3016\"},\"y_scale\":{\"id\":\"3025\"}},\"id\":\"3018\",\"subtype\":\"Figure\",\"type\":\"Plot\"},{\"attributes\":{\"axis_label\":\"Country Name\",\"bounds\":\"auto\",\"formatter\":{\"id\":\"3055\"},\"major_label_orientation\":0.7853981633974483,\"ticker\":{\"id\":\"3028\"}},\"id\":\"3027\",\"type\":\"CategoricalAxis\"},{\"attributes\":{},\"id\":\"3035\",\"type\":\"PanTool\"},{\"attributes\":{},\"id\":\"3036\",\"type\":\"WheelZoomTool\"},{\"attributes\":{},\"id\":\"3055\",\"type\":\"CategoricalTickFormatter\"}],\"root_ids\":[\"3013\"]},\"title\":\"Bokeh Application\",\"version\":\"2.1.1\"}};\n",
       "  var render_items = [{\"docid\":\"cbc85970-0111-4d6d-8711-d0e9d27fc0f3\",\"root_ids\":[\"3013\"],\"roots\":{\"3013\":\"8318a2ea-dbb7-447d-8a98-cde4ae659ba9\"}}];\n",
       "  root.Bokeh.embed.embed_items_notebook(docs_json, render_items);\n",
       "  }\n",
       "if (root.Bokeh !== undefined) {\n",
       "    embed_document(root);\n",
       "  } else {\n",
       "    var attempts = 0;\n",
       "    var timer = setInterval(function(root) {\n",
       "      if (root.Bokeh !== undefined) {\n",
       "        clearInterval(timer);\n",
       "        embed_document(root);\n",
       "      } else if (document.readyState == \"complete\") {\n",
       "        attempts++;\n",
       "        if (attempts > 100) {\n",
       "          clearInterval(timer);\n",
       "          console.log(\"Bokeh: ERROR: Unable to run BokehJS code because BokehJS library is missing\");\n",
       "        }\n",
       "      }\n",
       "    }, 10, root)\n",
       "  }\n",
       "})(window);</script>"
      ],
      "text/plain": [
       ":Bars   [Country Name]   (2017 [YR2017])"
      ]
     },
     "execution_count": 435,
     "metadata": {
      "application/vnd.holoviews_exec.v0+json": {
       "id": "3013"
      }
     },
     "output_type": "execute_result"
    }
   ],
   "source": [
    "# plot Health Expenditure Per Capita (USD)\n",
    "CHE_df.hvplot.bar(x = 'Country Name', y = '2017 [YR2017]', width = 500, height = 500, rot = 45, title = \"Health Expenditure Per Capita(USD)\")"
   ]
  },
  {
   "cell_type": "code",
   "execution_count": 404,
   "metadata": {},
   "outputs": [],
   "source": [
    "# Convert from strings to Dataframe\n",
    "GDP_df = GDP_Per_Capita_df.to_frame()"
   ]
  },
  {
   "cell_type": "code",
   "execution_count": 405,
   "metadata": {},
   "outputs": [],
   "source": [
    "# Convert from strings to Dataframe\n",
    "CHE_P_df = CHE_df.to_frame()"
   ]
  },
  {
   "cell_type": "code",
   "execution_count": 406,
   "metadata": {},
   "outputs": [
    {
     "data": {
      "text/html": [
       "<div>\n",
       "<style scoped>\n",
       "    .dataframe tbody tr th:only-of-type {\n",
       "        vertical-align: middle;\n",
       "    }\n",
       "\n",
       "    .dataframe tbody tr th {\n",
       "        vertical-align: top;\n",
       "    }\n",
       "\n",
       "    .dataframe thead th {\n",
       "        text-align: right;\n",
       "    }\n",
       "</style>\n",
       "<table border=\"1\" class=\"dataframe\">\n",
       "  <thead>\n",
       "    <tr style=\"text-align: right;\">\n",
       "      <th></th>\n",
       "      <th>2017 [YR2017]</th>\n",
       "    </tr>\n",
       "    <tr>\n",
       "      <th>Country Name</th>\n",
       "      <th></th>\n",
       "    </tr>\n",
       "  </thead>\n",
       "  <tbody>\n",
       "    <tr>\n",
       "      <th>Benin</th>\n",
       "      <td>30.057026</td>\n",
       "    </tr>\n",
       "    <tr>\n",
       "      <th>Burundi</th>\n",
       "      <td>23.581459</td>\n",
       "    </tr>\n",
       "    <tr>\n",
       "      <th>Burkina Faso</th>\n",
       "      <td>44.403721</td>\n",
       "    </tr>\n",
       "    <tr>\n",
       "      <th>Cameroon</th>\n",
       "      <td>49.649246</td>\n",
       "    </tr>\n",
       "    <tr>\n",
       "      <th>Central African Republic</th>\n",
       "      <td>29.980169</td>\n",
       "    </tr>\n",
       "    <tr>\n",
       "      <th>Congo, Dem. Rep.</th>\n",
       "      <td>19.417616</td>\n",
       "    </tr>\n",
       "    <tr>\n",
       "      <th>Cote d'Ivoire</th>\n",
       "      <td>69.341888</td>\n",
       "    </tr>\n",
       "    <tr>\n",
       "      <th>Chad</th>\n",
       "      <td>29.499699</td>\n",
       "    </tr>\n",
       "    <tr>\n",
       "      <th>Gambia, The</th>\n",
       "      <td>22.710264</td>\n",
       "    </tr>\n",
       "    <tr>\n",
       "      <th>Ghana</th>\n",
       "      <td>67.455231</td>\n",
       "    </tr>\n",
       "    <tr>\n",
       "      <th>Guinea-Bissau</th>\n",
       "      <td>50.572529</td>\n",
       "    </tr>\n",
       "    <tr>\n",
       "      <th>Guinea</th>\n",
       "      <td>36.508244</td>\n",
       "    </tr>\n",
       "    <tr>\n",
       "      <th>Lesotho</th>\n",
       "      <td>111.641426</td>\n",
       "    </tr>\n",
       "    <tr>\n",
       "      <th>Madagascar</th>\n",
       "      <td>24.680067</td>\n",
       "    </tr>\n",
       "    <tr>\n",
       "      <th>Malaysia</th>\n",
       "      <td>380.685730</td>\n",
       "    </tr>\n",
       "    <tr>\n",
       "      <th>Niger</th>\n",
       "      <td>28.800117</td>\n",
       "    </tr>\n",
       "    <tr>\n",
       "      <th>Papua New Guinea</th>\n",
       "      <td>60.096756</td>\n",
       "    </tr>\n",
       "    <tr>\n",
       "      <th>Philippines</th>\n",
       "      <td>132.578964</td>\n",
       "    </tr>\n",
       "    <tr>\n",
       "      <th>Sao Tome and Principe</th>\n",
       "      <td>117.010681</td>\n",
       "    </tr>\n",
       "    <tr>\n",
       "      <th>Sierra Leone</th>\n",
       "      <td>82.549492</td>\n",
       "    </tr>\n",
       "    <tr>\n",
       "      <th>Solomon Islands</th>\n",
       "      <td>97.432770</td>\n",
       "    </tr>\n",
       "    <tr>\n",
       "      <th>Zimbabwe</th>\n",
       "      <td>112.741936</td>\n",
       "    </tr>\n",
       "    <tr>\n",
       "      <th>World</th>\n",
       "      <td>1064.732650</td>\n",
       "    </tr>\n",
       "  </tbody>\n",
       "</table>\n",
       "</div>"
      ],
      "text/plain": [
       "                          2017 [YR2017]\n",
       "Country Name                           \n",
       "Benin                         30.057026\n",
       "Burundi                       23.581459\n",
       "Burkina Faso                  44.403721\n",
       "Cameroon                      49.649246\n",
       "Central African Republic      29.980169\n",
       "Congo, Dem. Rep.              19.417616\n",
       "Cote d'Ivoire                 69.341888\n",
       "Chad                          29.499699\n",
       "Gambia, The                   22.710264\n",
       "Ghana                         67.455231\n",
       "Guinea-Bissau                 50.572529\n",
       "Guinea                        36.508244\n",
       "Lesotho                      111.641426\n",
       "Madagascar                    24.680067\n",
       "Malaysia                     380.685730\n",
       "Niger                         28.800117\n",
       "Papua New Guinea              60.096756\n",
       "Philippines                  132.578964\n",
       "Sao Tome and Principe        117.010681\n",
       "Sierra Leone                  82.549492\n",
       "Solomon Islands               97.432770\n",
       "Zimbabwe                     112.741936\n",
       "World                       1064.732650"
      ]
     },
     "execution_count": 406,
     "metadata": {},
     "output_type": "execute_result"
    }
   ],
   "source": [
    "# Drop all NA's\n",
    "CHE_P_df.dropna()"
   ]
  },
  {
   "cell_type": "code",
   "execution_count": 407,
   "metadata": {},
   "outputs": [],
   "source": [
    "# Rename column name\n",
    "CHE_P_df.rename({'2017 [YR2017]': 'Health Expenditure'}, axis = 1, inplace = True)"
   ]
  },
  {
   "cell_type": "code",
   "execution_count": 411,
   "metadata": {},
   "outputs": [
    {
     "data": {
      "text/html": [
       "<div>\n",
       "<style scoped>\n",
       "    .dataframe tbody tr th:only-of-type {\n",
       "        vertical-align: middle;\n",
       "    }\n",
       "\n",
       "    .dataframe tbody tr th {\n",
       "        vertical-align: top;\n",
       "    }\n",
       "\n",
       "    .dataframe thead th {\n",
       "        text-align: right;\n",
       "    }\n",
       "</style>\n",
       "<table border=\"1\" class=\"dataframe\">\n",
       "  <thead>\n",
       "    <tr style=\"text-align: right;\">\n",
       "      <th></th>\n",
       "      <th>Health Expenditure</th>\n",
       "    </tr>\n",
       "    <tr>\n",
       "      <th>Country Name</th>\n",
       "      <th></th>\n",
       "    </tr>\n",
       "  </thead>\n",
       "  <tbody>\n",
       "    <tr>\n",
       "      <th>Benin</th>\n",
       "      <td>30.057026</td>\n",
       "    </tr>\n",
       "    <tr>\n",
       "      <th>Burundi</th>\n",
       "      <td>23.581459</td>\n",
       "    </tr>\n",
       "    <tr>\n",
       "      <th>Burkina Faso</th>\n",
       "      <td>44.403721</td>\n",
       "    </tr>\n",
       "    <tr>\n",
       "      <th>Cameroon</th>\n",
       "      <td>49.649246</td>\n",
       "    </tr>\n",
       "    <tr>\n",
       "      <th>Central African Republic</th>\n",
       "      <td>29.980169</td>\n",
       "    </tr>\n",
       "    <tr>\n",
       "      <th>Congo, Dem. Rep.</th>\n",
       "      <td>19.417616</td>\n",
       "    </tr>\n",
       "    <tr>\n",
       "      <th>Cote d'Ivoire</th>\n",
       "      <td>69.341888</td>\n",
       "    </tr>\n",
       "    <tr>\n",
       "      <th>Chad</th>\n",
       "      <td>29.499699</td>\n",
       "    </tr>\n",
       "    <tr>\n",
       "      <th>Gambia, The</th>\n",
       "      <td>22.710264</td>\n",
       "    </tr>\n",
       "    <tr>\n",
       "      <th>Ghana</th>\n",
       "      <td>67.455231</td>\n",
       "    </tr>\n",
       "    <tr>\n",
       "      <th>Guinea-Bissau</th>\n",
       "      <td>50.572529</td>\n",
       "    </tr>\n",
       "    <tr>\n",
       "      <th>Guinea</th>\n",
       "      <td>36.508244</td>\n",
       "    </tr>\n",
       "    <tr>\n",
       "      <th>Lesotho</th>\n",
       "      <td>111.641426</td>\n",
       "    </tr>\n",
       "    <tr>\n",
       "      <th>Madagascar</th>\n",
       "      <td>24.680067</td>\n",
       "    </tr>\n",
       "    <tr>\n",
       "      <th>Malaysia</th>\n",
       "      <td>380.685730</td>\n",
       "    </tr>\n",
       "    <tr>\n",
       "      <th>Niger</th>\n",
       "      <td>28.800117</td>\n",
       "    </tr>\n",
       "    <tr>\n",
       "      <th>Papua New Guinea</th>\n",
       "      <td>60.096756</td>\n",
       "    </tr>\n",
       "    <tr>\n",
       "      <th>Philippines</th>\n",
       "      <td>132.578964</td>\n",
       "    </tr>\n",
       "    <tr>\n",
       "      <th>Sao Tome and Principe</th>\n",
       "      <td>117.010681</td>\n",
       "    </tr>\n",
       "    <tr>\n",
       "      <th>Sierra Leone</th>\n",
       "      <td>82.549492</td>\n",
       "    </tr>\n",
       "    <tr>\n",
       "      <th>Solomon Islands</th>\n",
       "      <td>97.432770</td>\n",
       "    </tr>\n",
       "    <tr>\n",
       "      <th>Zimbabwe</th>\n",
       "      <td>112.741936</td>\n",
       "    </tr>\n",
       "    <tr>\n",
       "      <th>World</th>\n",
       "      <td>1064.732650</td>\n",
       "    </tr>\n",
       "  </tbody>\n",
       "</table>\n",
       "</div>"
      ],
      "text/plain": [
       "                          Health Expenditure\n",
       "Country Name                                \n",
       "Benin                              30.057026\n",
       "Burundi                            23.581459\n",
       "Burkina Faso                       44.403721\n",
       "Cameroon                           49.649246\n",
       "Central African Republic           29.980169\n",
       "Congo, Dem. Rep.                   19.417616\n",
       "Cote d'Ivoire                      69.341888\n",
       "Chad                               29.499699\n",
       "Gambia, The                        22.710264\n",
       "Ghana                              67.455231\n",
       "Guinea-Bissau                      50.572529\n",
       "Guinea                             36.508244\n",
       "Lesotho                           111.641426\n",
       "Madagascar                         24.680067\n",
       "Malaysia                          380.685730\n",
       "Niger                              28.800117\n",
       "Papua New Guinea                   60.096756\n",
       "Philippines                       132.578964\n",
       "Sao Tome and Principe             117.010681\n",
       "Sierra Leone                       82.549492\n",
       "Solomon Islands                    97.432770\n",
       "Zimbabwe                          112.741936\n",
       "World                            1064.732650"
      ]
     },
     "execution_count": 411,
     "metadata": {},
     "output_type": "execute_result"
    }
   ],
   "source": [
    "# Drop all NA's\n",
    "CHE_P_df.dropna()"
   ]
  },
  {
   "cell_type": "code",
   "execution_count": 421,
   "metadata": {},
   "outputs": [],
   "source": [
    "# Merge both dataframes\n",
    "merged_inner = pd.merge(left= GDP_df, right=CHE_P_df, left_on='Country Name', right_on='Country Name')"
   ]
  },
  {
   "cell_type": "code",
   "execution_count": 422,
   "metadata": {},
   "outputs": [
    {
     "data": {
      "text/html": [
       "<div>\n",
       "<style scoped>\n",
       "    .dataframe tbody tr th:only-of-type {\n",
       "        vertical-align: middle;\n",
       "    }\n",
       "\n",
       "    .dataframe tbody tr th {\n",
       "        vertical-align: top;\n",
       "    }\n",
       "\n",
       "    .dataframe thead th {\n",
       "        text-align: right;\n",
       "    }\n",
       "</style>\n",
       "<table border=\"1\" class=\"dataframe\">\n",
       "  <thead>\n",
       "    <tr style=\"text-align: right;\">\n",
       "      <th></th>\n",
       "      <th>2017 [YR2017]</th>\n",
       "      <th>Health Expenditure</th>\n",
       "    </tr>\n",
       "    <tr>\n",
       "      <th>Country Name</th>\n",
       "      <th></th>\n",
       "      <th></th>\n",
       "    </tr>\n",
       "  </thead>\n",
       "  <tbody>\n",
       "    <tr>\n",
       "      <th>Benin</th>\n",
       "      <td>1136.592847</td>\n",
       "      <td>30.057026</td>\n",
       "    </tr>\n",
       "    <tr>\n",
       "      <th>Burundi</th>\n",
       "      <td>292.997631</td>\n",
       "      <td>23.581459</td>\n",
       "    </tr>\n",
       "    <tr>\n",
       "      <th>Burkina Faso</th>\n",
       "      <td>734.994430</td>\n",
       "      <td>44.403721</td>\n",
       "    </tr>\n",
       "    <tr>\n",
       "      <th>Cameroon</th>\n",
       "      <td>1425.107818</td>\n",
       "      <td>49.649246</td>\n",
       "    </tr>\n",
       "    <tr>\n",
       "      <th>Central African Republic</th>\n",
       "      <td>450.900245</td>\n",
       "      <td>29.980169</td>\n",
       "    </tr>\n",
       "    <tr>\n",
       "      <th>Congo, Dem. Rep.</th>\n",
       "      <td>467.074237</td>\n",
       "      <td>19.417616</td>\n",
       "    </tr>\n",
       "    <tr>\n",
       "      <th>Cote d'Ivoire</th>\n",
       "      <td>2111.027076</td>\n",
       "      <td>69.341888</td>\n",
       "    </tr>\n",
       "    <tr>\n",
       "      <th>Chad</th>\n",
       "      <td>665.948353</td>\n",
       "      <td>29.499699</td>\n",
       "    </tr>\n",
       "    <tr>\n",
       "      <th>Gambia, The</th>\n",
       "      <td>679.756914</td>\n",
       "      <td>22.710264</td>\n",
       "    </tr>\n",
       "    <tr>\n",
       "      <th>Ghana</th>\n",
       "      <td>2025.932424</td>\n",
       "      <td>67.455231</td>\n",
       "    </tr>\n",
       "    <tr>\n",
       "      <th>Guinea</th>\n",
       "      <td>855.573640</td>\n",
       "      <td>36.508244</td>\n",
       "    </tr>\n",
       "    <tr>\n",
       "      <th>Guinea-Bissau</th>\n",
       "      <td>738.549945</td>\n",
       "      <td>50.572529</td>\n",
       "    </tr>\n",
       "    <tr>\n",
       "      <th>Lesotho</th>\n",
       "      <td>1150.079174</td>\n",
       "      <td>111.641426</td>\n",
       "    </tr>\n",
       "    <tr>\n",
       "      <th>Madagascar</th>\n",
       "      <td>515.292725</td>\n",
       "      <td>24.680067</td>\n",
       "    </tr>\n",
       "    <tr>\n",
       "      <th>Malaysia</th>\n",
       "      <td>10259.181780</td>\n",
       "      <td>380.685730</td>\n",
       "    </tr>\n",
       "    <tr>\n",
       "      <th>Niger</th>\n",
       "      <td>517.975030</td>\n",
       "      <td>28.800117</td>\n",
       "    </tr>\n",
       "    <tr>\n",
       "      <th>Papua New Guinea</th>\n",
       "      <td>2695.251883</td>\n",
       "      <td>60.096756</td>\n",
       "    </tr>\n",
       "    <tr>\n",
       "      <th>Philippines</th>\n",
       "      <td>3123.234229</td>\n",
       "      <td>132.578964</td>\n",
       "    </tr>\n",
       "    <tr>\n",
       "      <th>Sao Tome and Principe</th>\n",
       "      <td>1813.783235</td>\n",
       "      <td>117.010681</td>\n",
       "    </tr>\n",
       "    <tr>\n",
       "      <th>Sierra Leone</th>\n",
       "      <td>499.380708</td>\n",
       "      <td>82.549492</td>\n",
       "    </tr>\n",
       "    <tr>\n",
       "      <th>Solomon Islands</th>\n",
       "      <td>2332.814874</td>\n",
       "      <td>97.432770</td>\n",
       "    </tr>\n",
       "    <tr>\n",
       "      <th>Zimbabwe</th>\n",
       "      <td>1548.170056</td>\n",
       "      <td>112.741936</td>\n",
       "    </tr>\n",
       "    <tr>\n",
       "      <th>World</th>\n",
       "      <td>10827.703260</td>\n",
       "      <td>1064.732650</td>\n",
       "    </tr>\n",
       "  </tbody>\n",
       "</table>\n",
       "</div>"
      ],
      "text/plain": [
       "                          2017 [YR2017]  Health Expenditure\n",
       "Country Name                                               \n",
       "Benin                       1136.592847           30.057026\n",
       "Burundi                      292.997631           23.581459\n",
       "Burkina Faso                 734.994430           44.403721\n",
       "Cameroon                    1425.107818           49.649246\n",
       "Central African Republic     450.900245           29.980169\n",
       "Congo, Dem. Rep.             467.074237           19.417616\n",
       "Cote d'Ivoire               2111.027076           69.341888\n",
       "Chad                         665.948353           29.499699\n",
       "Gambia, The                  679.756914           22.710264\n",
       "Ghana                       2025.932424           67.455231\n",
       "Guinea                       855.573640           36.508244\n",
       "Guinea-Bissau                738.549945           50.572529\n",
       "Lesotho                     1150.079174          111.641426\n",
       "Madagascar                   515.292725           24.680067\n",
       "Malaysia                   10259.181780          380.685730\n",
       "Niger                        517.975030           28.800117\n",
       "Papua New Guinea            2695.251883           60.096756\n",
       "Philippines                 3123.234229          132.578964\n",
       "Sao Tome and Principe       1813.783235          117.010681\n",
       "Sierra Leone                 499.380708           82.549492\n",
       "Solomon Islands             2332.814874           97.432770\n",
       "Zimbabwe                    1548.170056          112.741936\n",
       "World                      10827.703260         1064.732650"
      ]
     },
     "execution_count": 422,
     "metadata": {},
     "output_type": "execute_result"
    }
   ],
   "source": [
    "merged_inner"
   ]
  },
  {
   "cell_type": "code",
   "execution_count": null,
   "metadata": {},
   "outputs": [],
   "source": []
  },
  {
   "cell_type": "code",
   "execution_count": 438,
   "metadata": {},
   "outputs": [
    {
     "data": {
      "application/vnd.holoviews_exec.v0+json": "",
      "text/html": [
       "<div id='3553'>\n",
       "\n",
       "\n",
       "\n",
       "\n",
       "\n",
       "  <div class=\"bk-root\" id=\"34dc079e-8f50-45fc-9257-e37e7d259437\" data-root-id=\"3553\"></div>\n",
       "</div>\n",
       "<script type=\"application/javascript\">(function(root) {\n",
       "  function embed_document(root) {\n",
       "  var docs_json = {\"97b05be5-4df9-4e42-bed2-253f3cd1b775\":{\"roots\":{\"references\":[{\"attributes\":{},\"id\":\"3566\",\"type\":\"LinearScale\"},{\"attributes\":{\"label\":{\"value\":\"GDP Per Capita\"},\"renderers\":[{\"id\":\"3598\"}]},\"id\":\"3609\",\"type\":\"LegendItem\"},{\"attributes\":{},\"id\":\"3579\",\"type\":\"ResetTool\"},{\"attributes\":{\"data\":{\"A_2017_left_square_bracket_YR2017_right_square_bracket\":{\"__ndarray__\":\"gnkCQJkOPkCWthOA2pQ3QN00CSCtM0ZAz/kIgBrTSEAQCxBg7Po9QAbX/d/oajNAxW4CgOFVUUDapwRA7H89QCJ4EeDTtTZAbuX8fyLdUECN6AGgSElJQCJN/h8OQUJAQZMOIA3pW0BwyfXfGK44QC0+BcD4yndA84H0f9TMPEBu5fx/YgxOQMER7t+GkmBApiszAK9AXUAggf3fKqNUQATzBICyW1hACM/f33svXECoNc077qKQQAAAAAAAAPh/AAAAAAAA+H8AAAAAAAD4fwAAAAAAAPh/AAAAAAAA+H8=\",\"dtype\":\"float64\",\"order\":\"little\",\"shape\":[28]},\"Country_Name\":[\"Benin\",\"Burundi\",\"Burkina Faso\",\"Cameroon\",\"Central African Republic\",\"Congo, Dem. Rep.\",\"Cote d'Ivoire\",\"Chad\",\"Gambia, The\",\"Ghana\",\"Guinea-Bissau\",\"Guinea\",\"Lesotho\",\"Madagascar\",\"Malaysia\",\"Niger\",\"Papua New Guinea\",\"Philippines\",\"Sao Tome and Principe\",\"Sierra Leone\",\"Solomon Islands\",\"Zimbabwe\",\"World\",\"nan\",\"nan\",\"nan\",\"nan\",\"nan\"]},\"selected\":{\"id\":\"3611\"},\"selection_policy\":{\"id\":\"3625\"}},\"id\":\"3610\",\"type\":\"ColumnDataSource\"},{\"attributes\":{\"axis_label\":\"Country Name\",\"bounds\":\"auto\",\"formatter\":{\"id\":\"3588\"},\"major_label_orientation\":0.7853981633974483,\"ticker\":{\"id\":\"3569\"}},\"id\":\"3568\",\"type\":\"CategoricalAxis\"},{\"attributes\":{\"margin\":[5,5,5,5],\"name\":\"HSpacer07278\",\"sizing_mode\":\"stretch_width\"},\"id\":\"3554\",\"type\":\"Spacer\"},{\"attributes\":{},\"id\":\"3611\",\"type\":\"Selection\"},{\"attributes\":{\"overlay\":{\"id\":\"3580\"}},\"id\":\"3578\",\"type\":\"BoxZoomTool\"},{\"attributes\":{},\"id\":\"3593\",\"type\":\"Selection\"},{\"attributes\":{\"margin\":[5,5,5,5],\"name\":\"HSpacer07279\",\"sizing_mode\":\"stretch_width\"},\"id\":\"3719\",\"type\":\"Spacer\"},{\"attributes\":{},\"id\":\"3564\",\"type\":\"CategoricalScale\"},{\"attributes\":{\"fill_color\":{\"value\":\"red\"},\"top\":{\"field\":\"A_2017_left_square_bracket_YR2017_right_square_bracket\"},\"width\":{\"value\":0.8},\"x\":{\"field\":\"Country_Name\"}},\"id\":\"3613\",\"type\":\"VBar\"},{\"attributes\":{\"source\":{\"id\":\"3592\"}},\"id\":\"3599\",\"type\":\"CDSView\"},{\"attributes\":{},\"id\":\"3577\",\"type\":\"WheelZoomTool\"},{\"attributes\":{},\"id\":\"3590\",\"type\":\"BasicTickFormatter\"},{\"attributes\":{},\"id\":\"3588\",\"type\":\"CategoricalTickFormatter\"},{\"attributes\":{\"fill_alpha\":{\"value\":0.2},\"fill_color\":{\"value\":\"red\"},\"line_alpha\":{\"value\":0.2},\"top\":{\"field\":\"A_2017_left_square_bracket_YR2017_right_square_bracket\"},\"width\":{\"value\":0.8},\"x\":{\"field\":\"Country_Name\"}},\"id\":\"3615\",\"type\":\"VBar\"},{\"attributes\":{},\"id\":\"3576\",\"type\":\"PanTool\"},{\"attributes\":{},\"id\":\"3572\",\"type\":\"BasicTicker\"},{\"attributes\":{\"click_policy\":\"mute\",\"items\":[{\"id\":\"3609\"},{\"id\":\"3628\"}],\"location\":[0,0]},\"id\":\"3608\",\"type\":\"Legend\"},{\"attributes\":{},\"id\":\"3575\",\"type\":\"SaveTool\"},{\"attributes\":{\"data\":{\"A_2017_left_square_bracket_YR2017_right_square_bracket\":{\"__ndarray__\":\"ILJIE1/CkUDF35tL9k9yQFhpnJf094ZArn/XZ25ElkAzFk1nZy58QDAqqRMwMX1AA83n3A1+oECWvPA5ls+EQBRf7SgOPoVABmhbzbqnn0ByEYTQlryKQNEAg0lmFIdAxjL9ElH4kUDNASeAVxqAQIkpkUSXCcRA7cCU3MwvgEDW/s72gA6lQI0N3ex3ZqhAVRhbCCJXnEBQ5Q9hFzZ/QLk4KjehOaJA9PkoI64wmEBLdmwE2iXFQA==\",\"dtype\":\"float64\",\"order\":\"little\",\"shape\":[23]},\"Country_Name\":[\"Benin\",\"Burundi\",\"Burkina Faso\",\"Cameroon\",\"Central African Republic\",\"Congo, Dem. Rep.\",\"Cote d'Ivoire\",\"Chad\",\"Gambia, The\",\"Ghana\",\"Guinea\",\"Guinea-Bissau\",\"Lesotho\",\"Madagascar\",\"Malaysia\",\"Niger\",\"Papua New Guinea\",\"Philippines\",\"Sao Tome and Principe\",\"Sierra Leone\",\"Solomon Islands\",\"Zimbabwe\",\"World\"]},\"selected\":{\"id\":\"3593\"},\"selection_policy\":{\"id\":\"3605\"}},\"id\":\"3592\",\"type\":\"ColumnDataSource\"},{\"attributes\":{\"source\":{\"id\":\"3610\"}},\"id\":\"3617\",\"type\":\"CDSView\"},{\"attributes\":{\"factors\":[\"Benin\",\"Burundi\",\"Burkina Faso\",\"Cameroon\",\"Central African Republic\",\"Congo, Dem. Rep.\",\"Cote d'Ivoire\",\"Chad\",\"Gambia, The\",\"Ghana\",\"Guinea\",\"Guinea-Bissau\",\"Lesotho\",\"Madagascar\",\"Malaysia\",\"Niger\",\"Papua New Guinea\",\"Philippines\",\"Sao Tome and Principe\",\"Sierra Leone\",\"Solomon Islands\",\"Zimbabwe\",\"World\",\"nan\"],\"tags\":[[[\"Country Name\",\"Country Name\",null]]]},\"id\":\"3555\",\"type\":\"FactorRange\"},{\"attributes\":{},\"id\":\"3625\",\"type\":\"UnionRenderers\"},{\"attributes\":{\"axis\":{\"id\":\"3568\"},\"grid_line_color\":null,\"ticker\":null},\"id\":\"3570\",\"type\":\"Grid\"},{\"attributes\":{\"fill_alpha\":{\"value\":0.1},\"fill_color\":{\"value\":\"green\"},\"line_alpha\":{\"value\":0.1},\"top\":{\"field\":\"A_2017_left_square_bracket_YR2017_right_square_bracket\"},\"width\":{\"value\":0.8},\"x\":{\"field\":\"Country_Name\"}},\"id\":\"3596\",\"type\":\"VBar\"},{\"attributes\":{},\"id\":\"3605\",\"type\":\"UnionRenderers\"},{\"attributes\":{\"end\":11908.531824411,\"reset_end\":11908.531824411,\"reset_start\":0.0,\"tags\":[[[\"2017 [YR2017]\",\"2017 [YR2017]\",null]]]},\"id\":\"3556\",\"type\":\"Range1d\"},{\"attributes\":{\"data_source\":{\"id\":\"3592\"},\"glyph\":{\"id\":\"3595\"},\"hover_glyph\":null,\"muted_glyph\":{\"id\":\"3597\"},\"nonselection_glyph\":{\"id\":\"3596\"},\"selection_glyph\":null,\"view\":{\"id\":\"3599\"}},\"id\":\"3598\",\"type\":\"GlyphRenderer\"},{\"attributes\":{\"fill_alpha\":{\"value\":0.2},\"fill_color\":{\"value\":\"green\"},\"line_alpha\":{\"value\":0.2},\"top\":{\"field\":\"A_2017_left_square_bracket_YR2017_right_square_bracket\"},\"width\":{\"value\":0.8},\"x\":{\"field\":\"Country_Name\"}},\"id\":\"3597\",\"type\":\"VBar\"},{\"attributes\":{\"axis_label\":\"\",\"bounds\":\"auto\",\"formatter\":{\"id\":\"3590\"},\"major_label_orientation\":\"horizontal\",\"ticker\":{\"id\":\"3572\"}},\"id\":\"3571\",\"type\":\"LinearAxis\"},{\"attributes\":{\"axis\":{\"id\":\"3571\"},\"dimension\":1,\"grid_line_color\":null,\"ticker\":null},\"id\":\"3574\",\"type\":\"Grid\"},{\"attributes\":{\"fill_color\":{\"value\":\"green\"},\"top\":{\"field\":\"A_2017_left_square_bracket_YR2017_right_square_bracket\"},\"width\":{\"value\":0.8},\"x\":{\"field\":\"Country_Name\"}},\"id\":\"3595\",\"type\":\"VBar\"},{\"attributes\":{\"active_drag\":\"auto\",\"active_inspect\":\"auto\",\"active_multi\":null,\"active_scroll\":\"auto\",\"active_tap\":\"auto\",\"tools\":[{\"id\":\"3557\"},{\"id\":\"3575\"},{\"id\":\"3576\"},{\"id\":\"3577\"},{\"id\":\"3578\"},{\"id\":\"3579\"}]},\"id\":\"3581\",\"type\":\"Toolbar\"},{\"attributes\":{\"align\":null,\"below\":[{\"id\":\"3568\"}],\"center\":[{\"id\":\"3570\"},{\"id\":\"3574\"}],\"left\":[{\"id\":\"3571\"}],\"margin\":null,\"min_border_bottom\":10,\"min_border_left\":10,\"min_border_right\":10,\"min_border_top\":10,\"plot_width\":800,\"renderers\":[{\"id\":\"3598\"},{\"id\":\"3616\"}],\"right\":[{\"id\":\"3608\"}],\"sizing_mode\":\"fixed\",\"title\":{\"id\":\"3560\"},\"toolbar\":{\"id\":\"3581\"},\"x_range\":{\"id\":\"3555\"},\"x_scale\":{\"id\":\"3564\"},\"y_range\":{\"id\":\"3556\"},\"y_scale\":{\"id\":\"3566\"}},\"id\":\"3559\",\"subtype\":\"Figure\",\"type\":\"Plot\"},{\"attributes\":{\"data_source\":{\"id\":\"3610\"},\"glyph\":{\"id\":\"3613\"},\"hover_glyph\":null,\"muted_glyph\":{\"id\":\"3615\"},\"nonselection_glyph\":{\"id\":\"3614\"},\"selection_glyph\":null,\"view\":{\"id\":\"3617\"}},\"id\":\"3616\",\"type\":\"GlyphRenderer\"},{\"attributes\":{\"label\":{\"value\":\"Health Expenditure Per Capita\"},\"renderers\":[{\"id\":\"3616\"}]},\"id\":\"3628\",\"type\":\"LegendItem\"},{\"attributes\":{\"fill_alpha\":{\"value\":0.1},\"fill_color\":{\"value\":\"red\"},\"line_alpha\":{\"value\":0.1},\"top\":{\"field\":\"A_2017_left_square_bracket_YR2017_right_square_bracket\"},\"width\":{\"value\":0.8},\"x\":{\"field\":\"Country_Name\"}},\"id\":\"3614\",\"type\":\"VBar\"},{\"attributes\":{\"children\":[{\"id\":\"3554\"},{\"id\":\"3559\"},{\"id\":\"3719\"}],\"margin\":[0,0,0,0],\"name\":\"Row07274\",\"tags\":[\"embedded\"]},\"id\":\"3553\",\"type\":\"Row\"},{\"attributes\":{\"text\":\"Health Expenditure per Capita / GDP Per Capita (USD)\",\"text_color\":{\"value\":\"black\"},\"text_font_size\":{\"value\":\"12pt\"}},\"id\":\"3560\",\"type\":\"Title\"},{\"attributes\":{\"bottom_units\":\"screen\",\"fill_alpha\":0.5,\"fill_color\":\"lightgrey\",\"left_units\":\"screen\",\"level\":\"overlay\",\"line_alpha\":1.0,\"line_color\":\"black\",\"line_dash\":[4,4],\"line_width\":2,\"right_units\":\"screen\",\"top_units\":\"screen\"},\"id\":\"3580\",\"type\":\"BoxAnnotation\"},{\"attributes\":{\"callback\":null,\"renderers\":[{\"id\":\"3598\"},{\"id\":\"3616\"}],\"tags\":[\"hv_created\"],\"tooltips\":[[\"Country Name\",\"@{Country_Name}\"],[\"2017 [YR2017]\",\"@{A_2017_left_square_bracket_YR2017_right_square_bracket}\"]]},\"id\":\"3557\",\"type\":\"HoverTool\"},{\"attributes\":{},\"id\":\"3569\",\"type\":\"CategoricalTicker\"}],\"root_ids\":[\"3553\"]},\"title\":\"Bokeh Application\",\"version\":\"2.1.1\"}};\n",
       "  var render_items = [{\"docid\":\"97b05be5-4df9-4e42-bed2-253f3cd1b775\",\"root_ids\":[\"3553\"],\"roots\":{\"3553\":\"34dc079e-8f50-45fc-9257-e37e7d259437\"}}];\n",
       "  root.Bokeh.embed.embed_items_notebook(docs_json, render_items);\n",
       "  }\n",
       "if (root.Bokeh !== undefined) {\n",
       "    embed_document(root);\n",
       "  } else {\n",
       "    var attempts = 0;\n",
       "    var timer = setInterval(function(root) {\n",
       "      if (root.Bokeh !== undefined) {\n",
       "        clearInterval(timer);\n",
       "        embed_document(root);\n",
       "      } else if (document.readyState == \"complete\") {\n",
       "        attempts++;\n",
       "        if (attempts > 100) {\n",
       "          clearInterval(timer);\n",
       "          console.log(\"Bokeh: ERROR: Unable to run BokehJS code because BokehJS library is missing\");\n",
       "        }\n",
       "      }\n",
       "    }, 10, root)\n",
       "  }\n",
       "})(window);</script>"
      ],
      "text/plain": [
       ":Overlay\n",
       "   .Bars.GDP_Per_Capita                :Bars   [Country Name]   (2017 [YR2017])\n",
       "   .Bars.Health_Expenditure_Per_Capita :Bars   [Country Name]   (2017 [YR2017])"
      ]
     },
     "execution_count": 438,
     "metadata": {
      "application/vnd.holoviews_exec.v0+json": {
       "id": "3553"
      }
     },
     "output_type": "execute_result"
    }
   ],
   "source": [
    "# Plot a comparison bar chart\n",
    "GDP_Per_Capita_df.hvplot.bar(x = 'Country Name', y = '2017 [YR2017]', width = 800, height = 600, rot = 45, title = \"Health Expenditure per Capita / GDP Per Capita (USD)\", label = 'GDP Per Capita').opts(color = 'green') * CHE_df.hvplot.bar(x = 'Country Name', y = '2017 [YR2017]', width = 500, height = 500, rot = 45, title = \"GDP Per Capita(USD)\", label = 'Health Expenditure Per Capita').opts(color = 'red') "
   ]
  },
  {
   "cell_type": "code",
   "execution_count": 433,
   "metadata": {},
   "outputs": [],
   "source": [
    "# Find percent \n",
    "merged_inner['percent'] = (merged_inner['Health Expenditure'] / \n",
    "                  merged_inner['2017 [YR2017]']) * 100"
   ]
  },
  {
   "cell_type": "code",
   "execution_count": 434,
   "metadata": {},
   "outputs": [
    {
     "data": {
      "text/html": [
       "<div>\n",
       "<style scoped>\n",
       "    .dataframe tbody tr th:only-of-type {\n",
       "        vertical-align: middle;\n",
       "    }\n",
       "\n",
       "    .dataframe tbody tr th {\n",
       "        vertical-align: top;\n",
       "    }\n",
       "\n",
       "    .dataframe thead th {\n",
       "        text-align: right;\n",
       "    }\n",
       "</style>\n",
       "<table border=\"1\" class=\"dataframe\">\n",
       "  <thead>\n",
       "    <tr style=\"text-align: right;\">\n",
       "      <th></th>\n",
       "      <th>2017 [YR2017]</th>\n",
       "      <th>Health Expenditure</th>\n",
       "      <th>percent</th>\n",
       "    </tr>\n",
       "    <tr>\n",
       "      <th>Country Name</th>\n",
       "      <th></th>\n",
       "      <th></th>\n",
       "      <th></th>\n",
       "    </tr>\n",
       "  </thead>\n",
       "  <tbody>\n",
       "    <tr>\n",
       "      <th>Benin</th>\n",
       "      <td>1136.592847</td>\n",
       "      <td>30.057026</td>\n",
       "      <td>2.644485</td>\n",
       "    </tr>\n",
       "    <tr>\n",
       "      <th>Burundi</th>\n",
       "      <td>292.997631</td>\n",
       "      <td>23.581459</td>\n",
       "      <td>8.048345</td>\n",
       "    </tr>\n",
       "    <tr>\n",
       "      <th>Burkina Faso</th>\n",
       "      <td>734.994430</td>\n",
       "      <td>44.403721</td>\n",
       "      <td>6.041368</td>\n",
       "    </tr>\n",
       "    <tr>\n",
       "      <th>Cameroon</th>\n",
       "      <td>1425.107818</td>\n",
       "      <td>49.649246</td>\n",
       "      <td>3.483894</td>\n",
       "    </tr>\n",
       "    <tr>\n",
       "      <th>Central African Republic</th>\n",
       "      <td>450.900245</td>\n",
       "      <td>29.980169</td>\n",
       "      <td>6.648958</td>\n",
       "    </tr>\n",
       "    <tr>\n",
       "      <th>Congo, Dem. Rep.</th>\n",
       "      <td>467.074237</td>\n",
       "      <td>19.417616</td>\n",
       "      <td>4.157287</td>\n",
       "    </tr>\n",
       "    <tr>\n",
       "      <th>Cote d'Ivoire</th>\n",
       "      <td>2111.027076</td>\n",
       "      <td>69.341888</td>\n",
       "      <td>3.284747</td>\n",
       "    </tr>\n",
       "    <tr>\n",
       "      <th>Chad</th>\n",
       "      <td>665.948353</td>\n",
       "      <td>29.499699</td>\n",
       "      <td>4.429728</td>\n",
       "    </tr>\n",
       "    <tr>\n",
       "      <th>Gambia, The</th>\n",
       "      <td>679.756914</td>\n",
       "      <td>22.710264</td>\n",
       "      <td>3.340939</td>\n",
       "    </tr>\n",
       "    <tr>\n",
       "      <th>Ghana</th>\n",
       "      <td>2025.932424</td>\n",
       "      <td>67.455231</td>\n",
       "      <td>3.329589</td>\n",
       "    </tr>\n",
       "    <tr>\n",
       "      <th>Guinea</th>\n",
       "      <td>855.573640</td>\n",
       "      <td>36.508244</td>\n",
       "      <td>4.267107</td>\n",
       "    </tr>\n",
       "    <tr>\n",
       "      <th>Guinea-Bissau</th>\n",
       "      <td>738.549945</td>\n",
       "      <td>50.572529</td>\n",
       "      <td>6.847544</td>\n",
       "    </tr>\n",
       "    <tr>\n",
       "      <th>Lesotho</th>\n",
       "      <td>1150.079174</td>\n",
       "      <td>111.641426</td>\n",
       "      <td>9.707282</td>\n",
       "    </tr>\n",
       "    <tr>\n",
       "      <th>Madagascar</th>\n",
       "      <td>515.292725</td>\n",
       "      <td>24.680067</td>\n",
       "      <td>4.789524</td>\n",
       "    </tr>\n",
       "    <tr>\n",
       "      <th>Malaysia</th>\n",
       "      <td>10259.181780</td>\n",
       "      <td>380.685730</td>\n",
       "      <td>3.710683</td>\n",
       "    </tr>\n",
       "    <tr>\n",
       "      <th>Niger</th>\n",
       "      <td>517.975030</td>\n",
       "      <td>28.800117</td>\n",
       "      <td>5.560136</td>\n",
       "    </tr>\n",
       "    <tr>\n",
       "      <th>Papua New Guinea</th>\n",
       "      <td>2695.251883</td>\n",
       "      <td>60.096756</td>\n",
       "      <td>2.229727</td>\n",
       "    </tr>\n",
       "    <tr>\n",
       "      <th>Philippines</th>\n",
       "      <td>3123.234229</td>\n",
       "      <td>132.578964</td>\n",
       "      <td>4.244925</td>\n",
       "    </tr>\n",
       "    <tr>\n",
       "      <th>Sao Tome and Principe</th>\n",
       "      <td>1813.783235</td>\n",
       "      <td>117.010681</td>\n",
       "      <td>6.451194</td>\n",
       "    </tr>\n",
       "    <tr>\n",
       "      <th>Sierra Leone</th>\n",
       "      <td>499.380708</td>\n",
       "      <td>82.549492</td>\n",
       "      <td>16.530373</td>\n",
       "    </tr>\n",
       "    <tr>\n",
       "      <th>Solomon Islands</th>\n",
       "      <td>2332.814874</td>\n",
       "      <td>97.432770</td>\n",
       "      <td>4.176618</td>\n",
       "    </tr>\n",
       "    <tr>\n",
       "      <th>Zimbabwe</th>\n",
       "      <td>1548.170056</td>\n",
       "      <td>112.741936</td>\n",
       "      <td>7.282271</td>\n",
       "    </tr>\n",
       "    <tr>\n",
       "      <th>World</th>\n",
       "      <td>10827.703260</td>\n",
       "      <td>1064.732650</td>\n",
       "      <td>9.833412</td>\n",
       "    </tr>\n",
       "  </tbody>\n",
       "</table>\n",
       "</div>"
      ],
      "text/plain": [
       "                          2017 [YR2017]  Health Expenditure    percent\n",
       "Country Name                                                          \n",
       "Benin                       1136.592847           30.057026   2.644485\n",
       "Burundi                      292.997631           23.581459   8.048345\n",
       "Burkina Faso                 734.994430           44.403721   6.041368\n",
       "Cameroon                    1425.107818           49.649246   3.483894\n",
       "Central African Republic     450.900245           29.980169   6.648958\n",
       "Congo, Dem. Rep.             467.074237           19.417616   4.157287\n",
       "Cote d'Ivoire               2111.027076           69.341888   3.284747\n",
       "Chad                         665.948353           29.499699   4.429728\n",
       "Gambia, The                  679.756914           22.710264   3.340939\n",
       "Ghana                       2025.932424           67.455231   3.329589\n",
       "Guinea                       855.573640           36.508244   4.267107\n",
       "Guinea-Bissau                738.549945           50.572529   6.847544\n",
       "Lesotho                     1150.079174          111.641426   9.707282\n",
       "Madagascar                   515.292725           24.680067   4.789524\n",
       "Malaysia                   10259.181780          380.685730   3.710683\n",
       "Niger                        517.975030           28.800117   5.560136\n",
       "Papua New Guinea            2695.251883           60.096756   2.229727\n",
       "Philippines                 3123.234229          132.578964   4.244925\n",
       "Sao Tome and Principe       1813.783235          117.010681   6.451194\n",
       "Sierra Leone                 499.380708           82.549492  16.530373\n",
       "Solomon Islands             2332.814874           97.432770   4.176618\n",
       "Zimbabwe                    1548.170056          112.741936   7.282271\n",
       "World                      10827.703260         1064.732650   9.833412"
      ]
     },
     "execution_count": 434,
     "metadata": {},
     "output_type": "execute_result"
    }
   ],
   "source": [
    "merged_inner"
   ]
  },
  {
   "cell_type": "code",
   "execution_count": null,
   "metadata": {},
   "outputs": [],
   "source": [
    "# Mean (SD) Laboratory cost (2013): $7.34(12.94)\n",
    "# Inflation = 5.22%\n",
    "# Actual cost : $7.72"
   ]
  },
  {
   "cell_type": "code",
   "execution_count": null,
   "metadata": {},
   "outputs": [],
   "source": [
    "# In 2017 alone 2.56 million people died from pneumonia  "
   ]
  },
  {
   "cell_type": "code",
   "execution_count": null,
   "metadata": {},
   "outputs": [],
   "source": [
    "# Lack of clinical expertise makes it harder for countries to decrease their death rate already \n",
    "# Our Machine Learning Model will not only give an accurate diagnostic results but will also save $7.72 per patient \n",
    "# Lets put it in perspective\n",
    "# For every 100,000,000 cases, it will save $772,000,000. \n",
    "# It can then be used in research and development of better treatment of pneumonia worldwide rather than spending it on a clinical laboratory test  "
   ]
  },
  {
   "cell_type": "code",
   "execution_count": null,
   "metadata": {},
   "outputs": [],
   "source": []
  }
 ],
 "metadata": {
  "kernelspec": {
   "display_name": "Python [conda env:pyvizenv]",
   "language": "python",
   "name": "conda-env-pyvizenv-py"
  },
  "language_info": {
   "codemirror_mode": {
    "name": "ipython",
    "version": 3
   },
   "file_extension": ".py",
   "mimetype": "text/x-python",
   "name": "python",
   "nbconvert_exporter": "python",
   "pygments_lexer": "ipython3",
   "version": "3.7.7"
  }
 },
 "nbformat": 4,
 "nbformat_minor": 4
}
